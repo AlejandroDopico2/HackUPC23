{
  "cells": [
    {
      "cell_type": "code",
      "execution_count": 369,
      "metadata": {
        "id": "E1rqi4_QOX_D"
      },
      "outputs": [],
      "source": [
        "import pandas as pd \n",
        "import matplotlib.pyplot as plt\n",
        "import seaborn as sns\n",
        "import numpy as np\n",
        "import os \n",
        "import copy\n",
        "from datetime import datetime, timedelta"
      ]
    },
    {
      "cell_type": "markdown",
      "metadata": {
        "id": "-lB6Fk8ur7cy"
      },
      "source": [
        "# Nueva sección"
      ]
    },
    {
      "cell_type": "code",
      "execution_count": 370,
      "metadata": {
        "id": "iUwhnV4fPK49"
      },
      "outputs": [],
      "source": [
        "train_df = pd.read_csv('train.csv')"
      ]
    },
    {
      "cell_type": "code",
      "execution_count": 371,
      "metadata": {
        "colab": {
          "base_uri": "https://localhost:8080/"
        },
        "id": "NOyjAWOLPR68",
        "outputId": "5d0e71cf-9002-4fc0-ee29-1f7c0d2cc784"
      },
      "outputs": [
        {
          "output_type": "execute_result",
          "data": {
            "text/plain": [
              "id                  object\n",
              "date                object\n",
              "year_week            int64\n",
              "product_number       int64\n",
              "reporterhq_id        int64\n",
              "prod_category       object\n",
              "specs                int64\n",
              "display_size       float64\n",
              "segment             object\n",
              "sales_units        float64\n",
              "inventory_units    float64\n",
              "dtype: object"
            ]
          },
          "metadata": {},
          "execution_count": 371
        }
      ],
      "source": [
        "train_df.dtypes"
      ]
    },
    {
      "cell_type": "code",
      "execution_count": 372,
      "metadata": {
        "colab": {
          "base_uri": "https://localhost:8080/"
        },
        "id": "xp8F8L8ZPZwj",
        "outputId": "88cc3f1b-32de-4414-d769-aabfee984fd3"
      },
      "outputs": [
        {
          "output_type": "execute_result",
          "data": {
            "text/plain": [
              "id                   0\n",
              "date                 0\n",
              "year_week            0\n",
              "product_number       0\n",
              "reporterhq_id        0\n",
              "prod_category        0\n",
              "specs                0\n",
              "display_size         0\n",
              "segment              0\n",
              "sales_units        491\n",
              "inventory_units    493\n",
              "dtype: int64"
            ]
          },
          "metadata": {},
          "execution_count": 372
        }
      ],
      "source": [
        "train_df.isna().sum()"
      ]
    },
    {
      "cell_type": "code",
      "execution_count": 373,
      "metadata": {
        "colab": {
          "base_uri": "https://localhost:8080/"
        },
        "id": "7fDBGFbXQ1tY",
        "outputId": "61242a8e-fb75-4ca2-86ef-ebba19753459"
      },
      "outputs": [
        {
          "output_type": "stream",
          "name": "stdout",
          "text": [
            "Existen 0 columnas duplicadas\n"
          ]
        }
      ],
      "source": [
        "subset = train_df[[\"id\", \"reporterhq_id\"]]\n",
        "dup = np.sum(subset.duplicated())\n",
        "print(f\"Existen {dup} columnas duplicadas\")"
      ]
    },
    {
      "cell_type": "code",
      "execution_count": 374,
      "metadata": {
        "colab": {
          "base_uri": "https://localhost:8080/"
        },
        "id": "H_05Nx28VCRa",
        "outputId": "14bc91e2-9e1c-41c0-9844-c43f666be5a9"
      },
      "outputs": [
        {
          "output_type": "stream",
          "name": "stdout",
          "text": [
            "Un 3.1771709589750223% de sales_unit son nulos y 3.190112592209137% de inventory null\n"
          ]
        }
      ],
      "source": [
        "sales_unit_na= train_df[\"sales_units\"].isna().sum()/train_df.shape[0]\n",
        "inventory_unit_na= train_df[\"inventory_units\"].isna().sum()/train_df.shape[0]\n",
        "\n",
        "print(f\"Un {sales_unit_na*100}% de sales_unit son nulos y {inventory_unit_na*100}% de inventory null\")"
      ]
    },
    {
      "cell_type": "code",
      "execution_count": 375,
      "metadata": {
        "colab": {
          "base_uri": "https://localhost:8080/"
        },
        "id": "2lUc24exTm79",
        "outputId": "ddd48d05-c239-401c-fce5-0c42d552cc5c"
      },
      "outputs": [
        {
          "output_type": "execute_result",
          "data": {
            "text/plain": [
              "id                 0\n",
              "date               0\n",
              "year_week          0\n",
              "product_number     0\n",
              "reporterhq_id      0\n",
              "prod_category      0\n",
              "specs              0\n",
              "display_size       0\n",
              "segment            0\n",
              "sales_units        0\n",
              "inventory_units    0\n",
              "dtype: int64"
            ]
          },
          "metadata": {},
          "execution_count": 375
        }
      ],
      "source": [
        "non_na = train_df.dropna()\n",
        "non_na.isna().sum()"
      ]
    },
    {
      "cell_type": "code",
      "execution_count": 376,
      "metadata": {
        "colab": {
          "base_uri": "https://localhost:8080/",
          "height": 356
        },
        "id": "bI1RSoG6hRYT",
        "outputId": "7ad8eaf3-616e-4874-c23c-088382e309e7"
      },
      "outputs": [
        {
          "output_type": "stream",
          "name": "stderr",
          "text": [
            "<ipython-input-376-40e6df7d8e12>:2: FutureWarning: The default value of numeric_only in DataFrameGroupBy.sum is deprecated. In a future version, numeric_only will default to False. Either specify numeric_only or select only columns which should be valid for the function.\n",
            "  test = test.groupby(\"id\")[[\"id\", \"inventory_units\"]].sum()\n"
          ]
        },
        {
          "output_type": "execute_result",
          "data": {
            "text/plain": [
              "           year_week  product_number          specs  display_size  \\\n",
              "count    7542.000000     7542.000000    7542.000000   7542.000000   \n",
              "mean   202228.855741   126547.873906  110023.623972     15.157704   \n",
              "std        64.456047    80560.155233   63865.270865      1.422126   \n",
              "min    201915.000000     6909.000000     967.000000     11.000000   \n",
              "25%    202210.000000    51324.000000   56086.000000     14.000000   \n",
              "50%    202232.000000   114492.000000  108304.000000     15.600000   \n",
              "75%    202252.000000   201348.000000  155687.000000     15.600000   \n",
              "max    202318.000000   247737.000000  236915.000000     17.300000   \n",
              "\n",
              "       sales_units  inventory_units  \n",
              "count  7542.000000      7542.000000  \n",
              "mean     27.761204       137.733890  \n",
              "std      29.988587       118.812817  \n",
              "min       0.000000         0.000000  \n",
              "25%       4.000000        55.000000  \n",
              "50%      19.000000       111.000000  \n",
              "75%      41.000000       186.000000  \n",
              "max     186.000000       889.000000  "
            ],
            "text/html": [
              "\n",
              "  <div id=\"df-581c8d51-cd8e-499e-bd23-f0c4830905a0\">\n",
              "    <div class=\"colab-df-container\">\n",
              "      <div>\n",
              "<style scoped>\n",
              "    .dataframe tbody tr th:only-of-type {\n",
              "        vertical-align: middle;\n",
              "    }\n",
              "\n",
              "    .dataframe tbody tr th {\n",
              "        vertical-align: top;\n",
              "    }\n",
              "\n",
              "    .dataframe thead th {\n",
              "        text-align: right;\n",
              "    }\n",
              "</style>\n",
              "<table border=\"1\" class=\"dataframe\">\n",
              "  <thead>\n",
              "    <tr style=\"text-align: right;\">\n",
              "      <th></th>\n",
              "      <th>year_week</th>\n",
              "      <th>product_number</th>\n",
              "      <th>specs</th>\n",
              "      <th>display_size</th>\n",
              "      <th>sales_units</th>\n",
              "      <th>inventory_units</th>\n",
              "    </tr>\n",
              "  </thead>\n",
              "  <tbody>\n",
              "    <tr>\n",
              "      <th>count</th>\n",
              "      <td>7542.000000</td>\n",
              "      <td>7542.000000</td>\n",
              "      <td>7542.000000</td>\n",
              "      <td>7542.000000</td>\n",
              "      <td>7542.000000</td>\n",
              "      <td>7542.000000</td>\n",
              "    </tr>\n",
              "    <tr>\n",
              "      <th>mean</th>\n",
              "      <td>202228.855741</td>\n",
              "      <td>126547.873906</td>\n",
              "      <td>110023.623972</td>\n",
              "      <td>15.157704</td>\n",
              "      <td>27.761204</td>\n",
              "      <td>137.733890</td>\n",
              "    </tr>\n",
              "    <tr>\n",
              "      <th>std</th>\n",
              "      <td>64.456047</td>\n",
              "      <td>80560.155233</td>\n",
              "      <td>63865.270865</td>\n",
              "      <td>1.422126</td>\n",
              "      <td>29.988587</td>\n",
              "      <td>118.812817</td>\n",
              "    </tr>\n",
              "    <tr>\n",
              "      <th>min</th>\n",
              "      <td>201915.000000</td>\n",
              "      <td>6909.000000</td>\n",
              "      <td>967.000000</td>\n",
              "      <td>11.000000</td>\n",
              "      <td>0.000000</td>\n",
              "      <td>0.000000</td>\n",
              "    </tr>\n",
              "    <tr>\n",
              "      <th>25%</th>\n",
              "      <td>202210.000000</td>\n",
              "      <td>51324.000000</td>\n",
              "      <td>56086.000000</td>\n",
              "      <td>14.000000</td>\n",
              "      <td>4.000000</td>\n",
              "      <td>55.000000</td>\n",
              "    </tr>\n",
              "    <tr>\n",
              "      <th>50%</th>\n",
              "      <td>202232.000000</td>\n",
              "      <td>114492.000000</td>\n",
              "      <td>108304.000000</td>\n",
              "      <td>15.600000</td>\n",
              "      <td>19.000000</td>\n",
              "      <td>111.000000</td>\n",
              "    </tr>\n",
              "    <tr>\n",
              "      <th>75%</th>\n",
              "      <td>202252.000000</td>\n",
              "      <td>201348.000000</td>\n",
              "      <td>155687.000000</td>\n",
              "      <td>15.600000</td>\n",
              "      <td>41.000000</td>\n",
              "      <td>186.000000</td>\n",
              "    </tr>\n",
              "    <tr>\n",
              "      <th>max</th>\n",
              "      <td>202318.000000</td>\n",
              "      <td>247737.000000</td>\n",
              "      <td>236915.000000</td>\n",
              "      <td>17.300000</td>\n",
              "      <td>186.000000</td>\n",
              "      <td>889.000000</td>\n",
              "    </tr>\n",
              "  </tbody>\n",
              "</table>\n",
              "</div>\n",
              "      <button class=\"colab-df-convert\" onclick=\"convertToInteractive('df-581c8d51-cd8e-499e-bd23-f0c4830905a0')\"\n",
              "              title=\"Convert this dataframe to an interactive table.\"\n",
              "              style=\"display:none;\">\n",
              "        \n",
              "  <svg xmlns=\"http://www.w3.org/2000/svg\" height=\"24px\"viewBox=\"0 0 24 24\"\n",
              "       width=\"24px\">\n",
              "    <path d=\"M0 0h24v24H0V0z\" fill=\"none\"/>\n",
              "    <path d=\"M18.56 5.44l.94 2.06.94-2.06 2.06-.94-2.06-.94-.94-2.06-.94 2.06-2.06.94zm-11 1L8.5 8.5l.94-2.06 2.06-.94-2.06-.94L8.5 2.5l-.94 2.06-2.06.94zm10 10l.94 2.06.94-2.06 2.06-.94-2.06-.94-.94-2.06-.94 2.06-2.06.94z\"/><path d=\"M17.41 7.96l-1.37-1.37c-.4-.4-.92-.59-1.43-.59-.52 0-1.04.2-1.43.59L10.3 9.45l-7.72 7.72c-.78.78-.78 2.05 0 2.83L4 21.41c.39.39.9.59 1.41.59.51 0 1.02-.2 1.41-.59l7.78-7.78 2.81-2.81c.8-.78.8-2.07 0-2.86zM5.41 20L4 18.59l7.72-7.72 1.47 1.35L5.41 20z\"/>\n",
              "  </svg>\n",
              "      </button>\n",
              "      \n",
              "  <style>\n",
              "    .colab-df-container {\n",
              "      display:flex;\n",
              "      flex-wrap:wrap;\n",
              "      gap: 12px;\n",
              "    }\n",
              "\n",
              "    .colab-df-convert {\n",
              "      background-color: #E8F0FE;\n",
              "      border: none;\n",
              "      border-radius: 50%;\n",
              "      cursor: pointer;\n",
              "      display: none;\n",
              "      fill: #1967D2;\n",
              "      height: 32px;\n",
              "      padding: 0 0 0 0;\n",
              "      width: 32px;\n",
              "    }\n",
              "\n",
              "    .colab-df-convert:hover {\n",
              "      background-color: #E2EBFA;\n",
              "      box-shadow: 0px 1px 2px rgba(60, 64, 67, 0.3), 0px 1px 3px 1px rgba(60, 64, 67, 0.15);\n",
              "      fill: #174EA6;\n",
              "    }\n",
              "\n",
              "    [theme=dark] .colab-df-convert {\n",
              "      background-color: #3B4455;\n",
              "      fill: #D2E3FC;\n",
              "    }\n",
              "\n",
              "    [theme=dark] .colab-df-convert:hover {\n",
              "      background-color: #434B5C;\n",
              "      box-shadow: 0px 1px 3px 1px rgba(0, 0, 0, 0.15);\n",
              "      filter: drop-shadow(0px 1px 2px rgba(0, 0, 0, 0.3));\n",
              "      fill: #FFFFFF;\n",
              "    }\n",
              "  </style>\n",
              "\n",
              "      <script>\n",
              "        const buttonEl =\n",
              "          document.querySelector('#df-581c8d51-cd8e-499e-bd23-f0c4830905a0 button.colab-df-convert');\n",
              "        buttonEl.style.display =\n",
              "          google.colab.kernel.accessAllowed ? 'block' : 'none';\n",
              "\n",
              "        async function convertToInteractive(key) {\n",
              "          const element = document.querySelector('#df-581c8d51-cd8e-499e-bd23-f0c4830905a0');\n",
              "          const dataTable =\n",
              "            await google.colab.kernel.invokeFunction('convertToInteractive',\n",
              "                                                     [key], {});\n",
              "          if (!dataTable) return;\n",
              "\n",
              "          const docLinkHtml = 'Like what you see? Visit the ' +\n",
              "            '<a target=\"_blank\" href=https://colab.research.google.com/notebooks/data_table.ipynb>data table notebook</a>'\n",
              "            + ' to learn more about interactive tables.';\n",
              "          element.innerHTML = '';\n",
              "          dataTable['output_type'] = 'display_data';\n",
              "          await google.colab.output.renderOutput(dataTable, element);\n",
              "          const docLink = document.createElement('div');\n",
              "          docLink.innerHTML = docLinkHtml;\n",
              "          element.appendChild(docLink);\n",
              "        }\n",
              "      </script>\n",
              "    </div>\n",
              "  </div>\n",
              "  "
            ]
          },
          "metadata": {},
          "execution_count": 376
        }
      ],
      "source": [
        "test = non_na\n",
        "test = test.groupby(\"id\")[[\"id\", \"inventory_units\"]].sum()\n",
        "new_df = non_na.drop_duplicates(subset=['id'],keep = 'first')\n",
        "test.reset_index(inplace=True)\n",
        "\n",
        "new_df = pd.merge(new_df, test, on = 'id', how = 'left')\n",
        "new_df.loc[new_df['inventory_units_y'].notnull(), 'inventory_units'] = new_df['inventory_units_y']\n",
        "new_df.drop(['inventory_units_y', 'inventory_units_x', 'reporterhq_id'], axis=1, inplace=True)\n",
        "new_df[\"date\"] = pd.to_datetime(new_df[\"date\"])\n",
        "new_df.describe()"
      ]
    },
    {
      "cell_type": "code",
      "source": [
        "new_df = new_df[new_df.year_week >= 202101]\n",
        "new_df = new_df.sort_values(by = 'id').reset_index(drop = True)"
      ],
      "metadata": {
        "id": "ZaqbnKEECncL"
      },
      "execution_count": 377,
      "outputs": []
    },
    {
      "cell_type": "code",
      "execution_count": 378,
      "metadata": {
        "colab": {
          "base_uri": "https://localhost:8080/",
          "height": 508
        },
        "id": "MySZKkOZEQEP",
        "outputId": "21b46fff-3f4e-4fd7-c310-2cc5aa8390f3"
      },
      "outputs": [
        {
          "output_type": "display_data",
          "data": {
            "text/plain": [
              "<Figure size 640x480 with 1 Axes>"
            ],
            "image/png": "[encoded data removed]"
          },
          "metadata": {}
        }
      ],
      "source": [
        "gd = new_df.groupby('date').sum(numeric_only = True)\n",
        "plt.plot(gd.index, gd.inventory_units)\n",
        "plt.xticks(rotation = 45)\n",
        "plt.xlabel('Date') \n",
        "plt.ylabel('Inventory Units')\n",
        "plt.title('Inventory in time')\n",
        "plt.show()"
      ]
    },
    {
      "cell_type": "code",
      "execution_count": 379,
      "metadata": {
        "colab": {
          "base_uri": "https://localhost:8080/",
          "height": 508
        },
        "id": "1IcICyOxEQEP",
        "outputId": "78ce1e60-06ac-4819-c244-8a20940ca8cb"
      },
      "outputs": [
        {
          "output_type": "display_data",
          "data": {
            "text/plain": [
              "<Figure size 640x480 with 1 Axes>"
            ],
            "image/png": "[encoded data removed]"
          },
          "metadata": {}
        }
      ],
      "source": [
        "plt.plot(gd.index, gd.sales_units)\n",
        "plt.xticks(rotation = 45)\n",
        "plt.xlabel('Date') \n",
        "plt.ylabel('Sales Units')\n",
        "plt.title('Sales in time')\n",
        "plt.show()"
      ]
    },
    {
      "cell_type": "code",
      "execution_count": 380,
      "metadata": {
        "id": "cQAkA-SuEQEP"
      },
      "outputs": [],
      "source": [
        "for i,row in new_df[:-1].iterrows():\n",
        "    date = row[\"date\"]\n",
        "    product_number = row[\"product_number\"]\n",
        "    row2 = new_df.iloc[i+1]\n",
        "    if row2[\"product_number\"] == product_number:\n",
        "        diff = row2[\"date\"] - date\n",
        "        if diff.days > 7:\n",
        "            p_num = row[\"product_number\"]\n",
        "            weeks_diff = int(diff.days / 7)\n",
        "            if weeks_diff <= 3:\n",
        "                incremento = (row2[\"sales_units\"] -  row[\"sales_units\"]) / (weeks_diff)\n",
        "                current_date = date\n",
        "                for k in range(1,weeks_diff):\n",
        "                    new_row = copy.copy(row)\n",
        "                    current_date += timedelta(days=7)\n",
        "                    new_row[\"date\"] = current_date\n",
        "                    new_row[\"sales_units\"] = row[\"sales_units\"] + k * incremento\n",
        "                    anho, semana, _ = current_date.isocalendar()\n",
        "                    new_row[\"identifier\"] = str(anho) + str('{:0>2d}'.format(semana)) + \"-\" + str(row[\"product_number\"])\n",
        "                    new_df.loc[i+k-1] = new_row"
      ]
    },
    {
      "cell_type": "code",
      "execution_count": 381,
      "metadata": {
        "id": "ZW5W6pE5EQEQ"
      },
      "outputs": [],
      "source": [
        "new_df[['sales_units', 'inventory_units', 'year_week']] = new_df[['sales_units', 'inventory_units', 'year_week']].astype(int)"
      ]
    },
    {
      "cell_type": "code",
      "execution_count": 382,
      "metadata": {
        "id": "CyXl3pB8EQEQ",
        "outputId": "b6a07a1e-37a5-46cd-9f59-513fe7f702b1",
        "colab": {
          "base_uri": "https://localhost:8080/",
          "height": 238
        }
      },
      "outputs": [
        {
          "output_type": "execute_result",
          "data": {
            "text/plain": [
              "                  count           mean           std       min       25%  \\\n",
              "year_week        7370.0  202233.979240     55.306371  202101.0  202211.0   \n",
              "product_number   7370.0  124166.207056  79747.701800    6909.0   48363.0   \n",
              "specs            7370.0  110509.599729  64359.763331     967.0   58020.0   \n",
              "display_size     7370.0      15.137870      1.426134      11.0      14.0   \n",
              "sales_units      7370.0      27.887924     30.059301       0.0       4.0   \n",
              "inventory_units  7370.0     139.592402    118.845188       0.0      57.0   \n",
              "\n",
              "                      50%       75%       max  \n",
              "year_week        202233.0  202252.0  202318.0  \n",
              "product_number   112518.0  196413.0  247737.0  \n",
              "specs            108304.0  156654.0  236915.0  \n",
              "display_size         15.6      15.6      17.3  \n",
              "sales_units          19.0      42.0     186.0  \n",
              "inventory_units     112.0     187.0     889.0  "
            ],
            "text/html": [
              "\n",
              "  <div id=\"df-0b5b0e42-9403-4123-b3aa-8e2a205ddd52\">\n",
              "    <div class=\"colab-df-container\">\n",
              "      <div>\n",
              "<style scoped>\n",
              "    .dataframe tbody tr th:only-of-type {\n",
              "        vertical-align: middle;\n",
              "    }\n",
              "\n",
              "    .dataframe tbody tr th {\n",
              "        vertical-align: top;\n",
              "    }\n",
              "\n",
              "    .dataframe thead th {\n",
              "        text-align: right;\n",
              "    }\n",
              "</style>\n",
              "<table border=\"1\" class=\"dataframe\">\n",
              "  <thead>\n",
              "    <tr style=\"text-align: right;\">\n",
              "      <th></th>\n",
              "      <th>count</th>\n",
              "      <th>mean</th>\n",
              "      <th>std</th>\n",
              "      <th>min</th>\n",
              "      <th>25%</th>\n",
              "      <th>50%</th>\n",
              "      <th>75%</th>\n",
              "      <th>max</th>\n",
              "    </tr>\n",
              "  </thead>\n",
              "  <tbody>\n",
              "    <tr>\n",
              "      <th>year_week</th>\n",
              "      <td>7370.0</td>\n",
              "      <td>202233.979240</td>\n",
              "      <td>55.306371</td>\n",
              "      <td>202101.0</td>\n",
              "      <td>202211.0</td>\n",
              "      <td>202233.0</td>\n",
              "      <td>202252.0</td>\n",
              "      <td>202318.0</td>\n",
              "    </tr>\n",
              "    <tr>\n",
              "      <th>product_number</th>\n",
              "      <td>7370.0</td>\n",
              "      <td>124166.207056</td>\n",
              "      <td>79747.701800</td>\n",
              "      <td>6909.0</td>\n",
              "      <td>48363.0</td>\n",
              "      <td>112518.0</td>\n",
              "      <td>196413.0</td>\n",
              "      <td>247737.0</td>\n",
              "    </tr>\n",
              "    <tr>\n",
              "      <th>specs</th>\n",
              "      <td>7370.0</td>\n",
              "      <td>110509.599729</td>\n",
              "      <td>64359.763331</td>\n",
              "      <td>967.0</td>\n",
              "      <td>58020.0</td>\n",
              "      <td>108304.0</td>\n",
              "      <td>156654.0</td>\n",
              "      <td>236915.0</td>\n",
              "    </tr>\n",
              "    <tr>\n",
              "      <th>display_size</th>\n",
              "      <td>7370.0</td>\n",
              "      <td>15.137870</td>\n",
              "      <td>1.426134</td>\n",
              "      <td>11.0</td>\n",
              "      <td>14.0</td>\n",
              "      <td>15.6</td>\n",
              "      <td>15.6</td>\n",
              "      <td>17.3</td>\n",
              "    </tr>\n",
              "    <tr>\n",
              "      <th>sales_units</th>\n",
              "      <td>7370.0</td>\n",
              "      <td>27.887924</td>\n",
              "      <td>30.059301</td>\n",
              "      <td>0.0</td>\n",
              "      <td>4.0</td>\n",
              "      <td>19.0</td>\n",
              "      <td>42.0</td>\n",
              "      <td>186.0</td>\n",
              "    </tr>\n",
              "    <tr>\n",
              "      <th>inventory_units</th>\n",
              "      <td>7370.0</td>\n",
              "      <td>139.592402</td>\n",
              "      <td>118.845188</td>\n",
              "      <td>0.0</td>\n",
              "      <td>57.0</td>\n",
              "      <td>112.0</td>\n",
              "      <td>187.0</td>\n",
              "      <td>889.0</td>\n",
              "    </tr>\n",
              "  </tbody>\n",
              "</table>\n",
              "</div>\n",
              "      <button class=\"colab-df-convert\" onclick=\"convertToInteractive('df-0b5b0e42-9403-4123-b3aa-8e2a205ddd52')\"\n",
              "              title=\"Convert this dataframe to an interactive table.\"\n",
              "              style=\"display:none;\">\n",
              "        \n",
              "  <svg xmlns=\"http://www.w3.org/2000/svg\" height=\"24px\"viewBox=\"0 0 24 24\"\n",
              "       width=\"24px\">\n",
              "    <path d=\"M0 0h24v24H0V0z\" fill=\"none\"/>\n",
              "    <path d=\"M18.56 5.44l.94 2.06.94-2.06 2.06-.94-2.06-.94-.94-2.06-.94 2.06-2.06.94zm-11 1L8.5 8.5l.94-2.06 2.06-.94-2.06-.94L8.5 2.5l-.94 2.06-2.06.94zm10 10l.94 2.06.94-2.06 2.06-.94-2.06-.94-.94-2.06-.94 2.06-2.06.94z\"/><path d=\"M17.41 7.96l-1.37-1.37c-.4-.4-.92-.59-1.43-.59-.52 0-1.04.2-1.43.59L10.3 9.45l-7.72 7.72c-.78.78-.78 2.05 0 2.83L4 21.41c.39.39.9.59 1.41.59.51 0 1.02-.2 1.41-.59l7.78-7.78 2.81-2.81c.8-.78.8-2.07 0-2.86zM5.41 20L4 18.59l7.72-7.72 1.47 1.35L5.41 20z\"/>\n",
              "  </svg>\n",
              "      </button>\n",
              "      \n",
              "  <style>\n",
              "    .colab-df-container {\n",
              "      display:flex;\n",
              "      flex-wrap:wrap;\n",
              "      gap: 12px;\n",
              "    }\n",
              "\n",
              "    .colab-df-convert {\n",
              "      background-color: #E8F0FE;\n",
              "      border: none;\n",
              "      border-radius: 50%;\n",
              "      cursor: pointer;\n",
              "      display: none;\n",
              "      fill: #1967D2;\n",
              "      height: 32px;\n",
              "      padding: 0 0 0 0;\n",
              "      width: 32px;\n",
              "    }\n",
              "\n",
              "    .colab-df-convert:hover {\n",
              "      background-color: #E2EBFA;\n",
              "      box-shadow: 0px 1px 2px rgba(60, 64, 67, 0.3), 0px 1px 3px 1px rgba(60, 64, 67, 0.15);\n",
              "      fill: #174EA6;\n",
              "    }\n",
              "\n",
              "    [theme=dark] .colab-df-convert {\n",
              "      background-color: #3B4455;\n",
              "      fill: #D2E3FC;\n",
              "    }\n",
              "\n",
              "    [theme=dark] .colab-df-convert:hover {\n",
              "      background-color: #434B5C;\n",
              "      box-shadow: 0px 1px 3px 1px rgba(0, 0, 0, 0.15);\n",
              "      filter: drop-shadow(0px 1px 2px rgba(0, 0, 0, 0.3));\n",
              "      fill: #FFFFFF;\n",
              "    }\n",
              "  </style>\n",
              "\n",
              "      <script>\n",
              "        const buttonEl =\n",
              "          document.querySelector('#df-0b5b0e42-9403-4123-b3aa-8e2a205ddd52 button.colab-df-convert');\n",
              "        buttonEl.style.display =\n",
              "          google.colab.kernel.accessAllowed ? 'block' : 'none';\n",
              "\n",
              "        async function convertToInteractive(key) {\n",
              "          const element = document.querySelector('#df-0b5b0e42-9403-4123-b3aa-8e2a205ddd52');\n",
              "          const dataTable =\n",
              "            await google.colab.kernel.invokeFunction('convertToInteractive',\n",
              "                                                     [key], {});\n",
              "          if (!dataTable) return;\n",
              "\n",
              "          const docLinkHtml = 'Like what you see? Visit the ' +\n",
              "            '<a target=\"_blank\" href=https://colab.research.google.com/notebooks/data_table.ipynb>data table notebook</a>'\n",
              "            + ' to learn more about interactive tables.';\n",
              "          element.innerHTML = '';\n",
              "          dataTable['output_type'] = 'display_data';\n",
              "          await google.colab.output.renderOutput(dataTable, element);\n",
              "          const docLink = document.createElement('div');\n",
              "          docLink.innerHTML = docLinkHtml;\n",
              "          element.appendChild(docLink);\n",
              "        }\n",
              "      </script>\n",
              "    </div>\n",
              "  </div>\n",
              "  "
            ]
          },
          "metadata": {},
          "execution_count": 382
        }
      ],
      "source": [
        "new_df.describe().transpose()"
      ]
    },
    {
      "cell_type": "code",
      "execution_count": 383,
      "metadata": {
        "id": "zsg3r3qOEQEQ",
        "outputId": "3547f4e0-eada-4efe-e70a-7f0d436e3728",
        "colab": {
          "base_uri": "https://localhost:8080/"
        }
      },
      "outputs": [
        {
          "output_type": "stream",
          "name": "stdout",
          "text": [
            "Numero de errores es  3004\n",
            "Min de errores es  1\n",
            "Min de errores es  837\n",
            "Media de errores es  109.04494007989348\n",
            "Std de errores es  114.55070998246332\n"
          ]
        }
      ],
      "source": [
        "error = []\n",
        "for i, row in new_df[1:].iterrows():\n",
        "  if row.sales_units + row.inventory_units < new_df.loc[i-1].inventory_units:\n",
        "      error.append(new_df.loc[i-1].inventory_units - (row.sales_units + row.inventory_units))\n",
        "      if new_df.loc[i-1].inventory_units - (row.sales_units + row.inventory_units) < 0:\n",
        "          print(f\"Fila {i} tiene un error con una medida de {new_df.loc[i-1].inventory_units - (row.sales_units + row.inventory_units)}\")\n",
        "\n",
        "print(\"Numero de errores es \", len(error))\n",
        "print(\"Min de errores es \", np.array(error).min())\n",
        "print(\"Min de errores es \", np.array(error).max())\n",
        "print(\"Media de errores es \", np.array(error).mean())\n",
        "print(\"Std de errores es \", np.array(error).std())\n"
      ]
    },
    {
      "cell_type": "code",
      "execution_count": 384,
      "metadata": {
        "id": "9vT6r8zTEQEQ"
      },
      "outputs": [],
      "source": [
        "new_df[\"purchases_units\"] =  0\n",
        "\n",
        "for i in range(1, len(new_df)):\n",
        "    compras = new_df.at[i, 'inventory_units'] - (new_df.at[i, 'sales_units'] + new_df.at[i-1, 'inventory_units'])\n",
        "    new_df.at[i, 'purchases_units'] = compras\n",
        "    \n",
        "new_df.head()\n",
        "new_df[new_df.purchases_units < 0 ] = 0"
      ]
    },
    {
      "cell_type": "code",
      "execution_count": 385,
      "metadata": {
        "id": "nl444aY7EQEQ",
        "outputId": "00b656bb-e8ba-4bed-f86a-2284c357ae22",
        "colab": {
          "base_uri": "https://localhost:8080/",
          "height": 269
        }
      },
      "outputs": [
        {
          "output_type": "execute_result",
          "data": {
            "text/plain": [
              "                  count          mean           std  min  25%  50%       75%  \\\n",
              "year_week        7370.0  80949.151289  99092.758911  0.0  0.0  0.0  202224.0   \n",
              "product_number   7370.0  49507.759294  78732.213503  0.0  0.0  0.0   82908.0   \n",
              "specs            7370.0  44458.120217  67633.761086  0.0  0.0  0.0   95733.0   \n",
              "display_size     7370.0      6.047720      7.456622  0.0  0.0  0.0      15.6   \n",
              "sales_units      7370.0      8.846269     19.121814  0.0  0.0  0.0       7.0   \n",
              "inventory_units  7370.0     85.255495    136.149596  0.0  0.0  0.0     150.0   \n",
              "purchases_units  7370.0     43.399457     88.906041  0.0  0.0  0.0      50.0   \n",
              "\n",
              "                      max  \n",
              "year_week        202318.0  \n",
              "product_number   247737.0  \n",
              "specs            236915.0  \n",
              "display_size         17.3  \n",
              "sales_units         155.0  \n",
              "inventory_units     889.0  \n",
              "purchases_units     810.0  "
            ],
            "text/html": [
              "\n",
              "  <div id=\"df-1a82d1d6-8f19-41d2-81ac-5f019e824bd9\">\n",
              "    <div class=\"colab-df-container\">\n",
              "      <div>\n",
              "<style scoped>\n",
              "    .dataframe tbody tr th:only-of-type {\n",
              "        vertical-align: middle;\n",
              "    }\n",
              "\n",
              "    .dataframe tbody tr th {\n",
              "        vertical-align: top;\n",
              "    }\n",
              "\n",
              "    .dataframe thead th {\n",
              "        text-align: right;\n",
              "    }\n",
              "</style>\n",
              "<table border=\"1\" class=\"dataframe\">\n",
              "  <thead>\n",
              "    <tr style=\"text-align: right;\">\n",
              "      <th></th>\n",
              "      <th>count</th>\n",
              "      <th>mean</th>\n",
              "      <th>std</th>\n",
              "      <th>min</th>\n",
              "      <th>25%</th>\n",
              "      <th>50%</th>\n",
              "      <th>75%</th>\n",
              "      <th>max</th>\n",
              "    </tr>\n",
              "  </thead>\n",
              "  <tbody>\n",
              "    <tr>\n",
              "      <th>year_week</th>\n",
              "      <td>7370.0</td>\n",
              "      <td>80949.151289</td>\n",
              "      <td>99092.758911</td>\n",
              "      <td>0.0</td>\n",
              "      <td>0.0</td>\n",
              "      <td>0.0</td>\n",
              "      <td>202224.0</td>\n",
              "      <td>202318.0</td>\n",
              "    </tr>\n",
              "    <tr>\n",
              "      <th>product_number</th>\n",
              "      <td>7370.0</td>\n",
              "      <td>49507.759294</td>\n",
              "      <td>78732.213503</td>\n",
              "      <td>0.0</td>\n",
              "      <td>0.0</td>\n",
              "      <td>0.0</td>\n",
              "      <td>82908.0</td>\n",
              "      <td>247737.0</td>\n",
              "    </tr>\n",
              "    <tr>\n",
              "      <th>specs</th>\n",
              "      <td>7370.0</td>\n",
              "      <td>44458.120217</td>\n",
              "      <td>67633.761086</td>\n",
              "      <td>0.0</td>\n",
              "      <td>0.0</td>\n",
              "      <td>0.0</td>\n",
              "      <td>95733.0</td>\n",
              "      <td>236915.0</td>\n",
              "    </tr>\n",
              "    <tr>\n",
              "      <th>display_size</th>\n",
              "      <td>7370.0</td>\n",
              "      <td>6.047720</td>\n",
              "      <td>7.456622</td>\n",
              "      <td>0.0</td>\n",
              "      <td>0.0</td>\n",
              "      <td>0.0</td>\n",
              "      <td>15.6</td>\n",
              "      <td>17.3</td>\n",
              "    </tr>\n",
              "    <tr>\n",
              "      <th>sales_units</th>\n",
              "      <td>7370.0</td>\n",
              "      <td>8.846269</td>\n",
              "      <td>19.121814</td>\n",
              "      <td>0.0</td>\n",
              "      <td>0.0</td>\n",
              "      <td>0.0</td>\n",
              "      <td>7.0</td>\n",
              "      <td>155.0</td>\n",
              "    </tr>\n",
              "    <tr>\n",
              "      <th>inventory_units</th>\n",
              "      <td>7370.0</td>\n",
              "      <td>85.255495</td>\n",
              "      <td>136.149596</td>\n",
              "      <td>0.0</td>\n",
              "      <td>0.0</td>\n",
              "      <td>0.0</td>\n",
              "      <td>150.0</td>\n",
              "      <td>889.0</td>\n",
              "    </tr>\n",
              "    <tr>\n",
              "      <th>purchases_units</th>\n",
              "      <td>7370.0</td>\n",
              "      <td>43.399457</td>\n",
              "      <td>88.906041</td>\n",
              "      <td>0.0</td>\n",
              "      <td>0.0</td>\n",
              "      <td>0.0</td>\n",
              "      <td>50.0</td>\n",
              "      <td>810.0</td>\n",
              "    </tr>\n",
              "  </tbody>\n",
              "</table>\n",
              "</div>\n",
              "      <button class=\"colab-df-convert\" onclick=\"convertToInteractive('df-1a82d1d6-8f19-41d2-81ac-5f019e824bd9')\"\n",
              "              title=\"Convert this dataframe to an interactive table.\"\n",
              "              style=\"display:none;\">\n",
              "        \n",
              "  <svg xmlns=\"http://www.w3.org/2000/svg\" height=\"24px\"viewBox=\"0 0 24 24\"\n",
              "       width=\"24px\">\n",
              "    <path d=\"M0 0h24v24H0V0z\" fill=\"none\"/>\n",
              "    <path d=\"M18.56 5.44l.94 2.06.94-2.06 2.06-.94-2.06-.94-.94-2.06-.94 2.06-2.06.94zm-11 1L8.5 8.5l.94-2.06 2.06-.94-2.06-.94L8.5 2.5l-.94 2.06-2.06.94zm10 10l.94 2.06.94-2.06 2.06-.94-2.06-.94-.94-2.06-.94 2.06-2.06.94z\"/><path d=\"M17.41 7.96l-1.37-1.37c-.4-.4-.92-.59-1.43-.59-.52 0-1.04.2-1.43.59L10.3 9.45l-7.72 7.72c-.78.78-.78 2.05 0 2.83L4 21.41c.39.39.9.59 1.41.59.51 0 1.02-.2 1.41-.59l7.78-7.78 2.81-2.81c.8-.78.8-2.07 0-2.86zM5.41 20L4 18.59l7.72-7.72 1.47 1.35L5.41 20z\"/>\n",
              "  </svg>\n",
              "      </button>\n",
              "      \n",
              "  <style>\n",
              "    .colab-df-container {\n",
              "      display:flex;\n",
              "      flex-wrap:wrap;\n",
              "      gap: 12px;\n",
              "    }\n",
              "\n",
              "    .colab-df-convert {\n",
              "      background-color: #E8F0FE;\n",
              "      border: none;\n",
              "      border-radius: 50%;\n",
              "      cursor: pointer;\n",
              "      display: none;\n",
              "      fill: #1967D2;\n",
              "      height: 32px;\n",
              "      padding: 0 0 0 0;\n",
              "      width: 32px;\n",
              "    }\n",
              "\n",
              "    .colab-df-convert:hover {\n",
              "      background-color: #E2EBFA;\n",
              "      box-shadow: 0px 1px 2px rgba(60, 64, 67, 0.3), 0px 1px 3px 1px rgba(60, 64, 67, 0.15);\n",
              "      fill: #174EA6;\n",
              "    }\n",
              "\n",
              "    [theme=dark] .colab-df-convert {\n",
              "      background-color: #3B4455;\n",
              "      fill: #D2E3FC;\n",
              "    }\n",
              "\n",
              "    [theme=dark] .colab-df-convert:hover {\n",
              "      background-color: #434B5C;\n",
              "      box-shadow: 0px 1px 3px 1px rgba(0, 0, 0, 0.15);\n",
              "      filter: drop-shadow(0px 1px 2px rgba(0, 0, 0, 0.3));\n",
              "      fill: #FFFFFF;\n",
              "    }\n",
              "  </style>\n",
              "\n",
              "      <script>\n",
              "        const buttonEl =\n",
              "          document.querySelector('#df-1a82d1d6-8f19-41d2-81ac-5f019e824bd9 button.colab-df-convert');\n",
              "        buttonEl.style.display =\n",
              "          google.colab.kernel.accessAllowed ? 'block' : 'none';\n",
              "\n",
              "        async function convertToInteractive(key) {\n",
              "          const element = document.querySelector('#df-1a82d1d6-8f19-41d2-81ac-5f019e824bd9');\n",
              "          const dataTable =\n",
              "            await google.colab.kernel.invokeFunction('convertToInteractive',\n",
              "                                                     [key], {});\n",
              "          if (!dataTable) return;\n",
              "\n",
              "          const docLinkHtml = 'Like what you see? Visit the ' +\n",
              "            '<a target=\"_blank\" href=https://colab.research.google.com/notebooks/data_table.ipynb>data table notebook</a>'\n",
              "            + ' to learn more about interactive tables.';\n",
              "          element.innerHTML = '';\n",
              "          dataTable['output_type'] = 'display_data';\n",
              "          await google.colab.output.renderOutput(dataTable, element);\n",
              "          const docLink = document.createElement('div');\n",
              "          docLink.innerHTML = docLinkHtml;\n",
              "          element.appendChild(docLink);\n",
              "        }\n",
              "      </script>\n",
              "    </div>\n",
              "  </div>\n",
              "  "
            ]
          },
          "metadata": {},
          "execution_count": 385
        }
      ],
      "source": [
        "new_df.describe().transpose()"
      ]
    },
    {
      "cell_type": "markdown",
      "metadata": {
        "id": "glyhyz8TEQER"
      },
      "source": [
        "## Normalización"
      ]
    },
    {
      "cell_type": "code",
      "execution_count": 386,
      "metadata": {
        "id": "C3I0lbclEQER",
        "outputId": "422f2dcc-3e78-4352-f84b-e09699d43d1d",
        "colab": {
          "base_uri": "https://localhost:8080/"
        }
      },
      "outputs": [
        {
          "output_type": "execute_result",
          "data": {
            "text/plain": [
              "year_week                   int64\n",
              "specs                       int64\n",
              "display_size              float64\n",
              "sales_units                 int64\n",
              "inventory_units             int64\n",
              "                           ...   \n",
              "prod_category_Clover        uint8\n",
              "prod_category_Conan         uint8\n",
              "prod_category_Doraemon      uint8\n",
              "prod_category_Goku          uint8\n",
              "prod_category_Luffy         uint8\n",
              "Length: 119, dtype: object"
            ]
          },
          "metadata": {},
          "execution_count": 386
        }
      ],
      "source": [
        "train = new_df\n",
        "\n",
        "train = train.drop([\"date\", \"id\"], axis =1)\n",
        "\n",
        "Y_train = train.inventory_units\n",
        "X_train = train#.drop(\"inventory_units\", axis = 1)\n",
        "\n",
        "X_train = pd.get_dummies(X_train, columns=['product_number', 'segment', 'prod_category'])\n",
        "\n",
        "X_train.dtypes"
      ]
    },
    {
      "cell_type": "code",
      "execution_count": 387,
      "metadata": {
        "id": "HamoIVI3EQER",
        "outputId": "67729720-42e2-45be-8251-ae5ef8b40d1f",
        "colab": {
          "base_uri": "https://localhost:8080/",
          "height": 463
        }
      },
      "outputs": [
        {
          "output_type": "execute_result",
          "data": {
            "text/plain": [
              "          year_week         specs  display_size   sales_units  \\\n",
              "count  7.370000e+03  7.370000e+03  7.370000e+03  7.370000e+03   \n",
              "mean  -4.242046e-17 -7.712811e-18  7.712811e-18  7.712811e-18   \n",
              "std    1.000000e+00  1.000000e+00  1.000000e+00  1.000000e+00   \n",
              "min   -8.169028e-01 -6.573362e-01 -8.110537e-01 -4.626271e-01   \n",
              "25%   -8.169028e-01 -6.573362e-01 -8.110537e-01 -4.626271e-01   \n",
              "50%   -8.169028e-01 -6.573362e-01 -8.110537e-01 -4.626271e-01   \n",
              "75%    1.223852e+00  7.581255e-01  1.281047e+00 -9.655301e-02   \n",
              "max    1.224800e+00  2.845574e+00  1.509032e+00  7.643299e+00   \n",
              "\n",
              "       inventory_units  purchases_units  product_number_0  \\\n",
              "count      7370.000000     7.370000e+03       7370.000000   \n",
              "mean         85.255495    -7.712811e-18          0.599729   \n",
              "std         136.149596     1.000000e+00          0.489987   \n",
              "min           0.000000    -4.881497e-01          0.000000   \n",
              "25%           0.000000    -4.881497e-01          0.000000   \n",
              "50%           0.000000    -4.881497e-01          1.000000   \n",
              "75%         150.000000     7.424178e-02          1.000000   \n",
              "max         889.000000     8.622592e+00          1.000000   \n",
              "\n",
              "       product_number_6909  product_number_7896  product_number_8883  ...  \\\n",
              "count          7370.000000          7370.000000          7370.000000  ...   \n",
              "mean              0.003528             0.004206             0.007870  ...   \n",
              "std               0.059295             0.064723             0.088368  ...   \n",
              "min               0.000000             0.000000             0.000000  ...   \n",
              "25%               0.000000             0.000000             0.000000  ...   \n",
              "50%               0.000000             0.000000             0.000000  ...   \n",
              "75%               0.000000             0.000000             0.000000  ...   \n",
              "max               1.000000             1.000000             1.000000  ...   \n",
              "\n",
              "       segment_Gaming  segment_Premium  prod_category_0  prod_category_Arale  \\\n",
              "count     7370.000000      7370.000000      7370.000000          7370.000000   \n",
              "mean         0.102714         0.103664         0.599729             0.058480   \n",
              "std          0.303605         0.304844         0.489987             0.234665   \n",
              "min          0.000000         0.000000         0.000000             0.000000   \n",
              "25%          0.000000         0.000000         0.000000             0.000000   \n",
              "50%          0.000000         0.000000         1.000000             0.000000   \n",
              "75%          0.000000         0.000000         1.000000             0.000000   \n",
              "max          1.000000         1.000000         1.000000             1.000000   \n",
              "\n",
              "       prod_category_Bobobo  prod_category_Clover  prod_category_Conan  \\\n",
              "count           7370.000000           7370.000000          7370.000000   \n",
              "mean               0.012483              0.096472             0.045183   \n",
              "std                0.111036              0.295258             0.207720   \n",
              "min                0.000000              0.000000             0.000000   \n",
              "25%                0.000000              0.000000             0.000000   \n",
              "50%                0.000000              0.000000             0.000000   \n",
              "75%                0.000000              0.000000             0.000000   \n",
              "max                1.000000              1.000000             1.000000   \n",
              "\n",
              "       prod_category_Doraemon  prod_category_Goku  prod_category_Luffy  \n",
              "count             7370.000000         7370.000000          7370.000000  \n",
              "mean                 0.055360            0.098100             0.034193  \n",
              "std                  0.228696            0.297471             0.181736  \n",
              "min                  0.000000            0.000000             0.000000  \n",
              "25%                  0.000000            0.000000             0.000000  \n",
              "50%                  0.000000            0.000000             0.000000  \n",
              "75%                  0.000000            0.000000             0.000000  \n",
              "max                  1.000000            1.000000             1.000000  \n",
              "\n",
              "[8 rows x 119 columns]"
            ],
            "text/html": [
              "\n",
              "  <div id=\"df-28cb3292-a05d-4d79-ab62-87820e406d5d\">\n",
              "    <div class=\"colab-df-container\">\n",
              "      <div>\n",
              "<style scoped>\n",
              "    .dataframe tbody tr th:only-of-type {\n",
              "        vertical-align: middle;\n",
              "    }\n",
              "\n",
              "    .dataframe tbody tr th {\n",
              "        vertical-align: top;\n",
              "    }\n",
              "\n",
              "    .dataframe thead th {\n",
              "        text-align: right;\n",
              "    }\n",
              "</style>\n",
              "<table border=\"1\" class=\"dataframe\">\n",
              "  <thead>\n",
              "    <tr style=\"text-align: right;\">\n",
              "      <th></th>\n",
              "      <th>year_week</th>\n",
              "      <th>specs</th>\n",
              "      <th>display_size</th>\n",
              "      <th>sales_units</th>\n",
              "      <th>inventory_units</th>\n",
              "      <th>purchases_units</th>\n",
              "      <th>product_number_0</th>\n",
              "      <th>product_number_6909</th>\n",
              "      <th>product_number_7896</th>\n",
              "      <th>product_number_8883</th>\n",
              "      <th>...</th>\n",
              "      <th>segment_Gaming</th>\n",
              "      <th>segment_Premium</th>\n",
              "      <th>prod_category_0</th>\n",
              "      <th>prod_category_Arale</th>\n",
              "      <th>prod_category_Bobobo</th>\n",
              "      <th>prod_category_Clover</th>\n",
              "      <th>prod_category_Conan</th>\n",
              "      <th>prod_category_Doraemon</th>\n",
              "      <th>prod_category_Goku</th>\n",
              "      <th>prod_category_Luffy</th>\n",
              "    </tr>\n",
              "  </thead>\n",
              "  <tbody>\n",
              "    <tr>\n",
              "      <th>count</th>\n",
              "      <td>7.370000e+03</td>\n",
              "      <td>7.370000e+03</td>\n",
              "      <td>7.370000e+03</td>\n",
              "      <td>7.370000e+03</td>\n",
              "      <td>7370.000000</td>\n",
              "      <td>7.370000e+03</td>\n",
              "      <td>7370.000000</td>\n",
              "      <td>7370.000000</td>\n",
              "      <td>7370.000000</td>\n",
              "      <td>7370.000000</td>\n",
              "      <td>...</td>\n",
              "      <td>7370.000000</td>\n",
              "      <td>7370.000000</td>\n",
              "      <td>7370.000000</td>\n",
              "      <td>7370.000000</td>\n",
              "      <td>7370.000000</td>\n",
              "      <td>7370.000000</td>\n",
              "      <td>7370.000000</td>\n",
              "      <td>7370.000000</td>\n",
              "      <td>7370.000000</td>\n",
              "      <td>7370.000000</td>\n",
              "    </tr>\n",
              "    <tr>\n",
              "      <th>mean</th>\n",
              "      <td>-4.242046e-17</td>\n",
              "      <td>-7.712811e-18</td>\n",
              "      <td>7.712811e-18</td>\n",
              "      <td>7.712811e-18</td>\n",
              "      <td>85.255495</td>\n",
              "      <td>-7.712811e-18</td>\n",
              "      <td>0.599729</td>\n",
              "      <td>0.003528</td>\n",
              "      <td>0.004206</td>\n",
              "      <td>0.007870</td>\n",
              "      <td>...</td>\n",
              "      <td>0.102714</td>\n",
              "      <td>0.103664</td>\n",
              "      <td>0.599729</td>\n",
              "      <td>0.058480</td>\n",
              "      <td>0.012483</td>\n",
              "      <td>0.096472</td>\n",
              "      <td>0.045183</td>\n",
              "      <td>0.055360</td>\n",
              "      <td>0.098100</td>\n",
              "      <td>0.034193</td>\n",
              "    </tr>\n",
              "    <tr>\n",
              "      <th>std</th>\n",
              "      <td>1.000000e+00</td>\n",
              "      <td>1.000000e+00</td>\n",
              "      <td>1.000000e+00</td>\n",
              "      <td>1.000000e+00</td>\n",
              "      <td>136.149596</td>\n",
              "      <td>1.000000e+00</td>\n",
              "      <td>0.489987</td>\n",
              "      <td>0.059295</td>\n",
              "      <td>0.064723</td>\n",
              "      <td>0.088368</td>\n",
              "      <td>...</td>\n",
              "      <td>0.303605</td>\n",
              "      <td>0.304844</td>\n",
              "      <td>0.489987</td>\n",
              "      <td>0.234665</td>\n",
              "      <td>0.111036</td>\n",
              "      <td>0.295258</td>\n",
              "      <td>0.207720</td>\n",
              "      <td>0.228696</td>\n",
              "      <td>0.297471</td>\n",
              "      <td>0.181736</td>\n",
              "    </tr>\n",
              "    <tr>\n",
              "      <th>min</th>\n",
              "      <td>-8.169028e-01</td>\n",
              "      <td>-6.573362e-01</td>\n",
              "      <td>-8.110537e-01</td>\n",
              "      <td>-4.626271e-01</td>\n",
              "      <td>0.000000</td>\n",
              "      <td>-4.881497e-01</td>\n",
              "      <td>0.000000</td>\n",
              "      <td>0.000000</td>\n",
              "      <td>0.000000</td>\n",
              "      <td>0.000000</td>\n",
              "      <td>...</td>\n",
              "      <td>0.000000</td>\n",
              "      <td>0.000000</td>\n",
              "      <td>0.000000</td>\n",
              "      <td>0.000000</td>\n",
              "      <td>0.000000</td>\n",
              "      <td>0.000000</td>\n",
              "      <td>0.000000</td>\n",
              "      <td>0.000000</td>\n",
              "      <td>0.000000</td>\n",
              "      <td>0.000000</td>\n",
              "    </tr>\n",
              "    <tr>\n",
              "      <th>25%</th>\n",
              "      <td>-8.169028e-01</td>\n",
              "      <td>-6.573362e-01</td>\n",
              "      <td>-8.110537e-01</td>\n",
              "      <td>-4.626271e-01</td>\n",
              "      <td>0.000000</td>\n",
              "      <td>-4.881497e-01</td>\n",
              "      <td>0.000000</td>\n",
              "      <td>0.000000</td>\n",
              "      <td>0.000000</td>\n",
              "      <td>0.000000</td>\n",
              "      <td>...</td>\n",
              "      <td>0.000000</td>\n",
              "      <td>0.000000</td>\n",
              "      <td>0.000000</td>\n",
              "      <td>0.000000</td>\n",
              "      <td>0.000000</td>\n",
              "      <td>0.000000</td>\n",
              "      <td>0.000000</td>\n",
              "      <td>0.000000</td>\n",
              "      <td>0.000000</td>\n",
              "      <td>0.000000</td>\n",
              "    </tr>\n",
              "    <tr>\n",
              "      <th>50%</th>\n",
              "      <td>-8.169028e-01</td>\n",
              "      <td>-6.573362e-01</td>\n",
              "      <td>-8.110537e-01</td>\n",
              "      <td>-4.626271e-01</td>\n",
              "      <td>0.000000</td>\n",
              "      <td>-4.881497e-01</td>\n",
              "      <td>1.000000</td>\n",
              "      <td>0.000000</td>\n",
              "      <td>0.000000</td>\n",
              "      <td>0.000000</td>\n",
              "      <td>...</td>\n",
              "      <td>0.000000</td>\n",
              "      <td>0.000000</td>\n",
              "      <td>1.000000</td>\n",
              "      <td>0.000000</td>\n",
              "      <td>0.000000</td>\n",
              "      <td>0.000000</td>\n",
              "      <td>0.000000</td>\n",
              "      <td>0.000000</td>\n",
              "      <td>0.000000</td>\n",
              "      <td>0.000000</td>\n",
              "    </tr>\n",
              "    <tr>\n",
              "      <th>75%</th>\n",
              "      <td>1.223852e+00</td>\n",
              "      <td>7.581255e-01</td>\n",
              "      <td>1.281047e+00</td>\n",
              "      <td>-9.655301e-02</td>\n",
              "      <td>150.000000</td>\n",
              "      <td>7.424178e-02</td>\n",
              "      <td>1.000000</td>\n",
              "      <td>0.000000</td>\n",
              "      <td>0.000000</td>\n",
              "      <td>0.000000</td>\n",
              "      <td>...</td>\n",
              "      <td>0.000000</td>\n",
              "      <td>0.000000</td>\n",
              "      <td>1.000000</td>\n",
              "      <td>0.000000</td>\n",
              "      <td>0.000000</td>\n",
              "      <td>0.000000</td>\n",
              "      <td>0.000000</td>\n",
              "      <td>0.000000</td>\n",
              "      <td>0.000000</td>\n",
              "      <td>0.000000</td>\n",
              "    </tr>\n",
              "    <tr>\n",
              "      <th>max</th>\n",
              "      <td>1.224800e+00</td>\n",
              "      <td>2.845574e+00</td>\n",
              "      <td>1.509032e+00</td>\n",
              "      <td>7.643299e+00</td>\n",
              "      <td>889.000000</td>\n",
              "      <td>8.622592e+00</td>\n",
              "      <td>1.000000</td>\n",
              "      <td>1.000000</td>\n",
              "      <td>1.000000</td>\n",
              "      <td>1.000000</td>\n",
              "      <td>...</td>\n",
              "      <td>1.000000</td>\n",
              "      <td>1.000000</td>\n",
              "      <td>1.000000</td>\n",
              "      <td>1.000000</td>\n",
              "      <td>1.000000</td>\n",
              "      <td>1.000000</td>\n",
              "      <td>1.000000</td>\n",
              "      <td>1.000000</td>\n",
              "      <td>1.000000</td>\n",
              "      <td>1.000000</td>\n",
              "    </tr>\n",
              "  </tbody>\n",
              "</table>\n",
              "<p>8 rows × 119 columns</p>\n",
              "</div>\n",
              "      <button class=\"colab-df-convert\" onclick=\"convertToInteractive('df-28cb3292-a05d-4d79-ab62-87820e406d5d')\"\n",
              "              title=\"Convert this dataframe to an interactive table.\"\n",
              "              style=\"display:none;\">\n",
              "        \n",
              "  <svg xmlns=\"http://www.w3.org/2000/svg\" height=\"24px\"viewBox=\"0 0 24 24\"\n",
              "       width=\"24px\">\n",
              "    <path d=\"M0 0h24v24H0V0z\" fill=\"none\"/>\n",
              "    <path d=\"M18.56 5.44l.94 2.06.94-2.06 2.06-.94-2.06-.94-.94-2.06-.94 2.06-2.06.94zm-11 1L8.5 8.5l.94-2.06 2.06-.94-2.06-.94L8.5 2.5l-.94 2.06-2.06.94zm10 10l.94 2.06.94-2.06 2.06-.94-2.06-.94-.94-2.06-.94 2.06-2.06.94z\"/><path d=\"M17.41 7.96l-1.37-1.37c-.4-.4-.92-.59-1.43-.59-.52 0-1.04.2-1.43.59L10.3 9.45l-7.72 7.72c-.78.78-.78 2.05 0 2.83L4 21.41c.39.39.9.59 1.41.59.51 0 1.02-.2 1.41-.59l7.78-7.78 2.81-2.81c.8-.78.8-2.07 0-2.86zM5.41 20L4 18.59l7.72-7.72 1.47 1.35L5.41 20z\"/>\n",
              "  </svg>\n",
              "      </button>\n",
              "      \n",
              "  <style>\n",
              "    .colab-df-container {\n",
              "      display:flex;\n",
              "      flex-wrap:wrap;\n",
              "      gap: 12px;\n",
              "    }\n",
              "\n",
              "    .colab-df-convert {\n",
              "      background-color: #E8F0FE;\n",
              "      border: none;\n",
              "      border-radius: 50%;\n",
              "      cursor: pointer;\n",
              "      display: none;\n",
              "      fill: #1967D2;\n",
              "      height: 32px;\n",
              "      padding: 0 0 0 0;\n",
              "      width: 32px;\n",
              "    }\n",
              "\n",
              "    .colab-df-convert:hover {\n",
              "      background-color: #E2EBFA;\n",
              "      box-shadow: 0px 1px 2px rgba(60, 64, 67, 0.3), 0px 1px 3px 1px rgba(60, 64, 67, 0.15);\n",
              "      fill: #174EA6;\n",
              "    }\n",
              "\n",
              "    [theme=dark] .colab-df-convert {\n",
              "      background-color: #3B4455;\n",
              "      fill: #D2E3FC;\n",
              "    }\n",
              "\n",
              "    [theme=dark] .colab-df-convert:hover {\n",
              "      background-color: #434B5C;\n",
              "      box-shadow: 0px 1px 3px 1px rgba(0, 0, 0, 0.15);\n",
              "      filter: drop-shadow(0px 1px 2px rgba(0, 0, 0, 0.3));\n",
              "      fill: #FFFFFF;\n",
              "    }\n",
              "  </style>\n",
              "\n",
              "      <script>\n",
              "        const buttonEl =\n",
              "          document.querySelector('#df-28cb3292-a05d-4d79-ab62-87820e406d5d button.colab-df-convert');\n",
              "        buttonEl.style.display =\n",
              "          google.colab.kernel.accessAllowed ? 'block' : 'none';\n",
              "\n",
              "        async function convertToInteractive(key) {\n",
              "          const element = document.querySelector('#df-28cb3292-a05d-4d79-ab62-87820e406d5d');\n",
              "          const dataTable =\n",
              "            await google.colab.kernel.invokeFunction('convertToInteractive',\n",
              "                                                     [key], {});\n",
              "          if (!dataTable) return;\n",
              "\n",
              "          const docLinkHtml = 'Like what you see? Visit the ' +\n",
              "            '<a target=\"_blank\" href=https://colab.research.google.com/notebooks/data_table.ipynb>data table notebook</a>'\n",
              "            + ' to learn more about interactive tables.';\n",
              "          element.innerHTML = '';\n",
              "          dataTable['output_type'] = 'display_data';\n",
              "          await google.colab.output.renderOutput(dataTable, element);\n",
              "          const docLink = document.createElement('div');\n",
              "          docLink.innerHTML = docLinkHtml;\n",
              "          element.appendChild(docLink);\n",
              "        }\n",
              "      </script>\n",
              "    </div>\n",
              "  </div>\n",
              "  "
            ]
          },
          "metadata": {},
          "execution_count": 387
        }
      ],
      "source": [
        "num_columns = [\"year_week\", \"display_size\", \"sales_units\", \"specs\", \"purchases_units\"]\n",
        "\n",
        "sub_X_train = X_train[num_columns]\n",
        "\n",
        "train_mean = sub_X_train.mean()\n",
        "train_std = sub_X_train.std()\n",
        "\n",
        "sub_X_train = (sub_X_train - train_mean) / train_std\n",
        "\n",
        "X_train[num_columns] = sub_X_train[num_columns]\n",
        "X_train.describe()"
      ]
    },
    {
      "cell_type": "code",
      "source": [
        "def sliding_window(data, labels, input_width, label_width=1, offset=1):\n",
        "    x = []\n",
        "    y = []\n",
        "\n",
        "    for i in range(len(data)-input_width-label_width-offset):\n",
        "        _x = data[i:i+input_width]\n",
        "        _y = labels[i+input_width+offset:i+input_width+offset+label_width]\n",
        "        x.append(_x)\n",
        "        y.append(_y)\n",
        "\n",
        "    x, y = np.array(x),np.array(y)\n",
        "\n",
        "    if len(x.shape) == 2:\n",
        "        x = x[:,:,np.newaxis]\n",
        "\n",
        "    if len(y.shape) == 2:\n",
        "        y = y[:,:,np.newaxis]\n",
        "    \n",
        "    return x, y"
      ],
      "metadata": {
        "id": "Z34_7g2xE0iR"
      },
      "execution_count": 388,
      "outputs": []
    },
    {
      "cell_type": "code",
      "execution_count": 389,
      "metadata": {
        "id": "GAOliFvXEQES",
        "outputId": "7f12eeed-9ab8-49d9-b308-2974ca3d04b4",
        "colab": {
          "base_uri": "https://localhost:8080/"
        }
      },
      "outputs": [
        {
          "output_type": "execute_result",
          "data": {
            "text/plain": [
              "6.165403575501984e-13"
            ]
          },
          "metadata": {},
          "execution_count": 389
        }
      ],
      "source": [
        "from sklearn.metrics import mean_squared_error\n",
        "from sklearn.linear_model import LinearRegression\n",
        "\n",
        "lm_model = LinearRegression()\n",
        "lm_model.fit(X_train, Y_train)\n",
        "\n",
        "y_pred = lm_model.predict(X_train)\n",
        "y_true = Y_train\n",
        "rms = mean_squared_error(y_true, y_pred, squared=False)\n",
        "rms"
      ]
    },
    {
      "cell_type": "markdown",
      "source": [
        "## Ventanas"
      ],
      "metadata": {
        "id": "xtaoTJbfFz1N"
      }
    },
    {
      "cell_type": "code",
      "source": [
        "class WindowGenerator():\n",
        "  def __init__(self, input_width, label_width, shift,\n",
        "               train_df=train_df, val_df=None, test_df=None,\n",
        "               label_columns=None):\n",
        "    # Store the raw data.\n",
        "    self.train_df = train_df\n",
        "    self.val_df = val_df\n",
        "    self.test_df = test_df\n",
        "\n",
        "    # Work out the label column indices.\n",
        "    self.label_columns = label_columns\n",
        "    if label_columns is not None:\n",
        "      self.label_columns_indices = {name: i for i, name in\n",
        "                                    enumerate(label_columns)}\n",
        "    self.column_indices = {name: i for i, name in\n",
        "                           enumerate(train_df.columns)}\n",
        "\n",
        "    # Work out the window parameters.\n",
        "    self.input_width = input_width\n",
        "    self.label_width = label_width\n",
        "    self.shift = shift\n",
        "\n",
        "    self.total_window_size = input_width + shift\n",
        "\n",
        "    self.input_slice = slice(0, input_width)\n",
        "    self.input_indices = np.arange(self.total_window_size)[self.input_slice]\n",
        "\n",
        "    self.label_start = self.total_window_size - self.label_width\n",
        "    self.labels_slice = slice(self.label_start, None)\n",
        "    self.label_indices = np.arange(self.total_window_size)[self.labels_slice]\n",
        "\n",
        "  def __repr__(self):\n",
        "    return '\\n'.join([\n",
        "        f'Total window size: {self.total_window_size}',\n",
        "        f'Input indices: {self.input_indices}',\n",
        "        f'Label indices: {self.label_indices}',\n",
        "        f'Label column name(s): {self.label_columns}'])"
      ],
      "metadata": {
        "id": "oQboRHeSF1iR"
      },
      "execution_count": 390,
      "outputs": []
    },
    {
      "cell_type": "code",
      "source": [
        "w2 = WindowGenerator(input_width=10, label_width=1, shift=1,label_columns=['inventory_units'])\n",
        "w2"
      ],
      "metadata": {
        "id": "q7lSMsfUGHio",
        "outputId": "81429cf8-0cb8-43b1-e893-686a8d920918",
        "colab": {
          "base_uri": "https://localhost:8080/"
        }
      },
      "execution_count": 391,
      "outputs": [
        {
          "output_type": "execute_result",
          "data": {
            "text/plain": [
              "Total window size: 11\n",
              "Input indices: [0 1 2 3 4 5 6 7 8 9]\n",
              "Label indices: [10]\n",
              "Label column name(s): ['inventory_units']"
            ]
          },
          "metadata": {},
          "execution_count": 391
        }
      ]
    },
    {
      "cell_type": "code",
      "source": [
        "def split_window(self, features):\n",
        "  inputs = features[:, self.input_slice, :]\n",
        "  labels = features[:, self.labels_slice, :]\n",
        "  if self.label_columns is not None:\n",
        "    labels = tf.stack(\n",
        "        [labels[:, :, self.column_indices[name]] for name in self.label_columns],\n",
        "        axis=-1)\n",
        "\n",
        "  # Slicing doesn't preserve static shape information, so set the shapes\n",
        "  # manually. This way the `tf.data.Datasets` are easier to inspect.\n",
        "  inputs.set_shape([None, self.input_width, None])\n",
        "  labels.set_shape([None, self.label_width, None])\n",
        "\n",
        "  return inputs, labels\n",
        "\n",
        "WindowGenerator.split_window = split_window"
      ],
      "metadata": {
        "id": "uDCi1MmdGwxq"
      },
      "execution_count": 392,
      "outputs": []
    },
    {
      "cell_type": "code",
      "source": [
        "# Stack three slices, the length of the total window.\n",
        "example_window = tf.stack([np.array(X_train[:w2.total_window_size]),\n",
        "                           np.array(X_train[1000:1000+w2.total_window_size]),\n",
        "                           np.array(X_train[7000:7000+w2.total_window_size])])\n",
        "\n",
        "example_inputs, example_labels = w2.split_window(example_window)\n",
        "\n",
        "print('All shapes are: (batch, time, features)')\n",
        "print(f'Window shape: {example_window.shape}')\n",
        "print(f'Inputs shape: {example_inputs.shape}')\n",
        "print(f'Labels shape: {example_labels.shape}')"
      ],
      "metadata": {
        "id": "-4R5_W-0IgyV",
        "outputId": "c963df5e-01b1-4fd2-c381-731044ed0ae2",
        "colab": {
          "base_uri": "https://localhost:8080/"
        }
      },
      "execution_count": 393,
      "outputs": [
        {
          "output_type": "stream",
          "name": "stdout",
          "text": [
            "All shapes are: (batch, time, features)\n",
            "Window shape: (3, 11, 119)\n",
            "Inputs shape: (3, 10, 119)\n",
            "Labels shape: (3, 1, 1)\n"
          ]
        }
      ]
    },
    {
      "cell_type": "markdown",
      "source": [
        "### Plot\n"
      ],
      "metadata": {
        "id": "WRGMbY5tJEpK"
      }
    },
    {
      "cell_type": "code",
      "source": [
        "w2.example = example_inputs, example_labels"
      ],
      "metadata": {
        "id": "Q58OVliMJHVi"
      },
      "execution_count": 394,
      "outputs": []
    },
    {
      "cell_type": "code",
      "source": [
        "def plot(self, model=None, plot_col='inventory_units', max_subplots=3):\n",
        "  inputs, labels = self.example\n",
        "  plt.figure(figsize=(12, 8))\n",
        "  plot_col_index = self.column_indices[plot_col]\n",
        "  max_n = min(max_subplots, len(inputs))\n",
        "  for n in range(max_n):\n",
        "    plt.subplot(max_n, 1, n+1)\n",
        "    plt.ylabel(f'{plot_col} [normed]')\n",
        "    plt.plot(self.input_indices, inputs[n, :, plot_col_index],\n",
        "             label='Inputs', marker='.', zorder=-10)\n",
        "\n",
        "    if self.label_columns:\n",
        "      label_col_index = self.label_columns_indices.get(plot_col, None)\n",
        "    else:\n",
        "      label_col_index = plot_col_index\n",
        "\n",
        "    if label_col_index is None:\n",
        "      continue\n",
        "\n",
        "    plt.scatter(self.label_indices, labels[n, :, label_col_index],\n",
        "                edgecolors='k', label='Labels', c='#2ca02c', s=64)\n",
        "    if model is not None:\n",
        "      predictions = model(inputs)\n",
        "      plt.scatter(self.label_indices, predictions[n, :, label_col_index],\n",
        "                  marker='X', edgecolors='k', label='Predictions',\n",
        "                  c='#ff7f0e', s=64)\n",
        "\n",
        "    if n == 0:\n",
        "      plt.legend()\n",
        "\n",
        "  plt.xlabel('Time [h]')\n",
        "\n",
        "WindowGenerator.plot = plot\n",
        "w2.plot()"
      ],
      "metadata": {
        "id": "EAPK7OVBJJzm",
        "outputId": "731d1cd8-e78f-406d-aae2-9c136cffdfdf",
        "colab": {
          "base_uri": "https://localhost:8080/",
          "height": 696
        }
      },
      "execution_count": 395,
      "outputs": [
        {
          "output_type": "display_data",
          "data": {
            "text/plain": [
              "<Figure size 1200x800 with 3 Axes>"
            ],
            "image/png": "[encoded data removed]"
          },
          "metadata": {}
        }
      ]
    },
    {
      "cell_type": "markdown",
      "source": [
        "### Baseline\n"
      ],
      "metadata": {
        "id": "ClJqgtvQKiMU"
      }
    },
    {
      "cell_type": "code",
      "source": [
        "lstm_model = tf.keras.models.Sequential([\n",
        "    # Shape [batch, time, features] => [batch, time, lstm_units]\n",
        "    tf.keras.layers.LSTM(32, return_sequences=True),\n",
        "    # Shape => [batch, time, features]\n",
        "    tf.keras.layers.Dense(units=1)\n",
        "])"
      ],
      "metadata": {
        "id": "zjOz6VgzKi_J"
      },
      "execution_count": 396,
      "outputs": []
    },
    {
      "cell_type": "code",
      "source": [
        "MAX_EPOCHS = 20\n",
        "\n",
        "def compile_and_fit(model, window, patience=2):\n",
        "  early_stopping = tf.keras.callbacks.EarlyStopping(monitor='val_loss',\n",
        "                                                    patience=patience,\n",
        "                                                    mode='min')\n",
        "\n",
        "  model.compile(loss=tf.losses.MeanSquaredError(),\n",
        "                optimizer=tf.optimizers.Adam(),\n",
        "                metrics=[tf.metrics.MeanAbsoluteError()])\n",
        "\n",
        "  history = model.fit(window.train, epochs=MAX_EPOCHS,\n",
        "                      callbacks=[early_stopping])\n",
        "  return history"
      ],
      "metadata": {
        "id": "MmNVCWbIShVG"
      },
      "execution_count": 397,
      "outputs": []
    },
    {
      "cell_type": "code",
      "source": [
        "wide_window = WindowGenerator(\n",
        "    input_width=24, label_width=24, shift=1,\n",
        "    label_columns=['T (degC)'])\n",
        "\n",
        "history = compile_wide_windowand_fit(lstm_model, )"
      ],
      "metadata": {
        "id": "51LudnFWOoui",
        "outputId": "df286c08-f94e-4a40-9170-53244c633675",
        "colab": {
          "base_uri": "https://localhost:8080/",
          "height": 204
        }
      },
      "execution_count": 398,
      "outputs": [
        {
          "output_type": "error",
          "ename": "NameError",
          "evalue": "ignored",
          "traceback": [
            "\u001b[0;31m---------------------------------------------------------------------------\u001b[0m",
            "\u001b[0;31mNameError\u001b[0m                                 Traceback (most recent call last)",
            "\u001b[0;32m<ipython-input-398-8df49f1c6330>\u001b[0m in \u001b[0;36m<cell line: 5>\u001b[0;34m()\u001b[0m\n\u001b[1;32m      3\u001b[0m     label_columns=['T (degC)'])\n\u001b[1;32m      4\u001b[0m \u001b[0;34m\u001b[0m\u001b[0m\n\u001b[0;32m----> 5\u001b[0;31m \u001b[0mhistory\u001b[0m \u001b[0;34m=\u001b[0m \u001b[0mcompile_wide_windowand_fit\u001b[0m\u001b[0;34m(\u001b[0m\u001b[0mlstm_model\u001b[0m\u001b[0;34m,\u001b[0m \u001b[0;34m)\u001b[0m\u001b[0;34m\u001b[0m\u001b[0;34m\u001b[0m\u001b[0m\n\u001b[0m",
            "\u001b[0;31mNameError\u001b[0m: name 'compile_wide_windowand_fit' is not defined"
          ]
        }
      ]
    },
    {
      "cell_type": "code",
      "source": [],
      "metadata": {
        "id": "AZvNn8BGOruh"
      },
      "execution_count": null,
      "outputs": []
    },
    {
      "cell_type": "code",
      "source": [],
      "metadata": {
        "id": "4XFw-RZdQ6D8"
      },
      "execution_count": null,
      "outputs": []
    },
    {
      "cell_type": "markdown",
      "source": [
        "## LTSM"
      ],
      "metadata": {
        "id": "2wR8wHzOEkOA"
      }
    },
    {
      "cell_type": "code",
      "source": [
        "import tensorflow as tf\n",
        "\n",
        "lstm_model = tf.keras.models.Sequential([\n",
        "    tf.keras.layers.LSTM(units=64, return_sequences=True), \n",
        "    tf.keras.layers.LSTM(units=32, return_sequences=True), \n",
        "    tf.keras.layers.LSTM(units=32, return_sequences=False),\n",
        "    tf.keras.layers.Dense(units=1)\n",
        "])"
      ],
      "metadata": {
        "id": "3roacyrlEoqG"
      },
      "execution_count": null,
      "outputs": []
    }
  ],
  "metadata": {
    "colab": {
      "provenance": []
    },
    "kernelspec": {
      "display_name": "Python 3 (ipykernel)",
      "language": "python",
      "name": "python3"
    },
    "language_info": {
      "codemirror_mode": {
        "name": "ipython",
        "version": 3
      },
      "file_extension": ".py",
      "mimetype": "text/x-python",
      "name": "python",
      "nbconvert_exporter": "python",
      "pygments_lexer": "ipython3",
      "version": "3.10.6"
    }
  },
  "nbformat": 4,
  "nbformat_minor": 0
}