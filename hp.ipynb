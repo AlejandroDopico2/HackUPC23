{
 "cells": [
  {
   "cell_type": "code",
   "execution_count": 264,
   "metadata": {
    "executionInfo": {
     "elapsed": 4,
     "status": "ok",
     "timestamp": 1683940696650,
     "user": {
      "displayName": "Alejandro Garcia",
      "userId": "18040132974707193566"
     },
     "user_tz": -120
    },
    "id": "E1rqi4_QOX_D"
   },
   "outputs": [],
   "source": [
    "import pandas as pd \n",
    "import matplotlib.pyplot as plt\n",
    "import numpy as np\n",
    "import os "
   ]
  },
  {
   "cell_type": "markdown",
   "metadata": {
    "id": "-lB6Fk8ur7cy"
   },
   "source": [
    "# Nueva sección"
   ]
  },
  {
   "cell_type": "code",
   "execution_count": 265,
   "metadata": {
    "colab": {
     "base_uri": "https://localhost:8080/",
     "height": 357
    },
    "executionInfo": {
     "elapsed": 256,
     "status": "ok",
     "timestamp": 1683940777585,
     "user": {
      "displayName": "Alejandro Garcia",
      "userId": "18040132974707193566"
     },
     "user_tz": -120
    },
    "id": "iUwhnV4fPK49",
    "outputId": "14627e14-2e92-4a37-ab75-d6bc537b0b3f"
   },
   "outputs": [
    {
     "data": {
      "text/html": [
       "<div>\n",
       "<style scoped>\n",
       "    .dataframe tbody tr th:only-of-type {\n",
       "        vertical-align: middle;\n",
       "    }\n",
       "\n",
       "    .dataframe tbody tr th {\n",
       "        vertical-align: top;\n",
       "    }\n",
       "\n",
       "    .dataframe thead th {\n",
       "        text-align: right;\n",
       "    }\n",
       "</style>\n",
       "<table border=\"1\" class=\"dataframe\">\n",
       "  <thead>\n",
       "    <tr style=\"text-align: right;\">\n",
       "      <th></th>\n",
       "      <th>id</th>\n",
       "      <th>date</th>\n",
       "      <th>year_week</th>\n",
       "      <th>product_number</th>\n",
       "      <th>reporterhq_id</th>\n",
       "      <th>prod_category</th>\n",
       "      <th>specs</th>\n",
       "      <th>display_size</th>\n",
       "      <th>segment</th>\n",
       "      <th>sales_units</th>\n",
       "      <th>inventory_units</th>\n",
       "    </tr>\n",
       "  </thead>\n",
       "  <tbody>\n",
       "    <tr>\n",
       "      <th>0</th>\n",
       "      <td>202119-6909</td>\n",
       "      <td>2021-05-15</td>\n",
       "      <td>202119</td>\n",
       "      <td>6909</td>\n",
       "      <td>93</td>\n",
       "      <td>Arale</td>\n",
       "      <td>21274</td>\n",
       "      <td>13.3</td>\n",
       "      <td>Premium</td>\n",
       "      <td>2.0</td>\n",
       "      <td>35.0</td>\n",
       "    </tr>\n",
       "    <tr>\n",
       "      <th>1</th>\n",
       "      <td>202120-6909</td>\n",
       "      <td>2021-05-22</td>\n",
       "      <td>202120</td>\n",
       "      <td>6909</td>\n",
       "      <td>93</td>\n",
       "      <td>Arale</td>\n",
       "      <td>21274</td>\n",
       "      <td>13.3</td>\n",
       "      <td>Premium</td>\n",
       "      <td>0.0</td>\n",
       "      <td>70.0</td>\n",
       "    </tr>\n",
       "    <tr>\n",
       "      <th>2</th>\n",
       "      <td>202121-6909</td>\n",
       "      <td>2021-05-29</td>\n",
       "      <td>202121</td>\n",
       "      <td>6909</td>\n",
       "      <td>93</td>\n",
       "      <td>Arale</td>\n",
       "      <td>21274</td>\n",
       "      <td>13.3</td>\n",
       "      <td>Premium</td>\n",
       "      <td>3.0</td>\n",
       "      <td>137.0</td>\n",
       "    </tr>\n",
       "    <tr>\n",
       "      <th>3</th>\n",
       "      <td>202122-6909</td>\n",
       "      <td>2021-06-05</td>\n",
       "      <td>202122</td>\n",
       "      <td>6909</td>\n",
       "      <td>93</td>\n",
       "      <td>Arale</td>\n",
       "      <td>21274</td>\n",
       "      <td>13.3</td>\n",
       "      <td>Premium</td>\n",
       "      <td>0.0</td>\n",
       "      <td>274.0</td>\n",
       "    </tr>\n",
       "    <tr>\n",
       "      <th>4</th>\n",
       "      <td>202123-6909</td>\n",
       "      <td>2021-06-12</td>\n",
       "      <td>202123</td>\n",
       "      <td>6909</td>\n",
       "      <td>93</td>\n",
       "      <td>Arale</td>\n",
       "      <td>21274</td>\n",
       "      <td>13.3</td>\n",
       "      <td>Premium</td>\n",
       "      <td>0.0</td>\n",
       "      <td>333.0</td>\n",
       "    </tr>\n",
       "  </tbody>\n",
       "</table>\n",
       "</div>"
      ],
      "text/plain": [
       "            id        date  year_week  product_number  reporterhq_id  \\\n",
       "0  202119-6909  2021-05-15     202119            6909             93   \n",
       "1  202120-6909  2021-05-22     202120            6909             93   \n",
       "2  202121-6909  2021-05-29     202121            6909             93   \n",
       "3  202122-6909  2021-06-05     202122            6909             93   \n",
       "4  202123-6909  2021-06-12     202123            6909             93   \n",
       "\n",
       "  prod_category  specs  display_size  segment  sales_units  inventory_units  \n",
       "0         Arale  21274          13.3  Premium          2.0             35.0  \n",
       "1         Arale  21274          13.3  Premium          0.0             70.0  \n",
       "2         Arale  21274          13.3  Premium          3.0            137.0  \n",
       "3         Arale  21274          13.3  Premium          0.0            274.0  \n",
       "4         Arale  21274          13.3  Premium          0.0            333.0  "
      ]
     },
     "execution_count": 265,
     "metadata": {},
     "output_type": "execute_result"
    }
   ],
   "source": [
    "train_df = pd.read_csv('train.csv')\n",
    "train_df.head()"
   ]
  },
  {
   "cell_type": "code",
   "execution_count": 266,
   "metadata": {
    "colab": {
     "base_uri": "https://localhost:8080/"
    },
    "executionInfo": {
     "elapsed": 5,
     "status": "ok",
     "timestamp": 1683940779912,
     "user": {
      "displayName": "Alejandro Garcia",
      "userId": "18040132974707193566"
     },
     "user_tz": -120
    },
    "id": "NOyjAWOLPR68",
    "outputId": "c1f01d2c-28d9-455f-efa8-33e32ad0b2a2"
   },
   "outputs": [
    {
     "data": {
      "text/plain": [
       "id                  object\n",
       "date                object\n",
       "year_week            int64\n",
       "product_number       int64\n",
       "reporterhq_id        int64\n",
       "prod_category       object\n",
       "specs                int64\n",
       "display_size       float64\n",
       "segment             object\n",
       "sales_units        float64\n",
       "inventory_units    float64\n",
       "dtype: object"
      ]
     },
     "execution_count": 266,
     "metadata": {},
     "output_type": "execute_result"
    }
   ],
   "source": [
    "train_df.dtypes"
   ]
  },
  {
   "cell_type": "code",
   "execution_count": 267,
   "metadata": {
    "colab": {
     "base_uri": "https://localhost:8080/"
    },
    "executionInfo": {
     "elapsed": 3,
     "status": "ok",
     "timestamp": 1683940780967,
     "user": {
      "displayName": "Alejandro Garcia",
      "userId": "18040132974707193566"
     },
     "user_tz": -120
    },
    "id": "xp8F8L8ZPZwj",
    "outputId": "f7a259e5-6d9b-4b2d-c5b7-28160a3c6f2d"
   },
   "outputs": [
    {
     "data": {
      "text/plain": [
       "id                   0\n",
       "date                 0\n",
       "year_week            0\n",
       "product_number       0\n",
       "reporterhq_id        0\n",
       "prod_category        0\n",
       "specs                0\n",
       "display_size         0\n",
       "segment              0\n",
       "sales_units        491\n",
       "inventory_units    493\n",
       "dtype: int64"
      ]
     },
     "execution_count": 267,
     "metadata": {},
     "output_type": "execute_result"
    }
   ],
   "source": [
    "train_df.isna().sum()"
   ]
  },
  {
   "cell_type": "code",
   "execution_count": 268,
   "metadata": {
    "colab": {
     "base_uri": "https://localhost:8080/"
    },
    "executionInfo": {
     "elapsed": 423,
     "status": "ok",
     "timestamp": 1683940782497,
     "user": {
      "displayName": "Alejandro Garcia",
      "userId": "18040132974707193566"
     },
     "user_tz": -120
    },
    "id": "7fDBGFbXQ1tY",
    "outputId": "9cbeb1b2-1c9e-4d9d-9599-416598f37d66"
   },
   "outputs": [
    {
     "name": "stdout",
     "output_type": "stream",
     "text": [
      "Existen 0 columnas duplicadas\n"
     ]
    }
   ],
   "source": [
    "subset = train_df[[\"id\", \"reporterhq_id\"]]\n",
    "dup = np.sum(subset.duplicated())\n",
    "print(f\"Existen {dup} columnas duplicadas\")"
   ]
  },
  {
   "cell_type": "code",
   "execution_count": 269,
   "metadata": {
    "colab": {
     "base_uri": "https://localhost:8080/"
    },
    "executionInfo": {
     "elapsed": 238,
     "status": "ok",
     "timestamp": 1683940783075,
     "user": {
      "displayName": "Alejandro Garcia",
      "userId": "18040132974707193566"
     },
     "user_tz": -120
    },
    "id": "H_05Nx28VCRa",
    "outputId": "099bfb7b-b07a-4b7f-a63d-23e905914fea"
   },
   "outputs": [
    {
     "name": "stdout",
     "output_type": "stream",
     "text": [
      "Un 3.1771709589750223% de sales_unit son nulos y 3.190112592209137% de inventory null\n"
     ]
    }
   ],
   "source": [
    "sales_unit_na= train_df[\"sales_units\"].isna().sum()/train_df.shape[0]\n",
    "inventory_unit_na= train_df[\"inventory_units\"].isna().sum()/train_df.shape[0]\n",
    "\n",
    "print(f\"Un {sales_unit_na*100}% de sales_unit son nulos y {inventory_unit_na*100}% de inventory null\")"
   ]
  },
  {
   "cell_type": "code",
   "execution_count": 270,
   "metadata": {
    "colab": {
     "base_uri": "https://localhost:8080/"
    },
    "executionInfo": {
     "elapsed": 298,
     "status": "ok",
     "timestamp": 1683940784809,
     "user": {
      "displayName": "Alejandro Garcia",
      "userId": "18040132974707193566"
     },
     "user_tz": -120
    },
    "id": "2lUc24exTm79",
    "outputId": "fe964f1b-164f-44f4-da36-d13e99c02eae"
   },
   "outputs": [
    {
     "data": {
      "text/plain": [
       "id                 0\n",
       "date               0\n",
       "year_week          0\n",
       "product_number     0\n",
       "reporterhq_id      0\n",
       "prod_category      0\n",
       "specs              0\n",
       "display_size       0\n",
       "segment            0\n",
       "sales_units        0\n",
       "inventory_units    0\n",
       "dtype: int64"
      ]
     },
     "execution_count": 270,
     "metadata": {},
     "output_type": "execute_result"
    }
   ],
   "source": [
    "non_na = train_df.dropna()\n",
    "non_na.isna().sum()"
   ]
  },
  {
   "cell_type": "code",
   "execution_count": 271,
   "metadata": {
    "colab": {
     "base_uri": "https://localhost:8080/"
    },
    "executionInfo": {
     "elapsed": 17,
     "status": "ok",
     "timestamp": 1683940267942,
     "user": {
      "displayName": "Alejandro Dopico",
      "userId": "05513911091129829950"
     },
     "user_tz": -120
    },
    "id": "5nivsNQ0Wg3S",
    "outputId": "9500dc13-237c-4806-8f20-7dfd77b5f248"
   },
   "outputs": [
    {
     "name": "stdout",
     "output_type": "stream",
     "text": [
      "(14478, 11) (15454, 11)\n"
     ]
    }
   ],
   "source": [
    "print(non_na.shape, train_df.shape)"
   ]
  },
  {
   "cell_type": "code",
   "execution_count": 272,
   "metadata": {
    "colab": {
     "base_uri": "https://localhost:8080/",
     "height": 300
    },
    "executionInfo": {
     "elapsed": 16,
     "status": "ok",
     "timestamp": 1683940267942,
     "user": {
      "displayName": "Alejandro Dopico",
      "userId": "05513911091129829950"
     },
     "user_tz": -120
    },
    "id": "6NE8SwyDSWPK",
    "outputId": "7a9a803d-ee2c-448d-fec4-a5165123826a"
   },
   "outputs": [
    {
     "data": {
      "text/html": [
       "<div>\n",
       "<style scoped>\n",
       "    .dataframe tbody tr th:only-of-type {\n",
       "        vertical-align: middle;\n",
       "    }\n",
       "\n",
       "    .dataframe tbody tr th {\n",
       "        vertical-align: top;\n",
       "    }\n",
       "\n",
       "    .dataframe thead th {\n",
       "        text-align: right;\n",
       "    }\n",
       "</style>\n",
       "<table border=\"1\" class=\"dataframe\">\n",
       "  <thead>\n",
       "    <tr style=\"text-align: right;\">\n",
       "      <th></th>\n",
       "      <th>year_week</th>\n",
       "      <th>product_number</th>\n",
       "      <th>reporterhq_id</th>\n",
       "      <th>specs</th>\n",
       "      <th>display_size</th>\n",
       "      <th>sales_units</th>\n",
       "      <th>inventory_units</th>\n",
       "    </tr>\n",
       "  </thead>\n",
       "  <tbody>\n",
       "    <tr>\n",
       "      <th>count</th>\n",
       "      <td>14478.000000</td>\n",
       "      <td>14478.000000</td>\n",
       "      <td>14478.000000</td>\n",
       "      <td>14478.000000</td>\n",
       "      <td>14478.000000</td>\n",
       "      <td>14478.000000</td>\n",
       "      <td>14478.000000</td>\n",
       "    </tr>\n",
       "    <tr>\n",
       "      <th>mean</th>\n",
       "      <td>202240.919809</td>\n",
       "      <td>127111.665562</td>\n",
       "      <td>42.032739</td>\n",
       "      <td>112407.304669</td>\n",
       "      <td>15.159525</td>\n",
       "      <td>26.002625</td>\n",
       "      <td>71.749482</td>\n",
       "    </tr>\n",
       "    <tr>\n",
       "      <th>std</th>\n",
       "      <td>61.643873</td>\n",
       "      <td>77427.684132</td>\n",
       "      <td>34.864066</td>\n",
       "      <td>63754.223010</td>\n",
       "      <td>1.422528</td>\n",
       "      <td>29.398877</td>\n",
       "      <td>66.317573</td>\n",
       "    </tr>\n",
       "    <tr>\n",
       "      <th>min</th>\n",
       "      <td>201915.000000</td>\n",
       "      <td>6909.000000</td>\n",
       "      <td>3.000000</td>\n",
       "      <td>967.000000</td>\n",
       "      <td>11.000000</td>\n",
       "      <td>0.000000</td>\n",
       "      <td>0.000000</td>\n",
       "    </tr>\n",
       "    <tr>\n",
       "      <th>25%</th>\n",
       "      <td>202218.000000</td>\n",
       "      <td>58233.000000</td>\n",
       "      <td>15.000000</td>\n",
       "      <td>58987.000000</td>\n",
       "      <td>14.000000</td>\n",
       "      <td>3.000000</td>\n",
       "      <td>26.000000</td>\n",
       "    </tr>\n",
       "    <tr>\n",
       "      <th>50%</th>\n",
       "      <td>202239.000000</td>\n",
       "      <td>116466.000000</td>\n",
       "      <td>24.000000</td>\n",
       "      <td>109271.000000</td>\n",
       "      <td>15.600000</td>\n",
       "      <td>16.000000</td>\n",
       "      <td>56.000000</td>\n",
       "    </tr>\n",
       "    <tr>\n",
       "      <th>75%</th>\n",
       "      <td>202304.000000</td>\n",
       "      <td>196413.000000</td>\n",
       "      <td>78.000000</td>\n",
       "      <td>157621.000000</td>\n",
       "      <td>15.600000</td>\n",
       "      <td>38.000000</td>\n",
       "      <td>97.000000</td>\n",
       "    </tr>\n",
       "    <tr>\n",
       "      <th>max</th>\n",
       "      <td>202318.000000</td>\n",
       "      <td>247737.000000</td>\n",
       "      <td>96.000000</td>\n",
       "      <td>236915.000000</td>\n",
       "      <td>17.300000</td>\n",
       "      <td>186.000000</td>\n",
       "      <td>399.000000</td>\n",
       "    </tr>\n",
       "  </tbody>\n",
       "</table>\n",
       "</div>"
      ],
      "text/plain": [
       "           year_week  product_number  reporterhq_id          specs  \\\n",
       "count   14478.000000    14478.000000   14478.000000   14478.000000   \n",
       "mean   202240.919809   127111.665562      42.032739  112407.304669   \n",
       "std        61.643873    77427.684132      34.864066   63754.223010   \n",
       "min    201915.000000     6909.000000       3.000000     967.000000   \n",
       "25%    202218.000000    58233.000000      15.000000   58987.000000   \n",
       "50%    202239.000000   116466.000000      24.000000  109271.000000   \n",
       "75%    202304.000000   196413.000000      78.000000  157621.000000   \n",
       "max    202318.000000   247737.000000      96.000000  236915.000000   \n",
       "\n",
       "       display_size   sales_units  inventory_units  \n",
       "count  14478.000000  14478.000000     14478.000000  \n",
       "mean      15.159525     26.002625        71.749482  \n",
       "std        1.422528     29.398877        66.317573  \n",
       "min       11.000000      0.000000         0.000000  \n",
       "25%       14.000000      3.000000        26.000000  \n",
       "50%       15.600000     16.000000        56.000000  \n",
       "75%       15.600000     38.000000        97.000000  \n",
       "max       17.300000    186.000000       399.000000  "
      ]
     },
     "execution_count": 272,
     "metadata": {},
     "output_type": "execute_result"
    }
   ],
   "source": [
    "non_na.describe()"
   ]
  },
  {
   "cell_type": "code",
   "execution_count": 273,
   "metadata": {
    "colab": {
     "base_uri": "https://localhost:8080/",
     "height": 601
    },
    "executionInfo": {
     "elapsed": 268,
     "status": "ok",
     "timestamp": 1683940436452,
     "user": {
      "displayName": "Alejandro Dopico",
      "userId": "05513911091129829950"
     },
     "user_tz": -120
    },
    "id": "uzRVOeg5q8UI",
    "outputId": "b42a7b76-6ed6-4b3d-f16e-06bb1491543c"
   },
   "outputs": [
    {
     "data": {
      "text/plain": [
       "(14478, 11)"
      ]
     },
     "execution_count": 273,
     "metadata": {},
     "output_type": "execute_result"
    }
   ],
   "source": [
    "non_na.shape"
   ]
  },
  {
   "cell_type": "code",
   "execution_count": 274,
   "metadata": {
    "colab": {
     "background_save": true,
     "base_uri": "https://localhost:8080/"
    },
    "executionInfo": {
     "elapsed": 275,
     "status": "ok",
     "timestamp": 1683941516726,
     "user": {
      "displayName": "Alejandro Garcia",
      "userId": "18040132974707193566"
     },
     "user_tz": -120
    },
    "id": "bI1RSoG6hRYT"
   },
   "outputs": [
    {
     "data": {
      "text/html": [
       "<div>\n",
       "<style scoped>\n",
       "    .dataframe tbody tr th:only-of-type {\n",
       "        vertical-align: middle;\n",
       "    }\n",
       "\n",
       "    .dataframe tbody tr th {\n",
       "        vertical-align: top;\n",
       "    }\n",
       "\n",
       "    .dataframe thead th {\n",
       "        text-align: right;\n",
       "    }\n",
       "</style>\n",
       "<table border=\"1\" class=\"dataframe\">\n",
       "  <thead>\n",
       "    <tr style=\"text-align: right;\">\n",
       "      <th></th>\n",
       "      <th>product_number</th>\n",
       "      <th>specs</th>\n",
       "      <th>display_size</th>\n",
       "      <th>sales_units</th>\n",
       "      <th>inventory_units</th>\n",
       "    </tr>\n",
       "  </thead>\n",
       "  <tbody>\n",
       "    <tr>\n",
       "      <th>count</th>\n",
       "      <td>7542.000000</td>\n",
       "      <td>7542.000000</td>\n",
       "      <td>7542.000000</td>\n",
       "      <td>7542.000000</td>\n",
       "      <td>7542.000000</td>\n",
       "    </tr>\n",
       "    <tr>\n",
       "      <th>mean</th>\n",
       "      <td>126547.873906</td>\n",
       "      <td>110023.623972</td>\n",
       "      <td>15.157704</td>\n",
       "      <td>27.761204</td>\n",
       "      <td>137.733890</td>\n",
       "    </tr>\n",
       "    <tr>\n",
       "      <th>std</th>\n",
       "      <td>80560.155233</td>\n",
       "      <td>63865.270865</td>\n",
       "      <td>1.422126</td>\n",
       "      <td>29.988587</td>\n",
       "      <td>118.812817</td>\n",
       "    </tr>\n",
       "    <tr>\n",
       "      <th>min</th>\n",
       "      <td>6909.000000</td>\n",
       "      <td>967.000000</td>\n",
       "      <td>11.000000</td>\n",
       "      <td>0.000000</td>\n",
       "      <td>0.000000</td>\n",
       "    </tr>\n",
       "    <tr>\n",
       "      <th>25%</th>\n",
       "      <td>51324.000000</td>\n",
       "      <td>56086.000000</td>\n",
       "      <td>14.000000</td>\n",
       "      <td>4.000000</td>\n",
       "      <td>55.000000</td>\n",
       "    </tr>\n",
       "    <tr>\n",
       "      <th>50%</th>\n",
       "      <td>114492.000000</td>\n",
       "      <td>108304.000000</td>\n",
       "      <td>15.600000</td>\n",
       "      <td>19.000000</td>\n",
       "      <td>111.000000</td>\n",
       "    </tr>\n",
       "    <tr>\n",
       "      <th>75%</th>\n",
       "      <td>201348.000000</td>\n",
       "      <td>155687.000000</td>\n",
       "      <td>15.600000</td>\n",
       "      <td>41.000000</td>\n",
       "      <td>186.000000</td>\n",
       "    </tr>\n",
       "    <tr>\n",
       "      <th>max</th>\n",
       "      <td>247737.000000</td>\n",
       "      <td>236915.000000</td>\n",
       "      <td>17.300000</td>\n",
       "      <td>186.000000</td>\n",
       "      <td>889.000000</td>\n",
       "    </tr>\n",
       "  </tbody>\n",
       "</table>\n",
       "</div>"
      ],
      "text/plain": [
       "       product_number          specs  display_size  sales_units  \\\n",
       "count     7542.000000    7542.000000   7542.000000  7542.000000   \n",
       "mean    126547.873906  110023.623972     15.157704    27.761204   \n",
       "std      80560.155233   63865.270865      1.422126    29.988587   \n",
       "min       6909.000000     967.000000     11.000000     0.000000   \n",
       "25%      51324.000000   56086.000000     14.000000     4.000000   \n",
       "50%     114492.000000  108304.000000     15.600000    19.000000   \n",
       "75%     201348.000000  155687.000000     15.600000    41.000000   \n",
       "max     247737.000000  236915.000000     17.300000   186.000000   \n",
       "\n",
       "       inventory_units  \n",
       "count      7542.000000  \n",
       "mean        137.733890  \n",
       "std         118.812817  \n",
       "min           0.000000  \n",
       "25%          55.000000  \n",
       "50%         111.000000  \n",
       "75%         186.000000  \n",
       "max         889.000000  "
      ]
     },
     "execution_count": 274,
     "metadata": {},
     "output_type": "execute_result"
    }
   ],
   "source": [
    "test = non_na\n",
    "test = test.groupby(\"id\")[[\"id\", \"inventory_units\"]].sum()\n",
    "new_df = non_na.drop_duplicates(subset=['id'],keep = 'first')\n",
    "test.reset_index(inplace=True)\n",
    "\n",
    "new_df = pd.merge(new_df, test, on = 'id', how = 'left')\n",
    "new_df.loc[new_df['inventory_units_y'].notnull(), 'inventory_units'] = new_df['inventory_units_y']\n",
    "new_df.drop(['inventory_units_y', 'inventory_units_x', 'reporterhq_id', 'year_week'], axis=1, inplace=True)\n",
    "new_df.describe()"
   ]
  },
  {
   "cell_type": "code",
   "execution_count": 275,
   "metadata": {},
   "outputs": [
    {
     "data": {
      "text/html": [
       "<div>\n",
       "<style scoped>\n",
       "    .dataframe tbody tr th:only-of-type {\n",
       "        vertical-align: middle;\n",
       "    }\n",
       "\n",
       "    .dataframe tbody tr th {\n",
       "        vertical-align: top;\n",
       "    }\n",
       "\n",
       "    .dataframe thead th {\n",
       "        text-align: right;\n",
       "    }\n",
       "</style>\n",
       "<table border=\"1\" class=\"dataframe\">\n",
       "  <thead>\n",
       "    <tr style=\"text-align: right;\">\n",
       "      <th></th>\n",
       "      <th>id</th>\n",
       "      <th>date</th>\n",
       "      <th>product_number</th>\n",
       "      <th>prod_category</th>\n",
       "      <th>specs</th>\n",
       "      <th>display_size</th>\n",
       "      <th>segment</th>\n",
       "      <th>sales_units</th>\n",
       "      <th>inventory_units</th>\n",
       "    </tr>\n",
       "  </thead>\n",
       "  <tbody>\n",
       "    <tr>\n",
       "      <th>0</th>\n",
       "      <td>202119-6909</td>\n",
       "      <td>2021-05-15</td>\n",
       "      <td>6909</td>\n",
       "      <td>Arale</td>\n",
       "      <td>21274</td>\n",
       "      <td>13.3</td>\n",
       "      <td>Premium</td>\n",
       "      <td>2.0</td>\n",
       "      <td>35.0</td>\n",
       "    </tr>\n",
       "    <tr>\n",
       "      <th>1</th>\n",
       "      <td>202120-6909</td>\n",
       "      <td>2021-05-22</td>\n",
       "      <td>6909</td>\n",
       "      <td>Arale</td>\n",
       "      <td>21274</td>\n",
       "      <td>13.3</td>\n",
       "      <td>Premium</td>\n",
       "      <td>0.0</td>\n",
       "      <td>70.0</td>\n",
       "    </tr>\n",
       "    <tr>\n",
       "      <th>2</th>\n",
       "      <td>202121-6909</td>\n",
       "      <td>2021-05-29</td>\n",
       "      <td>6909</td>\n",
       "      <td>Arale</td>\n",
       "      <td>21274</td>\n",
       "      <td>13.3</td>\n",
       "      <td>Premium</td>\n",
       "      <td>3.0</td>\n",
       "      <td>137.0</td>\n",
       "    </tr>\n",
       "    <tr>\n",
       "      <th>3</th>\n",
       "      <td>202122-6909</td>\n",
       "      <td>2021-06-05</td>\n",
       "      <td>6909</td>\n",
       "      <td>Arale</td>\n",
       "      <td>21274</td>\n",
       "      <td>13.3</td>\n",
       "      <td>Premium</td>\n",
       "      <td>0.0</td>\n",
       "      <td>274.0</td>\n",
       "    </tr>\n",
       "    <tr>\n",
       "      <th>4</th>\n",
       "      <td>202123-6909</td>\n",
       "      <td>2021-06-12</td>\n",
       "      <td>6909</td>\n",
       "      <td>Arale</td>\n",
       "      <td>21274</td>\n",
       "      <td>13.3</td>\n",
       "      <td>Premium</td>\n",
       "      <td>0.0</td>\n",
       "      <td>333.0</td>\n",
       "    </tr>\n",
       "    <tr>\n",
       "      <th>...</th>\n",
       "      <td>...</td>\n",
       "      <td>...</td>\n",
       "      <td>...</td>\n",
       "      <td>...</td>\n",
       "      <td>...</td>\n",
       "      <td>...</td>\n",
       "      <td>...</td>\n",
       "      <td>...</td>\n",
       "      <td>...</td>\n",
       "    </tr>\n",
       "    <tr>\n",
       "      <th>7537</th>\n",
       "      <td>202314-247737</td>\n",
       "      <td>2023-04-08</td>\n",
       "      <td>247737</td>\n",
       "      <td>Arale</td>\n",
       "      <td>10637</td>\n",
       "      <td>13.3</td>\n",
       "      <td>Premium</td>\n",
       "      <td>13.0</td>\n",
       "      <td>44.0</td>\n",
       "    </tr>\n",
       "    <tr>\n",
       "      <th>7538</th>\n",
       "      <td>202315-247737</td>\n",
       "      <td>2023-04-15</td>\n",
       "      <td>247737</td>\n",
       "      <td>Arale</td>\n",
       "      <td>10637</td>\n",
       "      <td>13.3</td>\n",
       "      <td>Premium</td>\n",
       "      <td>12.0</td>\n",
       "      <td>30.0</td>\n",
       "    </tr>\n",
       "    <tr>\n",
       "      <th>7539</th>\n",
       "      <td>202316-247737</td>\n",
       "      <td>2023-04-22</td>\n",
       "      <td>247737</td>\n",
       "      <td>Arale</td>\n",
       "      <td>10637</td>\n",
       "      <td>13.3</td>\n",
       "      <td>Premium</td>\n",
       "      <td>6.0</td>\n",
       "      <td>37.0</td>\n",
       "    </tr>\n",
       "    <tr>\n",
       "      <th>7540</th>\n",
       "      <td>202317-247737</td>\n",
       "      <td>2023-04-29</td>\n",
       "      <td>247737</td>\n",
       "      <td>Arale</td>\n",
       "      <td>10637</td>\n",
       "      <td>13.3</td>\n",
       "      <td>Premium</td>\n",
       "      <td>12.0</td>\n",
       "      <td>65.0</td>\n",
       "    </tr>\n",
       "    <tr>\n",
       "      <th>7541</th>\n",
       "      <td>202318-247737</td>\n",
       "      <td>2023-05-06</td>\n",
       "      <td>247737</td>\n",
       "      <td>Arale</td>\n",
       "      <td>10637</td>\n",
       "      <td>13.3</td>\n",
       "      <td>Premium</td>\n",
       "      <td>22.0</td>\n",
       "      <td>79.0</td>\n",
       "    </tr>\n",
       "  </tbody>\n",
       "</table>\n",
       "<p>7542 rows × 9 columns</p>\n",
       "</div>"
      ],
      "text/plain": [
       "                 id       date  product_number prod_category  specs  \\\n",
       "0       202119-6909 2021-05-15            6909         Arale  21274   \n",
       "1       202120-6909 2021-05-22            6909         Arale  21274   \n",
       "2       202121-6909 2021-05-29            6909         Arale  21274   \n",
       "3       202122-6909 2021-06-05            6909         Arale  21274   \n",
       "4       202123-6909 2021-06-12            6909         Arale  21274   \n",
       "...             ...        ...             ...           ...    ...   \n",
       "7537  202314-247737 2023-04-08          247737         Arale  10637   \n",
       "7538  202315-247737 2023-04-15          247737         Arale  10637   \n",
       "7539  202316-247737 2023-04-22          247737         Arale  10637   \n",
       "7540  202317-247737 2023-04-29          247737         Arale  10637   \n",
       "7541  202318-247737 2023-05-06          247737         Arale  10637   \n",
       "\n",
       "      display_size  segment  sales_units  inventory_units  \n",
       "0             13.3  Premium          2.0             35.0  \n",
       "1             13.3  Premium          0.0             70.0  \n",
       "2             13.3  Premium          3.0            137.0  \n",
       "3             13.3  Premium          0.0            274.0  \n",
       "4             13.3  Premium          0.0            333.0  \n",
       "...            ...      ...          ...              ...  \n",
       "7537          13.3  Premium         13.0             44.0  \n",
       "7538          13.3  Premium         12.0             30.0  \n",
       "7539          13.3  Premium          6.0             37.0  \n",
       "7540          13.3  Premium         12.0             65.0  \n",
       "7541          13.3  Premium         22.0             79.0  \n",
       "\n",
       "[7542 rows x 9 columns]"
      ]
     },
     "execution_count": 275,
     "metadata": {},
     "output_type": "execute_result"
    }
   ],
   "source": [
    "new_df[\"date\"] = pd.to_datetime(new_df[\"date\"])\n",
    "new_df"
   ]
  },
  {
   "cell_type": "code",
   "execution_count": 276,
   "metadata": {},
   "outputs": [
    {
     "data": {
      "image/png": "[encoded data removed]",
      "text/plain": [
       "<Figure size 640x480 with 1 Axes>"
      ]
     },
     "metadata": {},
     "output_type": "display_data"
    }
   ],
   "source": [
    "gd = new_df.groupby('date').sum(numeric_only = True)\n",
    "plt.plot(gd.index, gd.inventory_units)\n",
    "plt.xticks(rotation = 45)\n",
    "plt.xlabel('Date') \n",
    "plt.ylabel('Inventory Units')\n",
    "plt.title('Inventory in time')\n",
    "plt.show()"
   ]
  },
  {
   "cell_type": "code",
   "execution_count": 277,
   "metadata": {},
   "outputs": [
    {
     "data": {
      "image/png": "[encoded data removed]",
      "text/plain": [
       "<Figure size 640x480 with 1 Axes>"
      ]
     },
     "metadata": {},
     "output_type": "display_data"
    }
   ],
   "source": [
    "plt.plot(gd.index, gd.sales_units)\n",
    "plt.xticks(rotation = 45)\n",
    "plt.xlabel('Date') \n",
    "plt.ylabel('Sales Units')\n",
    "plt.title('Sales in time')\n",
    "plt.show()"
   ]
  },
  {
   "cell_type": "code",
   "execution_count": 278,
   "metadata": {},
   "outputs": [
    {
     "data": {
      "text/html": [
       "<div>\n",
       "<style scoped>\n",
       "    .dataframe tbody tr th:only-of-type {\n",
       "        vertical-align: middle;\n",
       "    }\n",
       "\n",
       "    .dataframe tbody tr th {\n",
       "        vertical-align: top;\n",
       "    }\n",
       "\n",
       "    .dataframe thead th {\n",
       "        text-align: right;\n",
       "    }\n",
       "</style>\n",
       "<table border=\"1\" class=\"dataframe\">\n",
       "  <thead>\n",
       "    <tr style=\"text-align: right;\">\n",
       "      <th></th>\n",
       "      <th>id</th>\n",
       "      <th>date</th>\n",
       "      <th>product_number</th>\n",
       "      <th>prod_category</th>\n",
       "      <th>specs</th>\n",
       "      <th>display_size</th>\n",
       "      <th>segment</th>\n",
       "      <th>sales_units</th>\n",
       "      <th>inventory_units</th>\n",
       "    </tr>\n",
       "  </thead>\n",
       "  <tbody>\n",
       "    <tr>\n",
       "      <th>0</th>\n",
       "      <td>202119-6909</td>\n",
       "      <td>2021-05-15</td>\n",
       "      <td>6909</td>\n",
       "      <td>Arale</td>\n",
       "      <td>21274</td>\n",
       "      <td>13.3</td>\n",
       "      <td>Premium</td>\n",
       "      <td>2.0</td>\n",
       "      <td>35.0</td>\n",
       "    </tr>\n",
       "    <tr>\n",
       "      <th>1</th>\n",
       "      <td>202120-6909</td>\n",
       "      <td>2021-05-22</td>\n",
       "      <td>6909</td>\n",
       "      <td>Arale</td>\n",
       "      <td>21274</td>\n",
       "      <td>13.3</td>\n",
       "      <td>Premium</td>\n",
       "      <td>0.0</td>\n",
       "      <td>70.0</td>\n",
       "    </tr>\n",
       "    <tr>\n",
       "      <th>2</th>\n",
       "      <td>202121-6909</td>\n",
       "      <td>2021-05-29</td>\n",
       "      <td>6909</td>\n",
       "      <td>Arale</td>\n",
       "      <td>21274</td>\n",
       "      <td>13.3</td>\n",
       "      <td>Premium</td>\n",
       "      <td>3.0</td>\n",
       "      <td>137.0</td>\n",
       "    </tr>\n",
       "    <tr>\n",
       "      <th>3</th>\n",
       "      <td>202122-6909</td>\n",
       "      <td>2021-06-05</td>\n",
       "      <td>6909</td>\n",
       "      <td>Arale</td>\n",
       "      <td>21274</td>\n",
       "      <td>13.3</td>\n",
       "      <td>Premium</td>\n",
       "      <td>0.0</td>\n",
       "      <td>274.0</td>\n",
       "    </tr>\n",
       "    <tr>\n",
       "      <th>4</th>\n",
       "      <td>202123-6909</td>\n",
       "      <td>2021-06-12</td>\n",
       "      <td>6909</td>\n",
       "      <td>Arale</td>\n",
       "      <td>21274</td>\n",
       "      <td>13.3</td>\n",
       "      <td>Premium</td>\n",
       "      <td>0.0</td>\n",
       "      <td>333.0</td>\n",
       "    </tr>\n",
       "    <tr>\n",
       "      <th>5</th>\n",
       "      <td>202124-6909</td>\n",
       "      <td>2021-06-19</td>\n",
       "      <td>6909</td>\n",
       "      <td>Arale</td>\n",
       "      <td>21274</td>\n",
       "      <td>13.3</td>\n",
       "      <td>Premium</td>\n",
       "      <td>2.0</td>\n",
       "      <td>349.0</td>\n",
       "    </tr>\n",
       "    <tr>\n",
       "      <th>6</th>\n",
       "      <td>202125-6909</td>\n",
       "      <td>2021-06-26</td>\n",
       "      <td>6909</td>\n",
       "      <td>Arale</td>\n",
       "      <td>21274</td>\n",
       "      <td>13.3</td>\n",
       "      <td>Premium</td>\n",
       "      <td>15.0</td>\n",
       "      <td>328.0</td>\n",
       "    </tr>\n",
       "    <tr>\n",
       "      <th>7</th>\n",
       "      <td>202126-6909</td>\n",
       "      <td>2021-07-03</td>\n",
       "      <td>6909</td>\n",
       "      <td>Arale</td>\n",
       "      <td>21274</td>\n",
       "      <td>13.3</td>\n",
       "      <td>Premium</td>\n",
       "      <td>49.0</td>\n",
       "      <td>288.0</td>\n",
       "    </tr>\n",
       "    <tr>\n",
       "      <th>8</th>\n",
       "      <td>202127-6909</td>\n",
       "      <td>2021-07-10</td>\n",
       "      <td>6909</td>\n",
       "      <td>Arale</td>\n",
       "      <td>21274</td>\n",
       "      <td>13.3</td>\n",
       "      <td>Premium</td>\n",
       "      <td>55.0</td>\n",
       "      <td>234.0</td>\n",
       "    </tr>\n",
       "    <tr>\n",
       "      <th>9</th>\n",
       "      <td>202129-6909</td>\n",
       "      <td>2021-07-24</td>\n",
       "      <td>6909</td>\n",
       "      <td>Arale</td>\n",
       "      <td>21274</td>\n",
       "      <td>13.3</td>\n",
       "      <td>Premium</td>\n",
       "      <td>91.0</td>\n",
       "      <td>62.0</td>\n",
       "    </tr>\n",
       "  </tbody>\n",
       "</table>\n",
       "</div>"
      ],
      "text/plain": [
       "            id       date  product_number prod_category  specs  display_size  \\\n",
       "0  202119-6909 2021-05-15            6909         Arale  21274          13.3   \n",
       "1  202120-6909 2021-05-22            6909         Arale  21274          13.3   \n",
       "2  202121-6909 2021-05-29            6909         Arale  21274          13.3   \n",
       "3  202122-6909 2021-06-05            6909         Arale  21274          13.3   \n",
       "4  202123-6909 2021-06-12            6909         Arale  21274          13.3   \n",
       "5  202124-6909 2021-06-19            6909         Arale  21274          13.3   \n",
       "6  202125-6909 2021-06-26            6909         Arale  21274          13.3   \n",
       "7  202126-6909 2021-07-03            6909         Arale  21274          13.3   \n",
       "8  202127-6909 2021-07-10            6909         Arale  21274          13.3   \n",
       "9  202129-6909 2021-07-24            6909         Arale  21274          13.3   \n",
       "\n",
       "   segment  sales_units  inventory_units  \n",
       "0  Premium          2.0             35.0  \n",
       "1  Premium          0.0             70.0  \n",
       "2  Premium          3.0            137.0  \n",
       "3  Premium          0.0            274.0  \n",
       "4  Premium          0.0            333.0  \n",
       "5  Premium          2.0            349.0  \n",
       "6  Premium         15.0            328.0  \n",
       "7  Premium         49.0            288.0  \n",
       "8  Premium         55.0            234.0  \n",
       "9  Premium         91.0             62.0  "
      ]
     },
     "execution_count": 278,
     "metadata": {},
     "output_type": "execute_result"
    }
   ],
   "source": [
    "for i, row in enumerate(new_df):\n",
    "    date = row[\"date\"]\n",
    "    p_num = row[\"product_number\"]\n",
    "    if (new_df[i+1] - date).days "
   ]
  }
 ],
 "metadata": {
  "colab": {
   "name": "",
   "version": ""
  },
  "kernelspec": {
   "display_name": "Python 3 (ipykernel)",
   "language": "python",
   "name": "python3"
  },
  "language_info": {
   "codemirror_mode": {
    "name": "ipython",
    "version": 3
   },
   "file_extension": ".py",
   "mimetype": "text/x-python",
   "name": "python",
   "nbconvert_exporter": "python",
   "pygments_lexer": "ipython3",
   "version": "3.10.6"
  }
 },
 "nbformat": 4,
 "nbformat_minor": 1
}
