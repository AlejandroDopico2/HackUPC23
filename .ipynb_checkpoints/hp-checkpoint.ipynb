{
 "cells": [
  {
   "cell_type": "code",
   "execution_count": 67,
   "metadata": {
    "executionInfo": {
     "elapsed": 4,
     "status": "ok",
     "timestamp": 1683940696650,
     "user": {
      "displayName": "Alejandro Garcia",
      "userId": "18040132974707193566"
     },
     "user_tz": -120
    },
    "id": "E1rqi4_QOX_D"
   },
   "outputs": [],
   "source": [
    "import pandas as pd \n",
    "import matplotlib.pyplot as plt\n",
    "import numpy as np\n",
    "import os \n",
    "import copy\n",
    "from datetime import datetime, timedelta"
   ]
  },
  {
   "cell_type": "markdown",
   "metadata": {
    "id": "-lB6Fk8ur7cy"
   },
   "source": [
    "# Nueva sección"
   ]
  },
  {
   "cell_type": "code",
   "execution_count": 68,
   "metadata": {
    "colab": {
     "base_uri": "https://localhost:8080/",
     "height": 357
    },
    "executionInfo": {
     "elapsed": 256,
     "status": "ok",
     "timestamp": 1683940777585,
     "user": {
      "displayName": "Alejandro Garcia",
      "userId": "18040132974707193566"
     },
     "user_tz": -120
    },
    "id": "iUwhnV4fPK49",
    "outputId": "14627e14-2e92-4a37-ab75-d6bc537b0b3f"
   },
   "outputs": [
    {
     "data": {
      "text/html": [
       "<div>\n",
       "<style scoped>\n",
       "    .dataframe tbody tr th:only-of-type {\n",
       "        vertical-align: middle;\n",
       "    }\n",
       "\n",
       "    .dataframe tbody tr th {\n",
       "        vertical-align: top;\n",
       "    }\n",
       "\n",
       "    .dataframe thead th {\n",
       "        text-align: right;\n",
       "    }\n",
       "</style>\n",
       "<table border=\"1\" class=\"dataframe\">\n",
       "  <thead>\n",
       "    <tr style=\"text-align: right;\">\n",
       "      <th></th>\n",
       "      <th>id</th>\n",
       "      <th>date</th>\n",
       "      <th>year_week</th>\n",
       "      <th>product_number</th>\n",
       "      <th>reporterhq_id</th>\n",
       "      <th>prod_category</th>\n",
       "      <th>specs</th>\n",
       "      <th>display_size</th>\n",
       "      <th>segment</th>\n",
       "      <th>sales_units</th>\n",
       "      <th>inventory_units</th>\n",
       "    </tr>\n",
       "  </thead>\n",
       "  <tbody>\n",
       "    <tr>\n",
       "      <th>0</th>\n",
       "      <td>202119-6909</td>\n",
       "      <td>2021-05-15</td>\n",
       "      <td>202119</td>\n",
       "      <td>6909</td>\n",
       "      <td>93</td>\n",
       "      <td>Arale</td>\n",
       "      <td>21274</td>\n",
       "      <td>13.3</td>\n",
       "      <td>Premium</td>\n",
       "      <td>2.0</td>\n",
       "      <td>35.0</td>\n",
       "    </tr>\n",
       "    <tr>\n",
       "      <th>1</th>\n",
       "      <td>202120-6909</td>\n",
       "      <td>2021-05-22</td>\n",
       "      <td>202120</td>\n",
       "      <td>6909</td>\n",
       "      <td>93</td>\n",
       "      <td>Arale</td>\n",
       "      <td>21274</td>\n",
       "      <td>13.3</td>\n",
       "      <td>Premium</td>\n",
       "      <td>0.0</td>\n",
       "      <td>70.0</td>\n",
       "    </tr>\n",
       "    <tr>\n",
       "      <th>2</th>\n",
       "      <td>202121-6909</td>\n",
       "      <td>2021-05-29</td>\n",
       "      <td>202121</td>\n",
       "      <td>6909</td>\n",
       "      <td>93</td>\n",
       "      <td>Arale</td>\n",
       "      <td>21274</td>\n",
       "      <td>13.3</td>\n",
       "      <td>Premium</td>\n",
       "      <td>3.0</td>\n",
       "      <td>137.0</td>\n",
       "    </tr>\n",
       "    <tr>\n",
       "      <th>3</th>\n",
       "      <td>202122-6909</td>\n",
       "      <td>2021-06-05</td>\n",
       "      <td>202122</td>\n",
       "      <td>6909</td>\n",
       "      <td>93</td>\n",
       "      <td>Arale</td>\n",
       "      <td>21274</td>\n",
       "      <td>13.3</td>\n",
       "      <td>Premium</td>\n",
       "      <td>0.0</td>\n",
       "      <td>274.0</td>\n",
       "    </tr>\n",
       "    <tr>\n",
       "      <th>4</th>\n",
       "      <td>202123-6909</td>\n",
       "      <td>2021-06-12</td>\n",
       "      <td>202123</td>\n",
       "      <td>6909</td>\n",
       "      <td>93</td>\n",
       "      <td>Arale</td>\n",
       "      <td>21274</td>\n",
       "      <td>13.3</td>\n",
       "      <td>Premium</td>\n",
       "      <td>0.0</td>\n",
       "      <td>333.0</td>\n",
       "    </tr>\n",
       "  </tbody>\n",
       "</table>\n",
       "</div>"
      ],
      "text/plain": [
       "            id        date  year_week  product_number  reporterhq_id  \\\n",
       "0  202119-6909  2021-05-15     202119            6909             93   \n",
       "1  202120-6909  2021-05-22     202120            6909             93   \n",
       "2  202121-6909  2021-05-29     202121            6909             93   \n",
       "3  202122-6909  2021-06-05     202122            6909             93   \n",
       "4  202123-6909  2021-06-12     202123            6909             93   \n",
       "\n",
       "  prod_category  specs  display_size  segment  sales_units  inventory_units  \n",
       "0         Arale  21274          13.3  Premium          2.0             35.0  \n",
       "1         Arale  21274          13.3  Premium          0.0             70.0  \n",
       "2         Arale  21274          13.3  Premium          3.0            137.0  \n",
       "3         Arale  21274          13.3  Premium          0.0            274.0  \n",
       "4         Arale  21274          13.3  Premium          0.0            333.0  "
      ]
     },
     "execution_count": 68,
     "metadata": {},
     "output_type": "execute_result"
    }
   ],
   "source": [
    "train_df = pd.read_csv('train.csv')\n",
    "train_df.head()"
   ]
  },
  {
   "cell_type": "code",
   "execution_count": 69,
   "metadata": {
    "colab": {
     "base_uri": "https://localhost:8080/"
    },
    "executionInfo": {
     "elapsed": 5,
     "status": "ok",
     "timestamp": 1683940779912,
     "user": {
      "displayName": "Alejandro Garcia",
      "userId": "18040132974707193566"
     },
     "user_tz": -120
    },
    "id": "NOyjAWOLPR68",
    "outputId": "c1f01d2c-28d9-455f-efa8-33e32ad0b2a2"
   },
   "outputs": [
    {
     "data": {
      "text/plain": [
       "id                  object\n",
       "date                object\n",
       "year_week            int64\n",
       "product_number       int64\n",
       "reporterhq_id        int64\n",
       "prod_category       object\n",
       "specs                int64\n",
       "display_size       float64\n",
       "segment             object\n",
       "sales_units        float64\n",
       "inventory_units    float64\n",
       "dtype: object"
      ]
     },
     "execution_count": 69,
     "metadata": {},
     "output_type": "execute_result"
    }
   ],
   "source": [
    "train_df.dtypes"
   ]
  },
  {
   "cell_type": "code",
   "execution_count": 70,
   "metadata": {
    "colab": {
     "base_uri": "https://localhost:8080/"
    },
    "executionInfo": {
     "elapsed": 3,
     "status": "ok",
     "timestamp": 1683940780967,
     "user": {
      "displayName": "Alejandro Garcia",
      "userId": "18040132974707193566"
     },
     "user_tz": -120
    },
    "id": "xp8F8L8ZPZwj",
    "outputId": "f7a259e5-6d9b-4b2d-c5b7-28160a3c6f2d"
   },
   "outputs": [
    {
     "data": {
      "text/plain": [
       "id                   0\n",
       "date                 0\n",
       "year_week            0\n",
       "product_number       0\n",
       "reporterhq_id        0\n",
       "prod_category        0\n",
       "specs                0\n",
       "display_size         0\n",
       "segment              0\n",
       "sales_units        491\n",
       "inventory_units    493\n",
       "dtype: int64"
      ]
     },
     "execution_count": 70,
     "metadata": {},
     "output_type": "execute_result"
    }
   ],
   "source": [
    "train_df.isna().sum()"
   ]
  },
  {
   "cell_type": "code",
   "execution_count": 71,
   "metadata": {
    "colab": {
     "base_uri": "https://localhost:8080/"
    },
    "executionInfo": {
     "elapsed": 423,
     "status": "ok",
     "timestamp": 1683940782497,
     "user": {
      "displayName": "Alejandro Garcia",
      "userId": "18040132974707193566"
     },
     "user_tz": -120
    },
    "id": "7fDBGFbXQ1tY",
    "outputId": "9cbeb1b2-1c9e-4d9d-9599-416598f37d66"
   },
   "outputs": [
    {
     "name": "stdout",
     "output_type": "stream",
     "text": [
      "Existen 0 columnas duplicadas\n"
     ]
    }
   ],
   "source": [
    "subset = train_df[[\"id\", \"reporterhq_id\"]]\n",
    "dup = np.sum(subset.duplicated())\n",
    "print(f\"Existen {dup} columnas duplicadas\")"
   ]
  },
  {
   "cell_type": "code",
   "execution_count": 72,
   "metadata": {
    "colab": {
     "base_uri": "https://localhost:8080/"
    },
    "executionInfo": {
     "elapsed": 238,
     "status": "ok",
     "timestamp": 1683940783075,
     "user": {
      "displayName": "Alejandro Garcia",
      "userId": "18040132974707193566"
     },
     "user_tz": -120
    },
    "id": "H_05Nx28VCRa",
    "outputId": "099bfb7b-b07a-4b7f-a63d-23e905914fea"
   },
   "outputs": [
    {
     "name": "stdout",
     "output_type": "stream",
     "text": [
      "Un 3.1771709589750223% de sales_unit son nulos y 3.190112592209137% de inventory null\n"
     ]
    }
   ],
   "source": [
    "sales_unit_na= train_df[\"sales_units\"].isna().sum()/train_df.shape[0]\n",
    "inventory_unit_na= train_df[\"inventory_units\"].isna().sum()/train_df.shape[0]\n",
    "\n",
    "print(f\"Un {sales_unit_na*100}% de sales_unit son nulos y {inventory_unit_na*100}% de inventory null\")"
   ]
  },
  {
   "cell_type": "code",
   "execution_count": 73,
   "metadata": {
    "colab": {
     "base_uri": "https://localhost:8080/"
    },
    "executionInfo": {
     "elapsed": 298,
     "status": "ok",
     "timestamp": 1683940784809,
     "user": {
      "displayName": "Alejandro Garcia",
      "userId": "18040132974707193566"
     },
     "user_tz": -120
    },
    "id": "2lUc24exTm79",
    "outputId": "fe964f1b-164f-44f4-da36-d13e99c02eae"
   },
   "outputs": [
    {
     "data": {
      "text/plain": [
       "id                 0\n",
       "date               0\n",
       "year_week          0\n",
       "product_number     0\n",
       "reporterhq_id      0\n",
       "prod_category      0\n",
       "specs              0\n",
       "display_size       0\n",
       "segment            0\n",
       "sales_units        0\n",
       "inventory_units    0\n",
       "dtype: int64"
      ]
     },
     "execution_count": 73,
     "metadata": {},
     "output_type": "execute_result"
    }
   ],
   "source": [
    "non_na = train_df.dropna()\n",
    "non_na.isna().sum()"
   ]
  },
  {
   "cell_type": "code",
   "execution_count": 74,
   "metadata": {
    "colab": {
     "base_uri": "https://localhost:8080/"
    },
    "executionInfo": {
     "elapsed": 17,
     "status": "ok",
     "timestamp": 1683940267942,
     "user": {
      "displayName": "Alejandro Dopico",
      "userId": "05513911091129829950"
     },
     "user_tz": -120
    },
    "id": "5nivsNQ0Wg3S",
    "outputId": "9500dc13-237c-4806-8f20-7dfd77b5f248"
   },
   "outputs": [
    {
     "name": "stdout",
     "output_type": "stream",
     "text": [
      "(14478, 11) (15454, 11)\n"
     ]
    }
   ],
   "source": [
    "print(non_na.shape, train_df.shape)"
   ]
  },
  {
   "cell_type": "code",
   "execution_count": 75,
   "metadata": {
    "colab": {
     "base_uri": "https://localhost:8080/",
     "height": 300
    },
    "executionInfo": {
     "elapsed": 16,
     "status": "ok",
     "timestamp": 1683940267942,
     "user": {
      "displayName": "Alejandro Dopico",
      "userId": "05513911091129829950"
     },
     "user_tz": -120
    },
    "id": "6NE8SwyDSWPK",
    "outputId": "7a9a803d-ee2c-448d-fec4-a5165123826a"
   },
   "outputs": [
    {
     "data": {
      "text/html": [
       "<div>\n",
       "<style scoped>\n",
       "    .dataframe tbody tr th:only-of-type {\n",
       "        vertical-align: middle;\n",
       "    }\n",
       "\n",
       "    .dataframe tbody tr th {\n",
       "        vertical-align: top;\n",
       "    }\n",
       "\n",
       "    .dataframe thead th {\n",
       "        text-align: right;\n",
       "    }\n",
       "</style>\n",
       "<table border=\"1\" class=\"dataframe\">\n",
       "  <thead>\n",
       "    <tr style=\"text-align: right;\">\n",
       "      <th></th>\n",
       "      <th>year_week</th>\n",
       "      <th>product_number</th>\n",
       "      <th>reporterhq_id</th>\n",
       "      <th>specs</th>\n",
       "      <th>display_size</th>\n",
       "      <th>sales_units</th>\n",
       "      <th>inventory_units</th>\n",
       "    </tr>\n",
       "  </thead>\n",
       "  <tbody>\n",
       "    <tr>\n",
       "      <th>count</th>\n",
       "      <td>14478.000000</td>\n",
       "      <td>14478.000000</td>\n",
       "      <td>14478.000000</td>\n",
       "      <td>14478.000000</td>\n",
       "      <td>14478.000000</td>\n",
       "      <td>14478.000000</td>\n",
       "      <td>14478.000000</td>\n",
       "    </tr>\n",
       "    <tr>\n",
       "      <th>mean</th>\n",
       "      <td>202240.919809</td>\n",
       "      <td>127111.665562</td>\n",
       "      <td>42.032739</td>\n",
       "      <td>112407.304669</td>\n",
       "      <td>15.159525</td>\n",
       "      <td>26.002625</td>\n",
       "      <td>71.749482</td>\n",
       "    </tr>\n",
       "    <tr>\n",
       "      <th>std</th>\n",
       "      <td>61.643873</td>\n",
       "      <td>77427.684132</td>\n",
       "      <td>34.864066</td>\n",
       "      <td>63754.223010</td>\n",
       "      <td>1.422528</td>\n",
       "      <td>29.398877</td>\n",
       "      <td>66.317573</td>\n",
       "    </tr>\n",
       "    <tr>\n",
       "      <th>min</th>\n",
       "      <td>201915.000000</td>\n",
       "      <td>6909.000000</td>\n",
       "      <td>3.000000</td>\n",
       "      <td>967.000000</td>\n",
       "      <td>11.000000</td>\n",
       "      <td>0.000000</td>\n",
       "      <td>0.000000</td>\n",
       "    </tr>\n",
       "    <tr>\n",
       "      <th>25%</th>\n",
       "      <td>202218.000000</td>\n",
       "      <td>58233.000000</td>\n",
       "      <td>15.000000</td>\n",
       "      <td>58987.000000</td>\n",
       "      <td>14.000000</td>\n",
       "      <td>3.000000</td>\n",
       "      <td>26.000000</td>\n",
       "    </tr>\n",
       "    <tr>\n",
       "      <th>50%</th>\n",
       "      <td>202239.000000</td>\n",
       "      <td>116466.000000</td>\n",
       "      <td>24.000000</td>\n",
       "      <td>109271.000000</td>\n",
       "      <td>15.600000</td>\n",
       "      <td>16.000000</td>\n",
       "      <td>56.000000</td>\n",
       "    </tr>\n",
       "    <tr>\n",
       "      <th>75%</th>\n",
       "      <td>202304.000000</td>\n",
       "      <td>196413.000000</td>\n",
       "      <td>78.000000</td>\n",
       "      <td>157621.000000</td>\n",
       "      <td>15.600000</td>\n",
       "      <td>38.000000</td>\n",
       "      <td>97.000000</td>\n",
       "    </tr>\n",
       "    <tr>\n",
       "      <th>max</th>\n",
       "      <td>202318.000000</td>\n",
       "      <td>247737.000000</td>\n",
       "      <td>96.000000</td>\n",
       "      <td>236915.000000</td>\n",
       "      <td>17.300000</td>\n",
       "      <td>186.000000</td>\n",
       "      <td>399.000000</td>\n",
       "    </tr>\n",
       "  </tbody>\n",
       "</table>\n",
       "</div>"
      ],
      "text/plain": [
       "           year_week  product_number  reporterhq_id          specs  \\\n",
       "count   14478.000000    14478.000000   14478.000000   14478.000000   \n",
       "mean   202240.919809   127111.665562      42.032739  112407.304669   \n",
       "std        61.643873    77427.684132      34.864066   63754.223010   \n",
       "min    201915.000000     6909.000000       3.000000     967.000000   \n",
       "25%    202218.000000    58233.000000      15.000000   58987.000000   \n",
       "50%    202239.000000   116466.000000      24.000000  109271.000000   \n",
       "75%    202304.000000   196413.000000      78.000000  157621.000000   \n",
       "max    202318.000000   247737.000000      96.000000  236915.000000   \n",
       "\n",
       "       display_size   sales_units  inventory_units  \n",
       "count  14478.000000  14478.000000     14478.000000  \n",
       "mean      15.159525     26.002625        71.749482  \n",
       "std        1.422528     29.398877        66.317573  \n",
       "min       11.000000      0.000000         0.000000  \n",
       "25%       14.000000      3.000000        26.000000  \n",
       "50%       15.600000     16.000000        56.000000  \n",
       "75%       15.600000     38.000000        97.000000  \n",
       "max       17.300000    186.000000       399.000000  "
      ]
     },
     "execution_count": 75,
     "metadata": {},
     "output_type": "execute_result"
    }
   ],
   "source": [
    "non_na.describe()"
   ]
  },
  {
   "cell_type": "code",
   "execution_count": 76,
   "metadata": {
    "colab": {
     "base_uri": "https://localhost:8080/",
     "height": 601
    },
    "executionInfo": {
     "elapsed": 268,
     "status": "ok",
     "timestamp": 1683940436452,
     "user": {
      "displayName": "Alejandro Dopico",
      "userId": "05513911091129829950"
     },
     "user_tz": -120
    },
    "id": "uzRVOeg5q8UI",
    "outputId": "b42a7b76-6ed6-4b3d-f16e-06bb1491543c"
   },
   "outputs": [
    {
     "data": {
      "text/plain": [
       "(14478, 11)"
      ]
     },
     "execution_count": 76,
     "metadata": {},
     "output_type": "execute_result"
    }
   ],
   "source": [
    "non_na.shape"
   ]
  },
  {
   "cell_type": "code",
   "execution_count": 77,
   "metadata": {
    "colab": {
     "background_save": true,
     "base_uri": "https://localhost:8080/"
    },
    "executionInfo": {
     "elapsed": 275,
     "status": "ok",
     "timestamp": 1683941516726,
     "user": {
      "displayName": "Alejandro Garcia",
      "userId": "18040132974707193566"
     },
     "user_tz": -120
    },
    "id": "bI1RSoG6hRYT"
   },
   "outputs": [
    {
     "data": {
      "text/html": [
       "<div>\n",
       "<style scoped>\n",
       "    .dataframe tbody tr th:only-of-type {\n",
       "        vertical-align: middle;\n",
       "    }\n",
       "\n",
       "    .dataframe tbody tr th {\n",
       "        vertical-align: top;\n",
       "    }\n",
       "\n",
       "    .dataframe thead th {\n",
       "        text-align: right;\n",
       "    }\n",
       "</style>\n",
       "<table border=\"1\" class=\"dataframe\">\n",
       "  <thead>\n",
       "    <tr style=\"text-align: right;\">\n",
       "      <th></th>\n",
       "      <th>product_number</th>\n",
       "      <th>specs</th>\n",
       "      <th>display_size</th>\n",
       "      <th>sales_units</th>\n",
       "      <th>inventory_units</th>\n",
       "    </tr>\n",
       "  </thead>\n",
       "  <tbody>\n",
       "    <tr>\n",
       "      <th>count</th>\n",
       "      <td>7542.000000</td>\n",
       "      <td>7542.000000</td>\n",
       "      <td>7542.000000</td>\n",
       "      <td>7542.000000</td>\n",
       "      <td>7542.000000</td>\n",
       "    </tr>\n",
       "    <tr>\n",
       "      <th>mean</th>\n",
       "      <td>126547.873906</td>\n",
       "      <td>110023.623972</td>\n",
       "      <td>15.157704</td>\n",
       "      <td>27.761204</td>\n",
       "      <td>137.733890</td>\n",
       "    </tr>\n",
       "    <tr>\n",
       "      <th>std</th>\n",
       "      <td>80560.155233</td>\n",
       "      <td>63865.270865</td>\n",
       "      <td>1.422126</td>\n",
       "      <td>29.988587</td>\n",
       "      <td>118.812817</td>\n",
       "    </tr>\n",
       "    <tr>\n",
       "      <th>min</th>\n",
       "      <td>6909.000000</td>\n",
       "      <td>967.000000</td>\n",
       "      <td>11.000000</td>\n",
       "      <td>0.000000</td>\n",
       "      <td>0.000000</td>\n",
       "    </tr>\n",
       "    <tr>\n",
       "      <th>25%</th>\n",
       "      <td>51324.000000</td>\n",
       "      <td>56086.000000</td>\n",
       "      <td>14.000000</td>\n",
       "      <td>4.000000</td>\n",
       "      <td>55.000000</td>\n",
       "    </tr>\n",
       "    <tr>\n",
       "      <th>50%</th>\n",
       "      <td>114492.000000</td>\n",
       "      <td>108304.000000</td>\n",
       "      <td>15.600000</td>\n",
       "      <td>19.000000</td>\n",
       "      <td>111.000000</td>\n",
       "    </tr>\n",
       "    <tr>\n",
       "      <th>75%</th>\n",
       "      <td>201348.000000</td>\n",
       "      <td>155687.000000</td>\n",
       "      <td>15.600000</td>\n",
       "      <td>41.000000</td>\n",
       "      <td>186.000000</td>\n",
       "    </tr>\n",
       "    <tr>\n",
       "      <th>max</th>\n",
       "      <td>247737.000000</td>\n",
       "      <td>236915.000000</td>\n",
       "      <td>17.300000</td>\n",
       "      <td>186.000000</td>\n",
       "      <td>889.000000</td>\n",
       "    </tr>\n",
       "  </tbody>\n",
       "</table>\n",
       "</div>"
      ],
      "text/plain": [
       "       product_number          specs  display_size  sales_units  \\\n",
       "count     7542.000000    7542.000000   7542.000000  7542.000000   \n",
       "mean    126547.873906  110023.623972     15.157704    27.761204   \n",
       "std      80560.155233   63865.270865      1.422126    29.988587   \n",
       "min       6909.000000     967.000000     11.000000     0.000000   \n",
       "25%      51324.000000   56086.000000     14.000000     4.000000   \n",
       "50%     114492.000000  108304.000000     15.600000    19.000000   \n",
       "75%     201348.000000  155687.000000     15.600000    41.000000   \n",
       "max     247737.000000  236915.000000     17.300000   186.000000   \n",
       "\n",
       "       inventory_units  \n",
       "count      7542.000000  \n",
       "mean        137.733890  \n",
       "std         118.812817  \n",
       "min           0.000000  \n",
       "25%          55.000000  \n",
       "50%         111.000000  \n",
       "75%         186.000000  \n",
       "max         889.000000  "
      ]
     },
     "execution_count": 77,
     "metadata": {},
     "output_type": "execute_result"
    }
   ],
   "source": [
    "test = non_na\n",
    "test = test.groupby(\"id\")[[\"id\", \"inventory_units\"]].sum()\n",
    "new_df = non_na.drop_duplicates(subset=['id'],keep = 'first')\n",
    "test.reset_index(inplace=True)\n",
    "\n",
    "new_df = pd.merge(new_df, test, on = 'id', how = 'left')\n",
    "new_df.loc[new_df['inventory_units_y'].notnull(), 'inventory_units'] = new_df['inventory_units_y']\n",
    "new_df.drop(['inventory_units_y', 'inventory_units_x', 'reporterhq_id', 'year_week'], axis=1, inplace=True)\n",
    "new_df.describe()"
   ]
  },
  {
   "cell_type": "code",
   "execution_count": 78,
   "metadata": {},
   "outputs": [
    {
     "data": {
      "text/html": [
       "<div>\n",
       "<style scoped>\n",
       "    .dataframe tbody tr th:only-of-type {\n",
       "        vertical-align: middle;\n",
       "    }\n",
       "\n",
       "    .dataframe tbody tr th {\n",
       "        vertical-align: top;\n",
       "    }\n",
       "\n",
       "    .dataframe thead th {\n",
       "        text-align: right;\n",
       "    }\n",
       "</style>\n",
       "<table border=\"1\" class=\"dataframe\">\n",
       "  <thead>\n",
       "    <tr style=\"text-align: right;\">\n",
       "      <th></th>\n",
       "      <th>id</th>\n",
       "      <th>date</th>\n",
       "      <th>product_number</th>\n",
       "      <th>prod_category</th>\n",
       "      <th>specs</th>\n",
       "      <th>display_size</th>\n",
       "      <th>segment</th>\n",
       "      <th>sales_units</th>\n",
       "      <th>inventory_units</th>\n",
       "    </tr>\n",
       "  </thead>\n",
       "  <tbody>\n",
       "    <tr>\n",
       "      <th>0</th>\n",
       "      <td>202119-6909</td>\n",
       "      <td>2021-05-15</td>\n",
       "      <td>6909</td>\n",
       "      <td>Arale</td>\n",
       "      <td>21274</td>\n",
       "      <td>13.3</td>\n",
       "      <td>Premium</td>\n",
       "      <td>2.0</td>\n",
       "      <td>35.0</td>\n",
       "    </tr>\n",
       "    <tr>\n",
       "      <th>1</th>\n",
       "      <td>202120-6909</td>\n",
       "      <td>2021-05-22</td>\n",
       "      <td>6909</td>\n",
       "      <td>Arale</td>\n",
       "      <td>21274</td>\n",
       "      <td>13.3</td>\n",
       "      <td>Premium</td>\n",
       "      <td>0.0</td>\n",
       "      <td>70.0</td>\n",
       "    </tr>\n",
       "    <tr>\n",
       "      <th>2</th>\n",
       "      <td>202121-6909</td>\n",
       "      <td>2021-05-29</td>\n",
       "      <td>6909</td>\n",
       "      <td>Arale</td>\n",
       "      <td>21274</td>\n",
       "      <td>13.3</td>\n",
       "      <td>Premium</td>\n",
       "      <td>3.0</td>\n",
       "      <td>137.0</td>\n",
       "    </tr>\n",
       "    <tr>\n",
       "      <th>3</th>\n",
       "      <td>202122-6909</td>\n",
       "      <td>2021-06-05</td>\n",
       "      <td>6909</td>\n",
       "      <td>Arale</td>\n",
       "      <td>21274</td>\n",
       "      <td>13.3</td>\n",
       "      <td>Premium</td>\n",
       "      <td>0.0</td>\n",
       "      <td>274.0</td>\n",
       "    </tr>\n",
       "    <tr>\n",
       "      <th>4</th>\n",
       "      <td>202123-6909</td>\n",
       "      <td>2021-06-12</td>\n",
       "      <td>6909</td>\n",
       "      <td>Arale</td>\n",
       "      <td>21274</td>\n",
       "      <td>13.3</td>\n",
       "      <td>Premium</td>\n",
       "      <td>0.0</td>\n",
       "      <td>333.0</td>\n",
       "    </tr>\n",
       "    <tr>\n",
       "      <th>...</th>\n",
       "      <td>...</td>\n",
       "      <td>...</td>\n",
       "      <td>...</td>\n",
       "      <td>...</td>\n",
       "      <td>...</td>\n",
       "      <td>...</td>\n",
       "      <td>...</td>\n",
       "      <td>...</td>\n",
       "      <td>...</td>\n",
       "    </tr>\n",
       "    <tr>\n",
       "      <th>7537</th>\n",
       "      <td>202314-247737</td>\n",
       "      <td>2023-04-08</td>\n",
       "      <td>247737</td>\n",
       "      <td>Arale</td>\n",
       "      <td>10637</td>\n",
       "      <td>13.3</td>\n",
       "      <td>Premium</td>\n",
       "      <td>13.0</td>\n",
       "      <td>44.0</td>\n",
       "    </tr>\n",
       "    <tr>\n",
       "      <th>7538</th>\n",
       "      <td>202315-247737</td>\n",
       "      <td>2023-04-15</td>\n",
       "      <td>247737</td>\n",
       "      <td>Arale</td>\n",
       "      <td>10637</td>\n",
       "      <td>13.3</td>\n",
       "      <td>Premium</td>\n",
       "      <td>12.0</td>\n",
       "      <td>30.0</td>\n",
       "    </tr>\n",
       "    <tr>\n",
       "      <th>7539</th>\n",
       "      <td>202316-247737</td>\n",
       "      <td>2023-04-22</td>\n",
       "      <td>247737</td>\n",
       "      <td>Arale</td>\n",
       "      <td>10637</td>\n",
       "      <td>13.3</td>\n",
       "      <td>Premium</td>\n",
       "      <td>6.0</td>\n",
       "      <td>37.0</td>\n",
       "    </tr>\n",
       "    <tr>\n",
       "      <th>7540</th>\n",
       "      <td>202317-247737</td>\n",
       "      <td>2023-04-29</td>\n",
       "      <td>247737</td>\n",
       "      <td>Arale</td>\n",
       "      <td>10637</td>\n",
       "      <td>13.3</td>\n",
       "      <td>Premium</td>\n",
       "      <td>12.0</td>\n",
       "      <td>65.0</td>\n",
       "    </tr>\n",
       "    <tr>\n",
       "      <th>7541</th>\n",
       "      <td>202318-247737</td>\n",
       "      <td>2023-05-06</td>\n",
       "      <td>247737</td>\n",
       "      <td>Arale</td>\n",
       "      <td>10637</td>\n",
       "      <td>13.3</td>\n",
       "      <td>Premium</td>\n",
       "      <td>22.0</td>\n",
       "      <td>79.0</td>\n",
       "    </tr>\n",
       "  </tbody>\n",
       "</table>\n",
       "<p>7542 rows × 9 columns</p>\n",
       "</div>"
      ],
      "text/plain": [
       "                 id       date  product_number prod_category  specs  \\\n",
       "0       202119-6909 2021-05-15            6909         Arale  21274   \n",
       "1       202120-6909 2021-05-22            6909         Arale  21274   \n",
       "2       202121-6909 2021-05-29            6909         Arale  21274   \n",
       "3       202122-6909 2021-06-05            6909         Arale  21274   \n",
       "4       202123-6909 2021-06-12            6909         Arale  21274   \n",
       "...             ...        ...             ...           ...    ...   \n",
       "7537  202314-247737 2023-04-08          247737         Arale  10637   \n",
       "7538  202315-247737 2023-04-15          247737         Arale  10637   \n",
       "7539  202316-247737 2023-04-22          247737         Arale  10637   \n",
       "7540  202317-247737 2023-04-29          247737         Arale  10637   \n",
       "7541  202318-247737 2023-05-06          247737         Arale  10637   \n",
       "\n",
       "      display_size  segment  sales_units  inventory_units  \n",
       "0             13.3  Premium          2.0             35.0  \n",
       "1             13.3  Premium          0.0             70.0  \n",
       "2             13.3  Premium          3.0            137.0  \n",
       "3             13.3  Premium          0.0            274.0  \n",
       "4             13.3  Premium          0.0            333.0  \n",
       "...            ...      ...          ...              ...  \n",
       "7537          13.3  Premium         13.0             44.0  \n",
       "7538          13.3  Premium         12.0             30.0  \n",
       "7539          13.3  Premium          6.0             37.0  \n",
       "7540          13.3  Premium         12.0             65.0  \n",
       "7541          13.3  Premium         22.0             79.0  \n",
       "\n",
       "[7542 rows x 9 columns]"
      ]
     },
     "execution_count": 78,
     "metadata": {},
     "output_type": "execute_result"
    }
   ],
   "source": [
    "new_df[\"date\"] = pd.to_datetime(new_df[\"date\"])\n",
    "new_df"
   ]
  },
  {
   "cell_type": "code",
   "execution_count": 79,
   "metadata": {},
   "outputs": [
    {
     "data": {
      "image/png": "[encoded data removed]",
      "text/plain": [
       "<Figure size 432x288 with 1 Axes>"
      ]
     },
     "metadata": {
      "needs_background": "light"
     },
     "output_type": "display_data"
    }
   ],
   "source": [
    "gd = new_df.groupby('date').sum(numeric_only = True)\n",
    "plt.plot(gd.index, gd.inventory_units)\n",
    "plt.xticks(rotation = 45)\n",
    "plt.xlabel('Date') \n",
    "plt.ylabel('Inventory Units')\n",
    "plt.title('Inventory in time')\n",
    "plt.show()"
   ]
  },
  {
   "cell_type": "code",
   "execution_count": 80,
   "metadata": {},
   "outputs": [
    {
     "data": {
      "image/png": "[encoded data removed]",
      "text/plain": [
       "<Figure size 432x288 with 1 Axes>"
      ]
     },
     "metadata": {
      "needs_background": "light"
     },
     "output_type": "display_data"
    }
   ],
   "source": [
    "plt.plot(gd.index, gd.sales_units)\n",
    "plt.xticks(rotation = 45)\n",
    "plt.xlabel('Date') \n",
    "plt.ylabel('Sales Units')\n",
    "plt.title('Sales in time')\n",
    "plt.show()"
   ]
  },
  {
   "cell_type": "code",
   "execution_count": 81,
   "metadata": {},
   "outputs": [
    {
     "name": "stdout",
     "output_type": "stream",
     "text": [
      "Adding 202128-6909\n",
      "Adding 202144-6909\n",
      "Adding 202145-6909\n",
      "Adding 202213-6909\n",
      "Adding 202217-6909\n",
      "Adding 202218-6909\n",
      "Adding 202222-6909\n",
      "Adding 202229-6909\n",
      "Adding 202121-7896\n",
      "Adding 202145-7896\n",
      "Adding 202148-7896\n",
      "Adding 202218-7896\n",
      "Adding 202222-7896\n",
      "Adding 202303-8883\n",
      "Adding 202108-9870\n",
      "Adding 202109-9870\n",
      "Adding 202136-9870\n",
      "Adding 202138-9870\n",
      "Adding 202120-10857\n",
      "Adding 202123-10857\n",
      "Adding 202141-10857\n",
      "Adding 202148-10857\n",
      "Adding 202202-10857\n",
      "Adding 202203-10857\n",
      "Adding 202133-11844\n",
      "Adding 202136-11844\n",
      "Adding 202137-11844\n",
      "Adding 202140-11844\n",
      "Adding 202141-11844\n",
      "Adding 202148-11844\n",
      "Adding 202150-11844\n",
      "Adding 202201-11844\n",
      "Adding 202209-11844\n",
      "Adding 202215-11844\n",
      "Adding 202216-11844\n",
      "Adding 202218-11844\n",
      "Adding 202219-11844\n",
      "Adding 202222-11844\n",
      "Adding 202113-12831\n",
      "Adding 202222-12831\n",
      "Adding 202125-14805\n",
      "Adding 202137-14805\n",
      "Adding 202140-14805\n",
      "Adding 202141-14805\n",
      "Adding 202145-14805\n",
      "Adding 202207-14805\n",
      "Adding 202212-14805\n",
      "Adding 202218-14805\n",
      "Adding 202222-14805\n",
      "Adding 202229-14805\n",
      "Adding 202125-25662\n",
      "Adding 202142-25662\n",
      "Adding 202150-25662\n",
      "Adding 202116-32571\n",
      "Adding 202132-33558\n",
      "Adding 202143-37506\n",
      "Adding 202204-37506\n",
      "Adding 202217-37506\n",
      "Adding 202226-37506\n",
      "Adding 202239-37506\n",
      "Adding 202240-37506\n",
      "Adding 202126-45402\n",
      "Adding 202222-46389\n",
      "Adding 202228-51324\n",
      "Adding 202232-51324\n",
      "Adding 202133-58233\n",
      "Adding 202134-58233\n",
      "Adding 202137-58233\n",
      "Adding 202303-58233\n",
      "Adding 202208-62181\n",
      "Adding 202212-62181\n",
      "Adding 202212-65142\n",
      "Adding 202301-65142\n",
      "Adding 202207-73038\n",
      "Adding 202213-73038\n",
      "Adding 202303-73038\n",
      "Adding 202218-77973\n",
      "Adding 202219-77973\n",
      "Adding 202222-77973\n",
      "Adding 202233-77973\n",
      "Adding 202234-80934\n",
      "Adding 202225-87843\n",
      "Adding 202240-107583\n",
      "Adding 202137-114492\n",
      "Adding 202139-114492\n",
      "Adding 202141-114492\n",
      "Adding 202143-114492\n",
      "Adding 202151-114492\n",
      "Adding 202209-114492\n",
      "Adding 202229-114492\n",
      "Adding 202141-116466\n",
      "Adding 202152-116466\n",
      "Adding 202213-119427\n",
      "Adding 202221-119427\n",
      "Adding 202213-127323\n",
      "Adding 202204-129297\n",
      "Adding 202303-129297\n",
      "Adding 202215-130284\n",
      "Adding 202216-130284\n",
      "Adding 202207-138180\n",
      "Adding 202218-138180\n",
      "Adding 202222-138180\n",
      "Adding 202228-138180\n",
      "Adding 202220-155946\n",
      "Adding 202204-157920\n",
      "Adding 202208-158907\n",
      "Adding 202216-158907\n",
      "Adding 202225-158907\n",
      "Adding 202221-169764\n",
      "Adding 202223-169764\n",
      "Adding 202227-171738\n",
      "Adding 202222-172725\n",
      "Adding 202143-175686\n",
      "Adding 202241-175686\n",
      "Adding 202247-175686\n",
      "Adding 202145-177660\n",
      "Adding 202207-177660\n",
      "Adding 202208-177660\n",
      "Adding 202212-177660\n",
      "Adding 202217-177660\n",
      "Adding 202240-182595\n",
      "Adding 202243-182595\n",
      "Adding 202231-184569\n",
      "Adding 202208-190491\n",
      "Adding 202209-190491\n",
      "Adding 202213-191478\n",
      "Adding 202228-191478\n",
      "Adding 202206-195426\n",
      "Adding 202209-195426\n",
      "Adding 202212-195426\n",
      "Adding 202232-195426\n",
      "Adding 202240-195426\n",
      "Adding 202216-197400\n",
      "Adding 202217-197400\n",
      "Adding 202224-197400\n",
      "Adding 202205-201348\n",
      "Adding 202222-201348\n",
      "Adding 202229-201348\n",
      "Adding 202233-201348\n",
      "Adding 202235-204309\n",
      "Adding 202221-211218\n",
      "Adding 202223-211218\n",
      "Adding 202205-213192\n",
      "Adding 202207-214179\n",
      "Adding 202228-214179\n",
      "Adding 202202-219114\n",
      "Adding 202206-220101\n",
      "Adding 202212-220101\n",
      "Adding 202249-220101\n",
      "Adding 202306-220101\n",
      "Adding 202232-222075\n",
      "Adding 202301-222075\n",
      "Adding 202203-226023\n",
      "Adding 202213-226023\n",
      "Adding 202214-226023\n",
      "Adding 202222-226023\n",
      "Adding 202225-226023\n",
      "Adding 202240-226023\n",
      "Adding 202221-231945\n",
      "Adding 202301-231945\n",
      "Adding 202303-231945\n",
      "Adding 202305-231945\n",
      "Adding 202312-231945\n",
      "Adding 201938-233919\n",
      "Adding 202118-234906\n",
      "Adding 202127-234906\n",
      "Adding 202130-234906\n",
      "Adding 202133-234906\n",
      "Adding 202202-234906\n",
      "Adding 202016-235893\n",
      "Adding 202031-235893\n",
      "Adding 202048-235893\n",
      "Adding 202150-235893\n",
      "Adding 202045-236880\n",
      "Adding 202046-236880\n",
      "Adding 202246-236880\n",
      "Adding 202127-237867\n",
      "Adding 202128-237867\n",
      "Adding 202140-237867\n",
      "Adding 202145-237867\n",
      "Adding 202147-237867\n",
      "Adding 202150-237867\n",
      "Adding 202218-237867\n",
      "Adding 202222-237867\n",
      "Adding 202138-238854\n",
      "Adding 202145-238854\n",
      "Adding 202218-238854\n",
      "Adding 202222-238854\n",
      "Adding 202126-239841\n",
      "Adding 202144-239841\n",
      "Adding 202145-239841\n",
      "Adding 202215-239841\n",
      "Adding 202218-239841\n",
      "Adding 202222-239841\n",
      "Adding 202241-239841\n",
      "Adding 202305-239841\n",
      "Adding 202124-240828\n",
      "Adding 202145-240828\n",
      "Adding 202202-240828\n",
      "Adding 202218-240828\n",
      "Adding 202222-240828\n",
      "Adding 202227-240828\n",
      "Adding 202120-242802\n",
      "Adding 202128-242802\n",
      "Adding 202145-242802\n",
      "Adding 202151-242802\n",
      "Adding 202203-242802\n",
      "Adding 202213-242802\n",
      "Adding 202218-242802\n",
      "Adding 202222-242802\n",
      "Adding 202227-242802\n",
      "Adding 202301-242802\n"
     ]
    }
   ],
   "source": [
    "for i,row in new_df[:-1].iterrows():\n",
    "    date = row[\"date\"]\n",
    "    product_number = row[\"product_number\"]\n",
    "    row2 = new_df.iloc[i+1]\n",
    "    if row2[\"product_number\"] == product_number:\n",
    "        diff = row2[\"date\"] - date\n",
    "        if diff.days > 7:\n",
    "            p_num = row[\"product_number\"]\n",
    "            weeks_diff = int(diff.days / 7)\n",
    "            if weeks_diff <= 3:\n",
    "                incremento = (row2[\"sales_units\"] -  row[\"sales_units\"]) / (weeks_diff)\n",
    "                current_date = date\n",
    "                for k in range(1,weeks_diff):\n",
    "                    new_row = copy.copy(row)\n",
    "                    current_date += timedelta(days=7)\n",
    "                    new_row[\"date\"] = current_date\n",
    "                    new_row[\"sales_units\"] = row[\"sales_units\"] + k * incremento\n",
    "                    anho, semana, _ = current_date.isocalendar()\n",
    "                    new_row[\"identifier\"] = str(anho) + str('{:0>2d}'.format(semana)) + \"-\" + str(row[\"product_number\"])\n",
    "                    print(f\"Adding {new_row['identifier']}\")\n",
    "                    new_df.loc[i+k-1] = new_row"
   ]
  },
  {
   "cell_type": "code",
   "execution_count": null,
   "metadata": {},
   "outputs": [],
   "source": []
  }
 ],
 "metadata": {
  "colab": {
   "name": "",
   "version": ""
  },
  "kernelspec": {
   "display_name": "Python 3 (ipykernel)",
   "language": "python",
   "name": "python3"
  },
  "language_info": {
   "codemirror_mode": {
    "name": "ipython",
    "version": 3
   },
   "file_extension": ".py",
   "mimetype": "text/x-python",
   "name": "python",
   "nbconvert_exporter": "python",
   "pygments_lexer": "ipython3",
   "version": "3.9.12"
  }
 },
 "nbformat": 4,
 "nbformat_minor": 1
}
