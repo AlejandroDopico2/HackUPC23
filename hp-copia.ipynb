{
  "cells": [
    {
      "cell_type": "code",
      "execution_count": 128,
      "metadata": {
        "id": "E1rqi4_QOX_D"
      },
      "outputs": [],
      "source": [
        "import pandas as pd \n",
        "import matplotlib.pyplot as plt\n",
        "import seaborn as sns\n",
        "import numpy as np\n",
        "import tensorflow as tf\n",
        "import os \n",
        "import copy\n",
        "from datetime import datetime, timedelta"
      ]
    },
    {
      "cell_type": "markdown",
      "metadata": {
        "id": "-lB6Fk8ur7cy"
      },
      "source": [
        "# Nueva sección"
      ]
    },
    {
      "cell_type": "code",
      "execution_count": 129,
      "metadata": {
        "id": "iUwhnV4fPK49"
      },
      "outputs": [],
      "source": [
        "train_df = pd.read_csv('train.csv')"
      ]
    },
    {
      "cell_type": "code",
      "execution_count": 130,
      "metadata": {
        "colab": {
          "base_uri": "https://localhost:8080/"
        },
        "id": "NOyjAWOLPR68",
        "outputId": "f20c131e-b676-43f4-906c-ce81c4f7efcb"
      },
      "outputs": [
        {
          "output_type": "execute_result",
          "data": {
            "text/plain": [
              "id                  object\n",
              "date                object\n",
              "year_week            int64\n",
              "product_number       int64\n",
              "reporterhq_id        int64\n",
              "prod_category       object\n",
              "specs                int64\n",
              "display_size       float64\n",
              "segment             object\n",
              "sales_units        float64\n",
              "inventory_units    float64\n",
              "dtype: object"
            ]
          },
          "metadata": {},
          "execution_count": 130
        }
      ],
      "source": [
        "train_df.dtypes"
      ]
    },
    {
      "cell_type": "code",
      "execution_count": 131,
      "metadata": {
        "colab": {
          "base_uri": "https://localhost:8080/"
        },
        "id": "xp8F8L8ZPZwj",
        "outputId": "f35c12ea-bb27-43c0-c791-623d2af047a0"
      },
      "outputs": [
        {
          "output_type": "execute_result",
          "data": {
            "text/plain": [
              "id                   0\n",
              "date                 0\n",
              "year_week            0\n",
              "product_number       0\n",
              "reporterhq_id        0\n",
              "prod_category        0\n",
              "specs                0\n",
              "display_size         0\n",
              "segment              0\n",
              "sales_units        491\n",
              "inventory_units    493\n",
              "dtype: int64"
            ]
          },
          "metadata": {},
          "execution_count": 131
        }
      ],
      "source": [
        "train_df.isna().sum()"
      ]
    },
    {
      "cell_type": "code",
      "execution_count": 132,
      "metadata": {
        "colab": {
          "base_uri": "https://localhost:8080/"
        },
        "id": "7fDBGFbXQ1tY",
        "outputId": "b7c909fd-7452-4210-cd13-257a3d6287f9"
      },
      "outputs": [
        {
          "output_type": "stream",
          "name": "stdout",
          "text": [
            "Existen 0 columnas duplicadas\n"
          ]
        }
      ],
      "source": [
        "subset = train_df[[\"id\", \"reporterhq_id\"]]\n",
        "dup = np.sum(subset.duplicated())\n",
        "print(f\"Existen {dup} columnas duplicadas\")"
      ]
    },
    {
      "cell_type": "code",
      "execution_count": 133,
      "metadata": {
        "colab": {
          "base_uri": "https://localhost:8080/"
        },
        "id": "H_05Nx28VCRa",
        "outputId": "6be1b6d8-c835-4318-ba75-5b14cee427b8"
      },
      "outputs": [
        {
          "output_type": "stream",
          "name": "stdout",
          "text": [
            "Un 3.1771709589750223% de sales_unit son nulos y 3.190112592209137% de inventory null\n"
          ]
        }
      ],
      "source": [
        "sales_unit_na= train_df[\"sales_units\"].isna().sum()/train_df.shape[0]\n",
        "inventory_unit_na= train_df[\"inventory_units\"].isna().sum()/train_df.shape[0]\n",
        "\n",
        "print(f\"Un {sales_unit_na*100}% de sales_unit son nulos y {inventory_unit_na*100}% de inventory null\")"
      ]
    },
    {
      "cell_type": "code",
      "execution_count": 134,
      "metadata": {
        "colab": {
          "base_uri": "https://localhost:8080/"
        },
        "id": "2lUc24exTm79",
        "outputId": "62875f0c-3635-4426-d4b1-d54c21e8898c"
      },
      "outputs": [
        {
          "output_type": "execute_result",
          "data": {
            "text/plain": [
              "id                 0\n",
              "date               0\n",
              "year_week          0\n",
              "product_number     0\n",
              "reporterhq_id      0\n",
              "prod_category      0\n",
              "specs              0\n",
              "display_size       0\n",
              "segment            0\n",
              "sales_units        0\n",
              "inventory_units    0\n",
              "dtype: int64"
            ]
          },
          "metadata": {},
          "execution_count": 134
        }
      ],
      "source": [
        "non_na = train_df.dropna()\n",
        "non_na.isna().sum()"
      ]
    },
    {
      "cell_type": "code",
      "execution_count": 135,
      "metadata": {
        "colab": {
          "base_uri": "https://localhost:8080/",
          "height": 356
        },
        "id": "bI1RSoG6hRYT",
        "outputId": "d1ec5ec4-873c-483e-c818-1da1ac97910d"
      },
      "outputs": [
        {
          "output_type": "stream",
          "name": "stderr",
          "text": [
            "<ipython-input-135-40e6df7d8e12>:2: FutureWarning: The default value of numeric_only in DataFrameGroupBy.sum is deprecated. In a future version, numeric_only will default to False. Either specify numeric_only or select only columns which should be valid for the function.\n",
            "  test = test.groupby(\"id\")[[\"id\", \"inventory_units\"]].sum()\n"
          ]
        },
        {
          "output_type": "execute_result",
          "data": {
            "text/plain": [
              "           year_week  product_number          specs  display_size  \\\n",
              "count    7542.000000     7542.000000    7542.000000   7542.000000   \n",
              "mean   202228.855741   126547.873906  110023.623972     15.157704   \n",
              "std        64.456047    80560.155233   63865.270865      1.422126   \n",
              "min    201915.000000     6909.000000     967.000000     11.000000   \n",
              "25%    202210.000000    51324.000000   56086.000000     14.000000   \n",
              "50%    202232.000000   114492.000000  108304.000000     15.600000   \n",
              "75%    202252.000000   201348.000000  155687.000000     15.600000   \n",
              "max    202318.000000   247737.000000  236915.000000     17.300000   \n",
              "\n",
              "       sales_units  inventory_units  \n",
              "count  7542.000000      7542.000000  \n",
              "mean     27.761204       137.733890  \n",
              "std      29.988587       118.812817  \n",
              "min       0.000000         0.000000  \n",
              "25%       4.000000        55.000000  \n",
              "50%      19.000000       111.000000  \n",
              "75%      41.000000       186.000000  \n",
              "max     186.000000       889.000000  "
            ],
            "text/html": [
              "\n",
              "  <div id=\"df-0f632470-091a-43b1-8f64-4644931c93af\">\n",
              "    <div class=\"colab-df-container\">\n",
              "      <div>\n",
              "<style scoped>\n",
              "    .dataframe tbody tr th:only-of-type {\n",
              "        vertical-align: middle;\n",
              "    }\n",
              "\n",
              "    .dataframe tbody tr th {\n",
              "        vertical-align: top;\n",
              "    }\n",
              "\n",
              "    .dataframe thead th {\n",
              "        text-align: right;\n",
              "    }\n",
              "</style>\n",
              "<table border=\"1\" class=\"dataframe\">\n",
              "  <thead>\n",
              "    <tr style=\"text-align: right;\">\n",
              "      <th></th>\n",
              "      <th>year_week</th>\n",
              "      <th>product_number</th>\n",
              "      <th>specs</th>\n",
              "      <th>display_size</th>\n",
              "      <th>sales_units</th>\n",
              "      <th>inventory_units</th>\n",
              "    </tr>\n",
              "  </thead>\n",
              "  <tbody>\n",
              "    <tr>\n",
              "      <th>count</th>\n",
              "      <td>7542.000000</td>\n",
              "      <td>7542.000000</td>\n",
              "      <td>7542.000000</td>\n",
              "      <td>7542.000000</td>\n",
              "      <td>7542.000000</td>\n",
              "      <td>7542.000000</td>\n",
              "    </tr>\n",
              "    <tr>\n",
              "      <th>mean</th>\n",
              "      <td>202228.855741</td>\n",
              "      <td>126547.873906</td>\n",
              "      <td>110023.623972</td>\n",
              "      <td>15.157704</td>\n",
              "      <td>27.761204</td>\n",
              "      <td>137.733890</td>\n",
              "    </tr>\n",
              "    <tr>\n",
              "      <th>std</th>\n",
              "      <td>64.456047</td>\n",
              "      <td>80560.155233</td>\n",
              "      <td>63865.270865</td>\n",
              "      <td>1.422126</td>\n",
              "      <td>29.988587</td>\n",
              "      <td>118.812817</td>\n",
              "    </tr>\n",
              "    <tr>\n",
              "      <th>min</th>\n",
              "      <td>201915.000000</td>\n",
              "      <td>6909.000000</td>\n",
              "      <td>967.000000</td>\n",
              "      <td>11.000000</td>\n",
              "      <td>0.000000</td>\n",
              "      <td>0.000000</td>\n",
              "    </tr>\n",
              "    <tr>\n",
              "      <th>25%</th>\n",
              "      <td>202210.000000</td>\n",
              "      <td>51324.000000</td>\n",
              "      <td>56086.000000</td>\n",
              "      <td>14.000000</td>\n",
              "      <td>4.000000</td>\n",
              "      <td>55.000000</td>\n",
              "    </tr>\n",
              "    <tr>\n",
              "      <th>50%</th>\n",
              "      <td>202232.000000</td>\n",
              "      <td>114492.000000</td>\n",
              "      <td>108304.000000</td>\n",
              "      <td>15.600000</td>\n",
              "      <td>19.000000</td>\n",
              "      <td>111.000000</td>\n",
              "    </tr>\n",
              "    <tr>\n",
              "      <th>75%</th>\n",
              "      <td>202252.000000</td>\n",
              "      <td>201348.000000</td>\n",
              "      <td>155687.000000</td>\n",
              "      <td>15.600000</td>\n",
              "      <td>41.000000</td>\n",
              "      <td>186.000000</td>\n",
              "    </tr>\n",
              "    <tr>\n",
              "      <th>max</th>\n",
              "      <td>202318.000000</td>\n",
              "      <td>247737.000000</td>\n",
              "      <td>236915.000000</td>\n",
              "      <td>17.300000</td>\n",
              "      <td>186.000000</td>\n",
              "      <td>889.000000</td>\n",
              "    </tr>\n",
              "  </tbody>\n",
              "</table>\n",
              "</div>\n",
              "      <button class=\"colab-df-convert\" onclick=\"convertToInteractive('df-0f632470-091a-43b1-8f64-4644931c93af')\"\n",
              "              title=\"Convert this dataframe to an interactive table.\"\n",
              "              style=\"display:none;\">\n",
              "        \n",
              "  <svg xmlns=\"http://www.w3.org/2000/svg\" height=\"24px\"viewBox=\"0 0 24 24\"\n",
              "       width=\"24px\">\n",
              "    <path d=\"M0 0h24v24H0V0z\" fill=\"none\"/>\n",
              "    <path d=\"M18.56 5.44l.94 2.06.94-2.06 2.06-.94-2.06-.94-.94-2.06-.94 2.06-2.06.94zm-11 1L8.5 8.5l.94-2.06 2.06-.94-2.06-.94L8.5 2.5l-.94 2.06-2.06.94zm10 10l.94 2.06.94-2.06 2.06-.94-2.06-.94-.94-2.06-.94 2.06-2.06.94z\"/><path d=\"M17.41 7.96l-1.37-1.37c-.4-.4-.92-.59-1.43-.59-.52 0-1.04.2-1.43.59L10.3 9.45l-7.72 7.72c-.78.78-.78 2.05 0 2.83L4 21.41c.39.39.9.59 1.41.59.51 0 1.02-.2 1.41-.59l7.78-7.78 2.81-2.81c.8-.78.8-2.07 0-2.86zM5.41 20L4 18.59l7.72-7.72 1.47 1.35L5.41 20z\"/>\n",
              "  </svg>\n",
              "      </button>\n",
              "      \n",
              "  <style>\n",
              "    .colab-df-container {\n",
              "      display:flex;\n",
              "      flex-wrap:wrap;\n",
              "      gap: 12px;\n",
              "    }\n",
              "\n",
              "    .colab-df-convert {\n",
              "      background-color: #E8F0FE;\n",
              "      border: none;\n",
              "      border-radius: 50%;\n",
              "      cursor: pointer;\n",
              "      display: none;\n",
              "      fill: #1967D2;\n",
              "      height: 32px;\n",
              "      padding: 0 0 0 0;\n",
              "      width: 32px;\n",
              "    }\n",
              "\n",
              "    .colab-df-convert:hover {\n",
              "      background-color: #E2EBFA;\n",
              "      box-shadow: 0px 1px 2px rgba(60, 64, 67, 0.3), 0px 1px 3px 1px rgba(60, 64, 67, 0.15);\n",
              "      fill: #174EA6;\n",
              "    }\n",
              "\n",
              "    [theme=dark] .colab-df-convert {\n",
              "      background-color: #3B4455;\n",
              "      fill: #D2E3FC;\n",
              "    }\n",
              "\n",
              "    [theme=dark] .colab-df-convert:hover {\n",
              "      background-color: #434B5C;\n",
              "      box-shadow: 0px 1px 3px 1px rgba(0, 0, 0, 0.15);\n",
              "      filter: drop-shadow(0px 1px 2px rgba(0, 0, 0, 0.3));\n",
              "      fill: #FFFFFF;\n",
              "    }\n",
              "  </style>\n",
              "\n",
              "      <script>\n",
              "        const buttonEl =\n",
              "          document.querySelector('#df-0f632470-091a-43b1-8f64-4644931c93af button.colab-df-convert');\n",
              "        buttonEl.style.display =\n",
              "          google.colab.kernel.accessAllowed ? 'block' : 'none';\n",
              "\n",
              "        async function convertToInteractive(key) {\n",
              "          const element = document.querySelector('#df-0f632470-091a-43b1-8f64-4644931c93af');\n",
              "          const dataTable =\n",
              "            await google.colab.kernel.invokeFunction('convertToInteractive',\n",
              "                                                     [key], {});\n",
              "          if (!dataTable) return;\n",
              "\n",
              "          const docLinkHtml = 'Like what you see? Visit the ' +\n",
              "            '<a target=\"_blank\" href=https://colab.research.google.com/notebooks/data_table.ipynb>data table notebook</a>'\n",
              "            + ' to learn more about interactive tables.';\n",
              "          element.innerHTML = '';\n",
              "          dataTable['output_type'] = 'display_data';\n",
              "          await google.colab.output.renderOutput(dataTable, element);\n",
              "          const docLink = document.createElement('div');\n",
              "          docLink.innerHTML = docLinkHtml;\n",
              "          element.appendChild(docLink);\n",
              "        }\n",
              "      </script>\n",
              "    </div>\n",
              "  </div>\n",
              "  "
            ]
          },
          "metadata": {},
          "execution_count": 135
        }
      ],
      "source": [
        "test = non_na\n",
        "test = test.groupby(\"id\")[[\"id\", \"inventory_units\"]].sum()\n",
        "new_df = non_na.drop_duplicates(subset=['id'],keep = 'first')\n",
        "test.reset_index(inplace=True)\n",
        "\n",
        "new_df = pd.merge(new_df, test, on = 'id', how = 'left')\n",
        "new_df.loc[new_df['inventory_units_y'].notnull(), 'inventory_units'] = new_df['inventory_units_y']\n",
        "new_df.drop(['inventory_units_y', 'inventory_units_x', 'reporterhq_id'], axis=1, inplace=True)\n",
        "new_df[\"date\"] = pd.to_datetime(new_df[\"date\"])\n",
        "new_df.describe()"
      ]
    },
    {
      "cell_type": "code",
      "source": [
        "new_df = new_df[new_df.year_week >= 202101]\n",
        "new_df = new_df.sort_values(by = 'id').reset_index(drop = True)"
      ],
      "metadata": {
        "id": "ZaqbnKEECncL"
      },
      "execution_count": 136,
      "outputs": []
    },
    {
      "cell_type": "code",
      "execution_count": 137,
      "metadata": {
        "colab": {
          "base_uri": "https://localhost:8080/",
          "height": 508
        },
        "id": "MySZKkOZEQEP",
        "outputId": "dbbdcbc4-0992-492e-8139-39231f5f38ca"
      },
      "outputs": [
        {
          "output_type": "display_data",
          "data": {
            "text/plain": [
              "<Figure size 640x480 with 1 Axes>"
            ],
            "image/png": "[encoded data removed]"
          },
          "metadata": {}
        }
      ],
      "source": [
        "gd = new_df.groupby('date').sum(numeric_only = True)\n",
        "plt.plot(gd.index, gd.inventory_units)\n",
        "plt.xticks(rotation = 45)\n",
        "plt.xlabel('Date') \n",
        "plt.ylabel('Inventory Units')\n",
        "plt.title('Inventory in time')\n",
        "plt.show()"
      ]
    },
    {
      "cell_type": "code",
      "execution_count": 138,
      "metadata": {
        "colab": {
          "base_uri": "https://localhost:8080/",
          "height": 508
        },
        "id": "1IcICyOxEQEP",
        "outputId": "fcb09529-f3b5-4ad7-d9a7-955edd1223a1"
      },
      "outputs": [
        {
          "output_type": "display_data",
          "data": {
            "text/plain": [
              "<Figure size 640x480 with 1 Axes>"
            ],
            "image/png": "[encoded data removed]"
          },
          "metadata": {}
        }
      ],
      "source": [
        "plt.plot(gd.index, gd.sales_units)\n",
        "plt.xticks(rotation = 45)\n",
        "plt.xlabel('Date') \n",
        "plt.ylabel('Sales Units')\n",
        "plt.title('Sales in time')\n",
        "plt.show()"
      ]
    },
    {
      "cell_type": "code",
      "execution_count": 139,
      "metadata": {
        "id": "cQAkA-SuEQEP"
      },
      "outputs": [],
      "source": [
        "for i,row in new_df[:-1].iterrows():\n",
        "    date = row[\"date\"]\n",
        "    product_number = row[\"product_number\"]\n",
        "    row2 = new_df.iloc[i+1]\n",
        "    if row2[\"product_number\"] == product_number:\n",
        "        diff = row2[\"date\"] - date\n",
        "        if diff.days > 7:\n",
        "            p_num = row[\"product_number\"]\n",
        "            weeks_diff = int(diff.days / 7)\n",
        "            if weeks_diff <= 3:\n",
        "                incremento = (row2[\"sales_units\"] -  row[\"sales_units\"]) / (weeks_diff)\n",
        "                current_date = date\n",
        "                for k in range(1,weeks_diff):\n",
        "                    new_row = copy.copy(row)\n",
        "                    current_date += timedelta(days=7)\n",
        "                    new_row[\"date\"] = current_date\n",
        "                    new_row[\"sales_units\"] = row[\"sales_units\"] + k * incremento\n",
        "                    anho, semana, _ = current_date.isocalendar()\n",
        "                    new_row[\"identifier\"] = str(anho) + str('{:0>2d}'.format(semana)) + \"-\" + str(row[\"product_number\"])\n",
        "                    new_df.loc[i+k-1] = new_row"
      ]
    },
    {
      "cell_type": "code",
      "execution_count": 140,
      "metadata": {
        "id": "ZW5W6pE5EQEQ"
      },
      "outputs": [],
      "source": [
        "new_df[['sales_units', 'inventory_units', 'year_week']] = new_df[['sales_units', 'inventory_units', 'year_week']].astype(int)"
      ]
    },
    {
      "cell_type": "code",
      "execution_count": 141,
      "metadata": {
        "id": "CyXl3pB8EQEQ",
        "colab": {
          "base_uri": "https://localhost:8080/",
          "height": 238
        },
        "outputId": "97b29a4a-877c-4a69-8219-9b3517789998"
      },
      "outputs": [
        {
          "output_type": "execute_result",
          "data": {
            "text/plain": [
              "                  count           mean           std       min       25%  \\\n",
              "year_week        7370.0  202233.979240     55.306371  202101.0  202211.0   \n",
              "product_number   7370.0  124166.207056  79747.701800    6909.0   48363.0   \n",
              "specs            7370.0  110509.599729  64359.763331     967.0   58020.0   \n",
              "display_size     7370.0      15.137870      1.426134      11.0      14.0   \n",
              "sales_units      7370.0      27.887924     30.059301       0.0       4.0   \n",
              "inventory_units  7370.0     139.592402    118.845188       0.0      57.0   \n",
              "\n",
              "                      50%       75%       max  \n",
              "year_week        202233.0  202252.0  202318.0  \n",
              "product_number   112518.0  196413.0  247737.0  \n",
              "specs            108304.0  156654.0  236915.0  \n",
              "display_size         15.6      15.6      17.3  \n",
              "sales_units          19.0      42.0     186.0  \n",
              "inventory_units     112.0     187.0     889.0  "
            ],
            "text/html": [
              "\n",
              "  <div id=\"df-2cebe365-7c94-4adb-9677-5b13ee670e83\">\n",
              "    <div class=\"colab-df-container\">\n",
              "      <div>\n",
              "<style scoped>\n",
              "    .dataframe tbody tr th:only-of-type {\n",
              "        vertical-align: middle;\n",
              "    }\n",
              "\n",
              "    .dataframe tbody tr th {\n",
              "        vertical-align: top;\n",
              "    }\n",
              "\n",
              "    .dataframe thead th {\n",
              "        text-align: right;\n",
              "    }\n",
              "</style>\n",
              "<table border=\"1\" class=\"dataframe\">\n",
              "  <thead>\n",
              "    <tr style=\"text-align: right;\">\n",
              "      <th></th>\n",
              "      <th>count</th>\n",
              "      <th>mean</th>\n",
              "      <th>std</th>\n",
              "      <th>min</th>\n",
              "      <th>25%</th>\n",
              "      <th>50%</th>\n",
              "      <th>75%</th>\n",
              "      <th>max</th>\n",
              "    </tr>\n",
              "  </thead>\n",
              "  <tbody>\n",
              "    <tr>\n",
              "      <th>year_week</th>\n",
              "      <td>7370.0</td>\n",
              "      <td>202233.979240</td>\n",
              "      <td>55.306371</td>\n",
              "      <td>202101.0</td>\n",
              "      <td>202211.0</td>\n",
              "      <td>202233.0</td>\n",
              "      <td>202252.0</td>\n",
              "      <td>202318.0</td>\n",
              "    </tr>\n",
              "    <tr>\n",
              "      <th>product_number</th>\n",
              "      <td>7370.0</td>\n",
              "      <td>124166.207056</td>\n",
              "      <td>79747.701800</td>\n",
              "      <td>6909.0</td>\n",
              "      <td>48363.0</td>\n",
              "      <td>112518.0</td>\n",
              "      <td>196413.0</td>\n",
              "      <td>247737.0</td>\n",
              "    </tr>\n",
              "    <tr>\n",
              "      <th>specs</th>\n",
              "      <td>7370.0</td>\n",
              "      <td>110509.599729</td>\n",
              "      <td>64359.763331</td>\n",
              "      <td>967.0</td>\n",
              "      <td>58020.0</td>\n",
              "      <td>108304.0</td>\n",
              "      <td>156654.0</td>\n",
              "      <td>236915.0</td>\n",
              "    </tr>\n",
              "    <tr>\n",
              "      <th>display_size</th>\n",
              "      <td>7370.0</td>\n",
              "      <td>15.137870</td>\n",
              "      <td>1.426134</td>\n",
              "      <td>11.0</td>\n",
              "      <td>14.0</td>\n",
              "      <td>15.6</td>\n",
              "      <td>15.6</td>\n",
              "      <td>17.3</td>\n",
              "    </tr>\n",
              "    <tr>\n",
              "      <th>sales_units</th>\n",
              "      <td>7370.0</td>\n",
              "      <td>27.887924</td>\n",
              "      <td>30.059301</td>\n",
              "      <td>0.0</td>\n",
              "      <td>4.0</td>\n",
              "      <td>19.0</td>\n",
              "      <td>42.0</td>\n",
              "      <td>186.0</td>\n",
              "    </tr>\n",
              "    <tr>\n",
              "      <th>inventory_units</th>\n",
              "      <td>7370.0</td>\n",
              "      <td>139.592402</td>\n",
              "      <td>118.845188</td>\n",
              "      <td>0.0</td>\n",
              "      <td>57.0</td>\n",
              "      <td>112.0</td>\n",
              "      <td>187.0</td>\n",
              "      <td>889.0</td>\n",
              "    </tr>\n",
              "  </tbody>\n",
              "</table>\n",
              "</div>\n",
              "      <button class=\"colab-df-convert\" onclick=\"convertToInteractive('df-2cebe365-7c94-4adb-9677-5b13ee670e83')\"\n",
              "              title=\"Convert this dataframe to an interactive table.\"\n",
              "              style=\"display:none;\">\n",
              "        \n",
              "  <svg xmlns=\"http://www.w3.org/2000/svg\" height=\"24px\"viewBox=\"0 0 24 24\"\n",
              "       width=\"24px\">\n",
              "    <path d=\"M0 0h24v24H0V0z\" fill=\"none\"/>\n",
              "    <path d=\"M18.56 5.44l.94 2.06.94-2.06 2.06-.94-2.06-.94-.94-2.06-.94 2.06-2.06.94zm-11 1L8.5 8.5l.94-2.06 2.06-.94-2.06-.94L8.5 2.5l-.94 2.06-2.06.94zm10 10l.94 2.06.94-2.06 2.06-.94-2.06-.94-.94-2.06-.94 2.06-2.06.94z\"/><path d=\"M17.41 7.96l-1.37-1.37c-.4-.4-.92-.59-1.43-.59-.52 0-1.04.2-1.43.59L10.3 9.45l-7.72 7.72c-.78.78-.78 2.05 0 2.83L4 21.41c.39.39.9.59 1.41.59.51 0 1.02-.2 1.41-.59l7.78-7.78 2.81-2.81c.8-.78.8-2.07 0-2.86zM5.41 20L4 18.59l7.72-7.72 1.47 1.35L5.41 20z\"/>\n",
              "  </svg>\n",
              "      </button>\n",
              "      \n",
              "  <style>\n",
              "    .colab-df-container {\n",
              "      display:flex;\n",
              "      flex-wrap:wrap;\n",
              "      gap: 12px;\n",
              "    }\n",
              "\n",
              "    .colab-df-convert {\n",
              "      background-color: #E8F0FE;\n",
              "      border: none;\n",
              "      border-radius: 50%;\n",
              "      cursor: pointer;\n",
              "      display: none;\n",
              "      fill: #1967D2;\n",
              "      height: 32px;\n",
              "      padding: 0 0 0 0;\n",
              "      width: 32px;\n",
              "    }\n",
              "\n",
              "    .colab-df-convert:hover {\n",
              "      background-color: #E2EBFA;\n",
              "      box-shadow: 0px 1px 2px rgba(60, 64, 67, 0.3), 0px 1px 3px 1px rgba(60, 64, 67, 0.15);\n",
              "      fill: #174EA6;\n",
              "    }\n",
              "\n",
              "    [theme=dark] .colab-df-convert {\n",
              "      background-color: #3B4455;\n",
              "      fill: #D2E3FC;\n",
              "    }\n",
              "\n",
              "    [theme=dark] .colab-df-convert:hover {\n",
              "      background-color: #434B5C;\n",
              "      box-shadow: 0px 1px 3px 1px rgba(0, 0, 0, 0.15);\n",
              "      filter: drop-shadow(0px 1px 2px rgba(0, 0, 0, 0.3));\n",
              "      fill: #FFFFFF;\n",
              "    }\n",
              "  </style>\n",
              "\n",
              "      <script>\n",
              "        const buttonEl =\n",
              "          document.querySelector('#df-2cebe365-7c94-4adb-9677-5b13ee670e83 button.colab-df-convert');\n",
              "        buttonEl.style.display =\n",
              "          google.colab.kernel.accessAllowed ? 'block' : 'none';\n",
              "\n",
              "        async function convertToInteractive(key) {\n",
              "          const element = document.querySelector('#df-2cebe365-7c94-4adb-9677-5b13ee670e83');\n",
              "          const dataTable =\n",
              "            await google.colab.kernel.invokeFunction('convertToInteractive',\n",
              "                                                     [key], {});\n",
              "          if (!dataTable) return;\n",
              "\n",
              "          const docLinkHtml = 'Like what you see? Visit the ' +\n",
              "            '<a target=\"_blank\" href=https://colab.research.google.com/notebooks/data_table.ipynb>data table notebook</a>'\n",
              "            + ' to learn more about interactive tables.';\n",
              "          element.innerHTML = '';\n",
              "          dataTable['output_type'] = 'display_data';\n",
              "          await google.colab.output.renderOutput(dataTable, element);\n",
              "          const docLink = document.createElement('div');\n",
              "          docLink.innerHTML = docLinkHtml;\n",
              "          element.appendChild(docLink);\n",
              "        }\n",
              "      </script>\n",
              "    </div>\n",
              "  </div>\n",
              "  "
            ]
          },
          "metadata": {},
          "execution_count": 141
        }
      ],
      "source": [
        "new_df.describe().transpose()"
      ]
    },
    {
      "cell_type": "code",
      "execution_count": 142,
      "metadata": {
        "id": "zsg3r3qOEQEQ",
        "colab": {
          "base_uri": "https://localhost:8080/"
        },
        "outputId": "dfcab4eb-a830-4179-f427-f00888ebbd18"
      },
      "outputs": [
        {
          "output_type": "stream",
          "name": "stdout",
          "text": [
            "Numero de errores es  3004\n",
            "Min de errores es  1\n",
            "Min de errores es  837\n",
            "Media de errores es  109.04494007989348\n",
            "Std de errores es  114.55070998246332\n"
          ]
        }
      ],
      "source": [
        "error = []\n",
        "for i, row in new_df[1:].iterrows():\n",
        "  if row.sales_units + row.inventory_units < new_df.loc[i-1].inventory_units:\n",
        "      error.append(new_df.loc[i-1].inventory_units - (row.sales_units + row.inventory_units))\n",
        "      if new_df.loc[i-1].inventory_units - (row.sales_units + row.inventory_units) < 0:\n",
        "          print(f\"Fila {i} tiene un error con una medida de {new_df.loc[i-1].inventory_units - (row.sales_units + row.inventory_units)}\")\n",
        "\n",
        "print(\"Numero de errores es \", len(error))\n",
        "print(\"Min de errores es \", np.array(error).min())\n",
        "print(\"Min de errores es \", np.array(error).max())\n",
        "print(\"Media de errores es \", np.array(error).mean())\n",
        "print(\"Std de errores es \", np.array(error).std())\n"
      ]
    },
    {
      "cell_type": "code",
      "execution_count": 143,
      "metadata": {
        "id": "9vT6r8zTEQEQ",
        "colab": {
          "base_uri": "https://localhost:8080/"
        },
        "outputId": "c0df3103-33c5-4203-a8ec-d03cbb1309b1"
      },
      "outputs": [
        {
          "output_type": "stream",
          "name": "stderr",
          "text": [
            "<ipython-input-143-f3ee59b97159>:8: SettingWithCopyWarning: \n",
            "A value is trying to be set on a copy of a slice from a DataFrame\n",
            "\n",
            "See the caveats in the documentation: https://pandas.pydata.org/pandas-docs/stable/user_guide/indexing.html#returning-a-view-versus-a-copy\n",
            "  new_df.purchases_units[new_df.purchases_units < 0 ] = 0\n"
          ]
        }
      ],
      "source": [
        "new_df[\"purchases_units\"] =  0\n",
        "\n",
        "for i in range(1, len(new_df)):\n",
        "    compras = new_df.at[i, 'inventory_units'] - (new_df.at[i, 'sales_units'] + new_df.at[i-1, 'inventory_units'])\n",
        "    new_df.at[i, 'purchases_units'] = compras\n",
        "    \n",
        "new_df.head()\n",
        "new_df.purchases_units[new_df.purchases_units < 0 ] = 0\n"
      ]
    },
    {
      "cell_type": "code",
      "source": [
        "date_time = pd.to_datetime(new_df[\"date\"], format='%Y.%m.%d %H:%M:%S')\n",
        "timestamp_s = date_time.map(pd.Timestamp.timestamp)\n",
        "new_df = new_df.drop([\"date\"], axis = 1)\n",
        "\n",
        "week = 24*60*60*7\n",
        "year = 52*week\n",
        "\n",
        "new_df['Week sin'] = np.sin(timestamp_s * (2 * np.pi / week))\n",
        "new_df['Week cos'] = np.cos(timestamp_s * (2 * np.pi / week))\n",
        "new_df['Year sin'] = np.sin(timestamp_s * (2 * np.pi / year))\n",
        "new_df['Year cos'] = np.cos(timestamp_s * (2 * np.pi / year))\n"
      ],
      "metadata": {
        "id": "gl_xb699Ybpu"
      },
      "execution_count": 144,
      "outputs": []
    },
    {
      "cell_type": "code",
      "source": [
        "new_df.head()"
      ],
      "metadata": {
        "colab": {
          "base_uri": "https://localhost:8080/",
          "height": 374
        },
        "id": "FViPTBwzmBwe",
        "outputId": "f3d87564-fad0-417b-b8e6-be2e4dead319"
      },
      "execution_count": 145,
      "outputs": [
        {
          "output_type": "execute_result",
          "data": {
            "text/plain": [
              "              id  year_week  product_number prod_category   specs  \\\n",
              "0   202101-11844     202101           11844      Doraemon  109271   \n",
              "1   202101-12831     202101           12831      Doraemon  180829   \n",
              "2  202101-233919     202101          233919        Clover  106370   \n",
              "3  202101-235893     202101          235893        Clover   50284   \n",
              "4  202101-247737     202101          247737         Arale   10637   \n",
              "\n",
              "   display_size  segment  sales_units  inventory_units  purchases_units  \\\n",
              "0          15.6   Gaming           32               25                0   \n",
              "1          15.6   Gaming            8               50               17   \n",
              "2          15.6     Core            2                0                0   \n",
              "3          17.3     Core           21               44               23   \n",
              "4          13.3  Premium           43                8                0   \n",
              "\n",
              "   Week sin  Week cos  Year sin  Year cos  \n",
              "0  0.974928 -0.222521  0.946699   0.32212  \n",
              "1  0.974928 -0.222521  0.946699   0.32212  \n",
              "2  0.974928 -0.222521  0.946699   0.32212  \n",
              "3  0.974928 -0.222521  0.946699   0.32212  \n",
              "4  0.974928 -0.222521  0.946699   0.32212  "
            ],
            "text/html": [
              "\n",
              "  <div id=\"df-0f32d44f-9842-4c58-b72e-06fb315f5c88\">\n",
              "    <div class=\"colab-df-container\">\n",
              "      <div>\n",
              "<style scoped>\n",
              "    .dataframe tbody tr th:only-of-type {\n",
              "        vertical-align: middle;\n",
              "    }\n",
              "\n",
              "    .dataframe tbody tr th {\n",
              "        vertical-align: top;\n",
              "    }\n",
              "\n",
              "    .dataframe thead th {\n",
              "        text-align: right;\n",
              "    }\n",
              "</style>\n",
              "<table border=\"1\" class=\"dataframe\">\n",
              "  <thead>\n",
              "    <tr style=\"text-align: right;\">\n",
              "      <th></th>\n",
              "      <th>id</th>\n",
              "      <th>year_week</th>\n",
              "      <th>product_number</th>\n",
              "      <th>prod_category</th>\n",
              "      <th>specs</th>\n",
              "      <th>display_size</th>\n",
              "      <th>segment</th>\n",
              "      <th>sales_units</th>\n",
              "      <th>inventory_units</th>\n",
              "      <th>purchases_units</th>\n",
              "      <th>Week sin</th>\n",
              "      <th>Week cos</th>\n",
              "      <th>Year sin</th>\n",
              "      <th>Year cos</th>\n",
              "    </tr>\n",
              "  </thead>\n",
              "  <tbody>\n",
              "    <tr>\n",
              "      <th>0</th>\n",
              "      <td>202101-11844</td>\n",
              "      <td>202101</td>\n",
              "      <td>11844</td>\n",
              "      <td>Doraemon</td>\n",
              "      <td>109271</td>\n",
              "      <td>15.6</td>\n",
              "      <td>Gaming</td>\n",
              "      <td>32</td>\n",
              "      <td>25</td>\n",
              "      <td>0</td>\n",
              "      <td>0.974928</td>\n",
              "      <td>-0.222521</td>\n",
              "      <td>0.946699</td>\n",
              "      <td>0.32212</td>\n",
              "    </tr>\n",
              "    <tr>\n",
              "      <th>1</th>\n",
              "      <td>202101-12831</td>\n",
              "      <td>202101</td>\n",
              "      <td>12831</td>\n",
              "      <td>Doraemon</td>\n",
              "      <td>180829</td>\n",
              "      <td>15.6</td>\n",
              "      <td>Gaming</td>\n",
              "      <td>8</td>\n",
              "      <td>50</td>\n",
              "      <td>17</td>\n",
              "      <td>0.974928</td>\n",
              "      <td>-0.222521</td>\n",
              "      <td>0.946699</td>\n",
              "      <td>0.32212</td>\n",
              "    </tr>\n",
              "    <tr>\n",
              "      <th>2</th>\n",
              "      <td>202101-233919</td>\n",
              "      <td>202101</td>\n",
              "      <td>233919</td>\n",
              "      <td>Clover</td>\n",
              "      <td>106370</td>\n",
              "      <td>15.6</td>\n",
              "      <td>Core</td>\n",
              "      <td>2</td>\n",
              "      <td>0</td>\n",
              "      <td>0</td>\n",
              "      <td>0.974928</td>\n",
              "      <td>-0.222521</td>\n",
              "      <td>0.946699</td>\n",
              "      <td>0.32212</td>\n",
              "    </tr>\n",
              "    <tr>\n",
              "      <th>3</th>\n",
              "      <td>202101-235893</td>\n",
              "      <td>202101</td>\n",
              "      <td>235893</td>\n",
              "      <td>Clover</td>\n",
              "      <td>50284</td>\n",
              "      <td>17.3</td>\n",
              "      <td>Core</td>\n",
              "      <td>21</td>\n",
              "      <td>44</td>\n",
              "      <td>23</td>\n",
              "      <td>0.974928</td>\n",
              "      <td>-0.222521</td>\n",
              "      <td>0.946699</td>\n",
              "      <td>0.32212</td>\n",
              "    </tr>\n",
              "    <tr>\n",
              "      <th>4</th>\n",
              "      <td>202101-247737</td>\n",
              "      <td>202101</td>\n",
              "      <td>247737</td>\n",
              "      <td>Arale</td>\n",
              "      <td>10637</td>\n",
              "      <td>13.3</td>\n",
              "      <td>Premium</td>\n",
              "      <td>43</td>\n",
              "      <td>8</td>\n",
              "      <td>0</td>\n",
              "      <td>0.974928</td>\n",
              "      <td>-0.222521</td>\n",
              "      <td>0.946699</td>\n",
              "      <td>0.32212</td>\n",
              "    </tr>\n",
              "  </tbody>\n",
              "</table>\n",
              "</div>\n",
              "      <button class=\"colab-df-convert\" onclick=\"convertToInteractive('df-0f32d44f-9842-4c58-b72e-06fb315f5c88')\"\n",
              "              title=\"Convert this dataframe to an interactive table.\"\n",
              "              style=\"display:none;\">\n",
              "        \n",
              "  <svg xmlns=\"http://www.w3.org/2000/svg\" height=\"24px\"viewBox=\"0 0 24 24\"\n",
              "       width=\"24px\">\n",
              "    <path d=\"M0 0h24v24H0V0z\" fill=\"none\"/>\n",
              "    <path d=\"M18.56 5.44l.94 2.06.94-2.06 2.06-.94-2.06-.94-.94-2.06-.94 2.06-2.06.94zm-11 1L8.5 8.5l.94-2.06 2.06-.94-2.06-.94L8.5 2.5l-.94 2.06-2.06.94zm10 10l.94 2.06.94-2.06 2.06-.94-2.06-.94-.94-2.06-.94 2.06-2.06.94z\"/><path d=\"M17.41 7.96l-1.37-1.37c-.4-.4-.92-.59-1.43-.59-.52 0-1.04.2-1.43.59L10.3 9.45l-7.72 7.72c-.78.78-.78 2.05 0 2.83L4 21.41c.39.39.9.59 1.41.59.51 0 1.02-.2 1.41-.59l7.78-7.78 2.81-2.81c.8-.78.8-2.07 0-2.86zM5.41 20L4 18.59l7.72-7.72 1.47 1.35L5.41 20z\"/>\n",
              "  </svg>\n",
              "      </button>\n",
              "      \n",
              "  <style>\n",
              "    .colab-df-container {\n",
              "      display:flex;\n",
              "      flex-wrap:wrap;\n",
              "      gap: 12px;\n",
              "    }\n",
              "\n",
              "    .colab-df-convert {\n",
              "      background-color: #E8F0FE;\n",
              "      border: none;\n",
              "      border-radius: 50%;\n",
              "      cursor: pointer;\n",
              "      display: none;\n",
              "      fill: #1967D2;\n",
              "      height: 32px;\n",
              "      padding: 0 0 0 0;\n",
              "      width: 32px;\n",
              "    }\n",
              "\n",
              "    .colab-df-convert:hover {\n",
              "      background-color: #E2EBFA;\n",
              "      box-shadow: 0px 1px 2px rgba(60, 64, 67, 0.3), 0px 1px 3px 1px rgba(60, 64, 67, 0.15);\n",
              "      fill: #174EA6;\n",
              "    }\n",
              "\n",
              "    [theme=dark] .colab-df-convert {\n",
              "      background-color: #3B4455;\n",
              "      fill: #D2E3FC;\n",
              "    }\n",
              "\n",
              "    [theme=dark] .colab-df-convert:hover {\n",
              "      background-color: #434B5C;\n",
              "      box-shadow: 0px 1px 3px 1px rgba(0, 0, 0, 0.15);\n",
              "      filter: drop-shadow(0px 1px 2px rgba(0, 0, 0, 0.3));\n",
              "      fill: #FFFFFF;\n",
              "    }\n",
              "  </style>\n",
              "\n",
              "      <script>\n",
              "        const buttonEl =\n",
              "          document.querySelector('#df-0f32d44f-9842-4c58-b72e-06fb315f5c88 button.colab-df-convert');\n",
              "        buttonEl.style.display =\n",
              "          google.colab.kernel.accessAllowed ? 'block' : 'none';\n",
              "\n",
              "        async function convertToInteractive(key) {\n",
              "          const element = document.querySelector('#df-0f32d44f-9842-4c58-b72e-06fb315f5c88');\n",
              "          const dataTable =\n",
              "            await google.colab.kernel.invokeFunction('convertToInteractive',\n",
              "                                                     [key], {});\n",
              "          if (!dataTable) return;\n",
              "\n",
              "          const docLinkHtml = 'Like what you see? Visit the ' +\n",
              "            '<a target=\"_blank\" href=https://colab.research.google.com/notebooks/data_table.ipynb>data table notebook</a>'\n",
              "            + ' to learn more about interactive tables.';\n",
              "          element.innerHTML = '';\n",
              "          dataTable['output_type'] = 'display_data';\n",
              "          await google.colab.output.renderOutput(dataTable, element);\n",
              "          const docLink = document.createElement('div');\n",
              "          docLink.innerHTML = docLinkHtml;\n",
              "          element.appendChild(docLink);\n",
              "        }\n",
              "      </script>\n",
              "    </div>\n",
              "  </div>\n",
              "  "
            ]
          },
          "metadata": {},
          "execution_count": 145
        }
      ]
    },
    {
      "cell_type": "code",
      "execution_count": 146,
      "metadata": {
        "id": "nl444aY7EQEQ",
        "colab": {
          "base_uri": "https://localhost:8080/",
          "height": 394
        },
        "outputId": "9ac23d2f-bcae-4d63-dec6-97bb39fae62c"
      },
      "outputs": [
        {
          "output_type": "execute_result",
          "data": {
            "text/plain": [
              "                  count           mean           std            min  \\\n",
              "year_week        7370.0  202233.979240  5.530637e+01  202101.000000   \n",
              "product_number   7370.0  124166.207056  7.974770e+04    6909.000000   \n",
              "specs            7370.0  110509.599729  6.435976e+04     967.000000   \n",
              "display_size     7370.0      15.137870  1.426134e+00      11.000000   \n",
              "sales_units      7370.0      27.887924  3.005930e+01       0.000000   \n",
              "inventory_units  7370.0     139.592402  1.188452e+02       0.000000   \n",
              "purchases_units  7370.0      43.399457  8.890604e+01       0.000000   \n",
              "Week sin         7370.0       0.974928  2.335396e-13       0.974928   \n",
              "Week cos         7370.0      -0.222521  1.023200e-12      -0.222521   \n",
              "Year sin         7370.0       0.110459  6.934653e-01      -0.999404   \n",
              "Year cos         7370.0      -0.052360  7.101385e-01      -0.999404   \n",
              "\n",
              "                           25%            50%            75%            max  \n",
              "year_week        202211.000000  202233.000000  202252.000000  202318.000000  \n",
              "product_number    48363.000000  112518.000000  196413.000000  247737.000000  \n",
              "specs             58020.000000  108304.000000  156654.000000  236915.000000  \n",
              "display_size         14.000000      15.600000      15.600000      17.300000  \n",
              "sales_units           4.000000      19.000000      42.000000     186.000000  \n",
              "inventory_units      57.000000     112.000000     187.000000     889.000000  \n",
              "purchases_units       0.000000       0.000000      50.000000     810.000000  \n",
              "Week sin              0.974928       0.974928       0.974928       0.974928  \n",
              "Week cos             -0.222521      -0.222521      -0.222521      -0.222521  \n",
              "Year sin             -0.539320       0.205660       0.770953       0.999404  \n",
              "Year cos             -0.770953      -0.086200       0.636892       0.999404  "
            ],
            "text/html": [
              "\n",
              "  <div id=\"df-ce20a8fd-4e9a-4fcb-9754-dc120fdd6623\">\n",
              "    <div class=\"colab-df-container\">\n",
              "      <div>\n",
              "<style scoped>\n",
              "    .dataframe tbody tr th:only-of-type {\n",
              "        vertical-align: middle;\n",
              "    }\n",
              "\n",
              "    .dataframe tbody tr th {\n",
              "        vertical-align: top;\n",
              "    }\n",
              "\n",
              "    .dataframe thead th {\n",
              "        text-align: right;\n",
              "    }\n",
              "</style>\n",
              "<table border=\"1\" class=\"dataframe\">\n",
              "  <thead>\n",
              "    <tr style=\"text-align: right;\">\n",
              "      <th></th>\n",
              "      <th>count</th>\n",
              "      <th>mean</th>\n",
              "      <th>std</th>\n",
              "      <th>min</th>\n",
              "      <th>25%</th>\n",
              "      <th>50%</th>\n",
              "      <th>75%</th>\n",
              "      <th>max</th>\n",
              "    </tr>\n",
              "  </thead>\n",
              "  <tbody>\n",
              "    <tr>\n",
              "      <th>year_week</th>\n",
              "      <td>7370.0</td>\n",
              "      <td>202233.979240</td>\n",
              "      <td>5.530637e+01</td>\n",
              "      <td>202101.000000</td>\n",
              "      <td>202211.000000</td>\n",
              "      <td>202233.000000</td>\n",
              "      <td>202252.000000</td>\n",
              "      <td>202318.000000</td>\n",
              "    </tr>\n",
              "    <tr>\n",
              "      <th>product_number</th>\n",
              "      <td>7370.0</td>\n",
              "      <td>124166.207056</td>\n",
              "      <td>7.974770e+04</td>\n",
              "      <td>6909.000000</td>\n",
              "      <td>48363.000000</td>\n",
              "      <td>112518.000000</td>\n",
              "      <td>196413.000000</td>\n",
              "      <td>247737.000000</td>\n",
              "    </tr>\n",
              "    <tr>\n",
              "      <th>specs</th>\n",
              "      <td>7370.0</td>\n",
              "      <td>110509.599729</td>\n",
              "      <td>6.435976e+04</td>\n",
              "      <td>967.000000</td>\n",
              "      <td>58020.000000</td>\n",
              "      <td>108304.000000</td>\n",
              "      <td>156654.000000</td>\n",
              "      <td>236915.000000</td>\n",
              "    </tr>\n",
              "    <tr>\n",
              "      <th>display_size</th>\n",
              "      <td>7370.0</td>\n",
              "      <td>15.137870</td>\n",
              "      <td>1.426134e+00</td>\n",
              "      <td>11.000000</td>\n",
              "      <td>14.000000</td>\n",
              "      <td>15.600000</td>\n",
              "      <td>15.600000</td>\n",
              "      <td>17.300000</td>\n",
              "    </tr>\n",
              "    <tr>\n",
              "      <th>sales_units</th>\n",
              "      <td>7370.0</td>\n",
              "      <td>27.887924</td>\n",
              "      <td>3.005930e+01</td>\n",
              "      <td>0.000000</td>\n",
              "      <td>4.000000</td>\n",
              "      <td>19.000000</td>\n",
              "      <td>42.000000</td>\n",
              "      <td>186.000000</td>\n",
              "    </tr>\n",
              "    <tr>\n",
              "      <th>inventory_units</th>\n",
              "      <td>7370.0</td>\n",
              "      <td>139.592402</td>\n",
              "      <td>1.188452e+02</td>\n",
              "      <td>0.000000</td>\n",
              "      <td>57.000000</td>\n",
              "      <td>112.000000</td>\n",
              "      <td>187.000000</td>\n",
              "      <td>889.000000</td>\n",
              "    </tr>\n",
              "    <tr>\n",
              "      <th>purchases_units</th>\n",
              "      <td>7370.0</td>\n",
              "      <td>43.399457</td>\n",
              "      <td>8.890604e+01</td>\n",
              "      <td>0.000000</td>\n",
              "      <td>0.000000</td>\n",
              "      <td>0.000000</td>\n",
              "      <td>50.000000</td>\n",
              "      <td>810.000000</td>\n",
              "    </tr>\n",
              "    <tr>\n",
              "      <th>Week sin</th>\n",
              "      <td>7370.0</td>\n",
              "      <td>0.974928</td>\n",
              "      <td>2.335396e-13</td>\n",
              "      <td>0.974928</td>\n",
              "      <td>0.974928</td>\n",
              "      <td>0.974928</td>\n",
              "      <td>0.974928</td>\n",
              "      <td>0.974928</td>\n",
              "    </tr>\n",
              "    <tr>\n",
              "      <th>Week cos</th>\n",
              "      <td>7370.0</td>\n",
              "      <td>-0.222521</td>\n",
              "      <td>1.023200e-12</td>\n",
              "      <td>-0.222521</td>\n",
              "      <td>-0.222521</td>\n",
              "      <td>-0.222521</td>\n",
              "      <td>-0.222521</td>\n",
              "      <td>-0.222521</td>\n",
              "    </tr>\n",
              "    <tr>\n",
              "      <th>Year sin</th>\n",
              "      <td>7370.0</td>\n",
              "      <td>0.110459</td>\n",
              "      <td>6.934653e-01</td>\n",
              "      <td>-0.999404</td>\n",
              "      <td>-0.539320</td>\n",
              "      <td>0.205660</td>\n",
              "      <td>0.770953</td>\n",
              "      <td>0.999404</td>\n",
              "    </tr>\n",
              "    <tr>\n",
              "      <th>Year cos</th>\n",
              "      <td>7370.0</td>\n",
              "      <td>-0.052360</td>\n",
              "      <td>7.101385e-01</td>\n",
              "      <td>-0.999404</td>\n",
              "      <td>-0.770953</td>\n",
              "      <td>-0.086200</td>\n",
              "      <td>0.636892</td>\n",
              "      <td>0.999404</td>\n",
              "    </tr>\n",
              "  </tbody>\n",
              "</table>\n",
              "</div>\n",
              "      <button class=\"colab-df-convert\" onclick=\"convertToInteractive('df-ce20a8fd-4e9a-4fcb-9754-dc120fdd6623')\"\n",
              "              title=\"Convert this dataframe to an interactive table.\"\n",
              "              style=\"display:none;\">\n",
              "        \n",
              "  <svg xmlns=\"http://www.w3.org/2000/svg\" height=\"24px\"viewBox=\"0 0 24 24\"\n",
              "       width=\"24px\">\n",
              "    <path d=\"M0 0h24v24H0V0z\" fill=\"none\"/>\n",
              "    <path d=\"M18.56 5.44l.94 2.06.94-2.06 2.06-.94-2.06-.94-.94-2.06-.94 2.06-2.06.94zm-11 1L8.5 8.5l.94-2.06 2.06-.94-2.06-.94L8.5 2.5l-.94 2.06-2.06.94zm10 10l.94 2.06.94-2.06 2.06-.94-2.06-.94-.94-2.06-.94 2.06-2.06.94z\"/><path d=\"M17.41 7.96l-1.37-1.37c-.4-.4-.92-.59-1.43-.59-.52 0-1.04.2-1.43.59L10.3 9.45l-7.72 7.72c-.78.78-.78 2.05 0 2.83L4 21.41c.39.39.9.59 1.41.59.51 0 1.02-.2 1.41-.59l7.78-7.78 2.81-2.81c.8-.78.8-2.07 0-2.86zM5.41 20L4 18.59l7.72-7.72 1.47 1.35L5.41 20z\"/>\n",
              "  </svg>\n",
              "      </button>\n",
              "      \n",
              "  <style>\n",
              "    .colab-df-container {\n",
              "      display:flex;\n",
              "      flex-wrap:wrap;\n",
              "      gap: 12px;\n",
              "    }\n",
              "\n",
              "    .colab-df-convert {\n",
              "      background-color: #E8F0FE;\n",
              "      border: none;\n",
              "      border-radius: 50%;\n",
              "      cursor: pointer;\n",
              "      display: none;\n",
              "      fill: #1967D2;\n",
              "      height: 32px;\n",
              "      padding: 0 0 0 0;\n",
              "      width: 32px;\n",
              "    }\n",
              "\n",
              "    .colab-df-convert:hover {\n",
              "      background-color: #E2EBFA;\n",
              "      box-shadow: 0px 1px 2px rgba(60, 64, 67, 0.3), 0px 1px 3px 1px rgba(60, 64, 67, 0.15);\n",
              "      fill: #174EA6;\n",
              "    }\n",
              "\n",
              "    [theme=dark] .colab-df-convert {\n",
              "      background-color: #3B4455;\n",
              "      fill: #D2E3FC;\n",
              "    }\n",
              "\n",
              "    [theme=dark] .colab-df-convert:hover {\n",
              "      background-color: #434B5C;\n",
              "      box-shadow: 0px 1px 3px 1px rgba(0, 0, 0, 0.15);\n",
              "      filter: drop-shadow(0px 1px 2px rgba(0, 0, 0, 0.3));\n",
              "      fill: #FFFFFF;\n",
              "    }\n",
              "  </style>\n",
              "\n",
              "      <script>\n",
              "        const buttonEl =\n",
              "          document.querySelector('#df-ce20a8fd-4e9a-4fcb-9754-dc120fdd6623 button.colab-df-convert');\n",
              "        buttonEl.style.display =\n",
              "          google.colab.kernel.accessAllowed ? 'block' : 'none';\n",
              "\n",
              "        async function convertToInteractive(key) {\n",
              "          const element = document.querySelector('#df-ce20a8fd-4e9a-4fcb-9754-dc120fdd6623');\n",
              "          const dataTable =\n",
              "            await google.colab.kernel.invokeFunction('convertToInteractive',\n",
              "                                                     [key], {});\n",
              "          if (!dataTable) return;\n",
              "\n",
              "          const docLinkHtml = 'Like what you see? Visit the ' +\n",
              "            '<a target=\"_blank\" href=https://colab.research.google.com/notebooks/data_table.ipynb>data table notebook</a>'\n",
              "            + ' to learn more about interactive tables.';\n",
              "          element.innerHTML = '';\n",
              "          dataTable['output_type'] = 'display_data';\n",
              "          await google.colab.output.renderOutput(dataTable, element);\n",
              "          const docLink = document.createElement('div');\n",
              "          docLink.innerHTML = docLinkHtml;\n",
              "          element.appendChild(docLink);\n",
              "        }\n",
              "      </script>\n",
              "    </div>\n",
              "  </div>\n",
              "  "
            ]
          },
          "metadata": {},
          "execution_count": 146
        }
      ],
      "source": [
        "new_df.describe().transpose()"
      ]
    },
    {
      "cell_type": "markdown",
      "source": [
        "## Separación validación"
      ],
      "metadata": {
        "id": "_HqX-S3Qzhof"
      }
    },
    {
      "cell_type": "code",
      "source": [
        "n = len(new_df)\n",
        "train_df = new_df[0:int(n*0.8)]\n",
        "val_df = new_df[int(n*0.8):]\n",
        "num_features = new_df.shape[1]"
      ],
      "metadata": {
        "id": "AXsLDpa7zg6r"
      },
      "execution_count": 147,
      "outputs": []
    },
    {
      "cell_type": "markdown",
      "metadata": {
        "id": "glyhyz8TEQER"
      },
      "source": [
        "## Normalización"
      ]
    },
    {
      "cell_type": "code",
      "execution_count": 148,
      "metadata": {
        "id": "C3I0lbclEQER"
      },
      "outputs": [],
      "source": [
        "X_train = train_df.drop([\"id\"], axis =1)\n",
        "X_val = val_df.drop([\"id\"], axis =1)\n",
        "\n",
        "X_train = pd.get_dummies(X_train, columns=['product_number', 'segment', 'prod_category'])\n",
        "X_val = pd.get_dummies(X_val, columns=['product_number', 'segment', 'prod_category'])"
      ]
    },
    {
      "cell_type": "code",
      "execution_count": 149,
      "metadata": {
        "id": "HamoIVI3EQER"
      },
      "outputs": [],
      "source": [
        "num_columns = [\"inventory_units\", \"year_week\", \"display_size\", \"sales_units\", \"specs\", \"Week sin\", \"Week cos\", \"Year sin\", \"Year cos\"]\n",
        "\n",
        "sub_X_train = X_train[num_columns]\n",
        "sub_X_val = X_val[num_columns]\n",
        "\n",
        "train_mean = sub_X_train.mean()\n",
        "train_std = sub_X_train.std()\n",
        "\n",
        "sub_X_train = (sub_X_train - train_mean) / train_std\n",
        "sub_X_val = (sub_X_val - train_mean) / train_std\n",
        "\n",
        "X_train[num_columns] = sub_X_train[num_columns]\n",
        "\n",
        "X_val[num_columns] = sub_X_val[num_columns]"
      ]
    },
    {
      "cell_type": "code",
      "source": [
        "def sliding_window(data, labels, input_width, label_width=1, offset=1):\n",
        "    x = []\n",
        "    y = []\n",
        "\n",
        "    for i in range(len(data)-input_width-label_width-offset):\n",
        "        _x = data[i:i+input_width]\n",
        "        _y = labels[i+input_width+offset:i+input_width+offset+label_width]\n",
        "        x.append(_x)\n",
        "        y.append(_y)\n",
        "\n",
        "    x, y = np.array(x),np.array(y)\n",
        "\n",
        "    if len(x.shape) == 2:\n",
        "        x = x[:,:,np.newaxis]\n",
        "\n",
        "    if len(y.shape) == 2:\n",
        "        y = y[:,:,np.newaxis]\n",
        "    \n",
        "    return x, y"
      ],
      "metadata": {
        "id": "Z34_7g2xE0iR"
      },
      "execution_count": 150,
      "outputs": []
    },
    {
      "cell_type": "markdown",
      "source": [
        "## Ventanas"
      ],
      "metadata": {
        "id": "xtaoTJbfFz1N"
      }
    },
    {
      "cell_type": "code",
      "source": [
        "class WindowGenerator():\n",
        "  def __init__(self, input_width, label_width, shift,\n",
        "               train, val, test,\n",
        "               label_columns=None):\n",
        "    # Store the raw data.\n",
        "    self.train_df = train\n",
        "    self.val_df = val\n",
        "    self.test_df = test\n",
        "\n",
        "    # Work out the label column indices.\n",
        "    self.label_columns = label_columns\n",
        "    if label_columns is not None:\n",
        "      self.label_columns_indices = {name: i for i, name in\n",
        "                                    enumerate(label_columns)}\n",
        "    self.column_indices = {name: i for i, name in\n",
        "                           enumerate(train.columns)}\n",
        "\n",
        "    # Work out the window parameters.\n",
        "    self.input_width = input_width\n",
        "    self.label_width = label_width\n",
        "    self.shift = shift\n",
        "\n",
        "    self.total_window_size = input_width + shift\n",
        "\n",
        "    self.input_slice = slice(0, input_width)\n",
        "    self.input_indices = np.arange(self.total_window_size)[self.input_slice]\n",
        "\n",
        "    self.label_start = self.total_window_size - self.label_width\n",
        "    self.labels_slice = slice(self.label_start, None)\n",
        "    self.label_indices = np.arange(self.total_window_size)[self.labels_slice]\n",
        "\n",
        "  def __repr__(self):\n",
        "    return '\\n'.join([\n",
        "        f'Total window size: {self.total_window_size}',\n",
        "        f'Input indices: {self.input_indices}',\n",
        "        f'Label indices: {self.label_indices}',\n",
        "        f'Label column name(s): {self.label_columns}'])\n",
        "    \n",
        "  @property\n",
        "  def train(self):\n",
        "    return self.make_dataset(self.train_df)\n",
        "\n",
        "  @property\n",
        "  def val(self):\n",
        "    return self.make_dataset(self.val_df)\n",
        "\n",
        "  @property\n",
        "  def test(self):\n",
        "    return self.make_dataset(self.test_df)\n",
        "\n",
        "  @property\n",
        "  def example(self):\n",
        "    \"\"\"Get and cache an example batch of `inputs, labels` for plotting.\"\"\"\n",
        "    result = getattr(self, '_example', None)\n",
        "    if result is None:\n",
        "      # No example batch was found, so get one from the `.train` dataset\n",
        "      result = next(iter(self.train))\n",
        "      # And cache it for next time\n",
        "      self._example = result\n",
        "    return result\n",
        "  \n",
        "  def make_dataset(self, data):\n",
        "    data = np.array(data, dtype=np.float32)\n",
        "    ds = tf.keras.utils.timeseries_dataset_from_array(\n",
        "        data=data,\n",
        "        targets=None,\n",
        "        sequence_length=self.total_window_size,\n",
        "        sequence_stride=1,\n",
        "        shuffle=True,\n",
        "        batch_size=32,)\n",
        "\n",
        "    ds = ds.map(self.split_window)\n",
        "\n",
        "    return ds"
      ],
      "metadata": {
        "id": "oQboRHeSF1iR"
      },
      "execution_count": 151,
      "outputs": []
    },
    {
      "cell_type": "code",
      "source": [
        "def split_window(self, features):\n",
        "  inputs = features[:, self.input_slice, :]\n",
        "  labels = features[:, self.labels_slice, :]\n",
        "  if self.label_columns is not None:\n",
        "    labels = tf.stack(\n",
        "        [labels[:, :, self.column_indices[name]] for name in self.label_columns],\n",
        "        axis=-1)\n",
        "\n",
        "  # Slicing doesn't preserve static shape information, so set the shapes\n",
        "  # manually. This way the `tf.data.Datasets` are easier to inspect.\n",
        "  inputs.set_shape([None, self.input_width, None])\n",
        "  labels.set_shape([None, self.label_width, None])\n",
        "\n",
        "  return inputs, labels\n",
        "\n",
        "WindowGenerator.split_window = split_window"
      ],
      "metadata": {
        "id": "uDCi1MmdGwxq"
      },
      "execution_count": 152,
      "outputs": []
    },
    {
      "cell_type": "markdown",
      "source": [
        "### Plot\n"
      ],
      "metadata": {
        "id": "WRGMbY5tJEpK"
      }
    },
    {
      "cell_type": "code",
      "source": [
        "def plot(self, model=None, plot_col='inventory_units', max_subplots=3):\n",
        "  inputs, labels = self.example\n",
        "  plt.figure(figsize=(12, 8))\n",
        "  plot_col_index = self.column_indices[plot_col]\n",
        "  max_n = min(max_subplots, len(inputs))\n",
        "  for n in range(max_n):\n",
        "    plt.subplot(max_n, 1, n+1)\n",
        "    plt.ylabel(f'{plot_col} [normed]')\n",
        "    plt.plot(self.input_indices, inputs[n, :, plot_col_index],\n",
        "             label='Inputs', marker='.', zorder=-10)\n",
        "\n",
        "    if self.label_columns:\n",
        "      label_col_index = self.label_columns_indices.get(plot_col, None)\n",
        "    else:\n",
        "      label_col_index = plot_col_index\n",
        "\n",
        "    if label_col_index is None:\n",
        "      continue\n",
        "\n",
        "    plt.scatter(self.label_indices, labels[n, :, label_col_index],\n",
        "                edgecolors='k', label='Labels', c='#2ca02c', s=64)\n",
        "    if model is not None:\n",
        "      predictions = model(inputs)\n",
        "      plt.scatter(self.label_indices, predictions[n, :, label_col_index],\n",
        "                  marker='X', edgecolors='k', label='Predictions',\n",
        "                  c='#ff7f0e', s=64)\n",
        "\n",
        "    if n == 0:\n",
        "      plt.legend()\n",
        "\n",
        "  plt.xlabel('Time [h]')"
      ],
      "metadata": {
        "id": "EAPK7OVBJJzm"
      },
      "execution_count": 153,
      "outputs": []
    },
    {
      "cell_type": "markdown",
      "source": [
        "### Baseline\n"
      ],
      "metadata": {
        "id": "ClJqgtvQKiMU"
      }
    },
    {
      "cell_type": "code",
      "source": [
        "lstm_model = tf.keras.models.Sequential([\n",
        "    tf.keras.layers.LSTM(units=32, return_sequences=True), \n",
        "    tf.keras.layers.LSTM(units=32, return_sequences=False),\n",
        "    tf.keras.layers.Dense(units=1)\n",
        "])"
      ],
      "metadata": {
        "id": "zjOz6VgzKi_J"
      },
      "execution_count": 154,
      "outputs": []
    },
    {
      "cell_type": "code",
      "source": [
        "multi_lstm_model = tf.keras.Sequential([\n",
        "    # Shape [batch, time, features] => [batch, lstm_units].\n",
        "    # Adding more `lstm_units` just overfits more quickly.\n",
        "    tf.keras.layers.LSTM(32, return_sequences=False),\n",
        "    # Shape => [batch, out_steps*features].\n",
        "    tf.keras.layers.Dense(24*num_features,\n",
        "                          kernel_initializer=tf.initializers.zeros()),\n",
        "    # Shape => [batch, out_steps, features].\n",
        "    tf.keras.layers.Reshape([24, num_features])\n",
        "])"
      ],
      "metadata": {
        "id": "xop59qUA6Lnk"
      },
      "execution_count": 157,
      "outputs": []
    },
    {
      "cell_type": "code",
      "source": [
        "MAX_EPOCHS = 50\n",
        "\n",
        "def compile_and_fit(model, window, patience=5):\n",
        "  early_stopping = tf.keras.callbacks.EarlyStopping(monitor='val_loss',\n",
        "                                                    patience=patience,\n",
        "                                                    mode='min')\n",
        "\n",
        "  model.compile(loss=tf.losses.MeanSquaredError(),\n",
        "                optimizer=tf.optimizers.Adam(),\n",
        "                metrics=[tf.metrics.RootMeanSquaredError()])\n",
        "\n",
        "  history = model.fit(window.train, epochs=MAX_EPOCHS,\n",
        "                      validation_data=window.val, callbacks=[early_stopping])\n",
        "  return history"
      ],
      "metadata": {
        "id": "MmNVCWbIShVG"
      },
      "execution_count": 158,
      "outputs": []
    },
    {
      "cell_type": "code",
      "source": [
        "wide_window = WindowGenerator(\n",
        "    input_width=24, label_width=24, shift=1,\n",
        "    label_columns=['inventory_units'], train = X_train, val = X_val, test = None)\n",
        "\n",
        "history = compile_and_fit(multi_lstm_model, wide_window)"
      ],
      "metadata": {
        "colab": {
          "base_uri": "https://localhost:8080/"
        },
        "id": "51LudnFWOoui",
        "outputId": "0ec3ed38-171e-41be-f259-20e8567e9838"
      },
      "execution_count": 159,
      "outputs": [
        {
          "output_type": "stream",
          "name": "stdout",
          "text": [
            "Epoch 1/50\n",
            "184/184 [==============================] - 9s 34ms/step - loss: 0.9170 - root_mean_squared_error: 0.9576 - val_loss: 1.3508 - val_root_mean_squared_error: 1.1622\n",
            "Epoch 2/50\n",
            "184/184 [==============================] - 4s 23ms/step - loss: 0.8003 - root_mean_squared_error: 0.8946 - val_loss: 1.1888 - val_root_mean_squared_error: 1.0903\n",
            "Epoch 3/50\n",
            "184/184 [==============================] - 5s 25ms/step - loss: 0.7222 - root_mean_squared_error: 0.8498 - val_loss: 1.1279 - val_root_mean_squared_error: 1.0620\n",
            "Epoch 4/50\n",
            "184/184 [==============================] - 5s 28ms/step - loss: 0.6751 - root_mean_squared_error: 0.8216 - val_loss: 1.0654 - val_root_mean_squared_error: 1.0322\n",
            "Epoch 5/50\n",
            "184/184 [==============================] - 4s 22ms/step - loss: 0.6343 - root_mean_squared_error: 0.7964 - val_loss: 1.0086 - val_root_mean_squared_error: 1.0043\n",
            "Epoch 6/50\n",
            "184/184 [==============================] - 5s 26ms/step - loss: 0.5999 - root_mean_squared_error: 0.7745 - val_loss: 0.9645 - val_root_mean_squared_error: 0.9821\n",
            "Epoch 7/50\n",
            "184/184 [==============================] - 5s 29ms/step - loss: 0.5727 - root_mean_squared_error: 0.7568 - val_loss: 0.9356 - val_root_mean_squared_error: 0.9673\n",
            "Epoch 8/50\n",
            "184/184 [==============================] - 5s 28ms/step - loss: 0.5493 - root_mean_squared_error: 0.7411 - val_loss: 0.8982 - val_root_mean_squared_error: 0.9477\n",
            "Epoch 9/50\n",
            "184/184 [==============================] - 4s 23ms/step - loss: 0.5252 - root_mean_squared_error: 0.7247 - val_loss: 0.8656 - val_root_mean_squared_error: 0.9304\n",
            "Epoch 10/50\n",
            "184/184 [==============================] - 6s 32ms/step - loss: 0.4990 - root_mean_squared_error: 0.7064 - val_loss: 0.8343 - val_root_mean_squared_error: 0.9134\n",
            "Epoch 11/50\n",
            "184/184 [==============================] - 4s 24ms/step - loss: 0.4745 - root_mean_squared_error: 0.6889 - val_loss: 0.7952 - val_root_mean_squared_error: 0.8917\n",
            "Epoch 12/50\n",
            "184/184 [==============================] - 6s 31ms/step - loss: 0.4560 - root_mean_squared_error: 0.6753 - val_loss: 0.7841 - val_root_mean_squared_error: 0.8855\n",
            "Epoch 13/50\n",
            "184/184 [==============================] - 4s 22ms/step - loss: 0.4412 - root_mean_squared_error: 0.6642 - val_loss: 0.7541 - val_root_mean_squared_error: 0.8684\n",
            "Epoch 14/50\n",
            "184/184 [==============================] - 5s 27ms/step - loss: 0.4273 - root_mean_squared_error: 0.6537 - val_loss: 0.7288 - val_root_mean_squared_error: 0.8537\n",
            "Epoch 15/50\n",
            "184/184 [==============================] - 5s 27ms/step - loss: 0.4172 - root_mean_squared_error: 0.6459 - val_loss: 0.7159 - val_root_mean_squared_error: 0.8461\n",
            "Epoch 16/50\n",
            "184/184 [==============================] - 4s 23ms/step - loss: 0.4046 - root_mean_squared_error: 0.6361 - val_loss: 0.6934 - val_root_mean_squared_error: 0.8327\n",
            "Epoch 17/50\n",
            "184/184 [==============================] - 5s 27ms/step - loss: 0.3920 - root_mean_squared_error: 0.6261 - val_loss: 0.6807 - val_root_mean_squared_error: 0.8251\n",
            "Epoch 18/50\n",
            "184/184 [==============================] - 4s 23ms/step - loss: 0.3812 - root_mean_squared_error: 0.6174 - val_loss: 0.6655 - val_root_mean_squared_error: 0.8158\n",
            "Epoch 19/50\n",
            "184/184 [==============================] - 6s 31ms/step - loss: 0.3688 - root_mean_squared_error: 0.6073 - val_loss: 0.6443 - val_root_mean_squared_error: 0.8027\n",
            "Epoch 20/50\n",
            "184/184 [==============================] - 4s 22ms/step - loss: 0.3588 - root_mean_squared_error: 0.5990 - val_loss: 0.6239 - val_root_mean_squared_error: 0.7899\n",
            "Epoch 21/50\n",
            "184/184 [==============================] - 5s 27ms/step - loss: 0.3493 - root_mean_squared_error: 0.5910 - val_loss: 0.6077 - val_root_mean_squared_error: 0.7796\n",
            "Epoch 22/50\n",
            "184/184 [==============================] - 5s 26ms/step - loss: 0.3372 - root_mean_squared_error: 0.5807 - val_loss: 0.5905 - val_root_mean_squared_error: 0.7685\n",
            "Epoch 23/50\n",
            "184/184 [==============================] - 4s 23ms/step - loss: 0.3257 - root_mean_squared_error: 0.5707 - val_loss: 0.5741 - val_root_mean_squared_error: 0.7577\n",
            "Epoch 24/50\n",
            "184/184 [==============================] - 5s 25ms/step - loss: 0.3176 - root_mean_squared_error: 0.5635 - val_loss: 0.5606 - val_root_mean_squared_error: 0.7487\n",
            "Epoch 25/50\n",
            "184/184 [==============================] - 5s 27ms/step - loss: 0.3033 - root_mean_squared_error: 0.5508 - val_loss: 0.5399 - val_root_mean_squared_error: 0.7347\n",
            "Epoch 26/50\n",
            "184/184 [==============================] - 4s 22ms/step - loss: 0.2930 - root_mean_squared_error: 0.5413 - val_loss: 0.5261 - val_root_mean_squared_error: 0.7254\n",
            "Epoch 27/50\n",
            "184/184 [==============================] - 5s 27ms/step - loss: 0.2864 - root_mean_squared_error: 0.5352 - val_loss: 0.5118 - val_root_mean_squared_error: 0.7154\n",
            "Epoch 28/50\n",
            "184/184 [==============================] - 5s 29ms/step - loss: 0.2757 - root_mean_squared_error: 0.5251 - val_loss: 0.4947 - val_root_mean_squared_error: 0.7034\n",
            "Epoch 29/50\n",
            "184/184 [==============================] - 4s 23ms/step - loss: 0.2650 - root_mean_squared_error: 0.5148 - val_loss: 0.4789 - val_root_mean_squared_error: 0.6920\n",
            "Epoch 30/50\n",
            "184/184 [==============================] - 5s 25ms/step - loss: 0.2573 - root_mean_squared_error: 0.5072 - val_loss: 0.4772 - val_root_mean_squared_error: 0.6908\n",
            "Epoch 31/50\n",
            "184/184 [==============================] - 6s 31ms/step - loss: 0.2489 - root_mean_squared_error: 0.4989 - val_loss: 0.4450 - val_root_mean_squared_error: 0.6671\n",
            "Epoch 32/50\n",
            "184/184 [==============================] - 4s 23ms/step - loss: 0.2390 - root_mean_squared_error: 0.4889 - val_loss: 0.4398 - val_root_mean_squared_error: 0.6632\n",
            "Epoch 33/50\n",
            "184/184 [==============================] - 5s 25ms/step - loss: 0.2333 - root_mean_squared_error: 0.4830 - val_loss: 0.4214 - val_root_mean_squared_error: 0.6492\n",
            "Epoch 34/50\n",
            "184/184 [==============================] - 5s 29ms/step - loss: 0.2252 - root_mean_squared_error: 0.4746 - val_loss: 0.4148 - val_root_mean_squared_error: 0.6440\n",
            "Epoch 35/50\n",
            "184/184 [==============================] - 4s 23ms/step - loss: 0.2168 - root_mean_squared_error: 0.4656 - val_loss: 0.4130 - val_root_mean_squared_error: 0.6427\n",
            "Epoch 36/50\n",
            "184/184 [==============================] - 5s 27ms/step - loss: 0.2114 - root_mean_squared_error: 0.4598 - val_loss: 0.4000 - val_root_mean_squared_error: 0.6325\n",
            "Epoch 37/50\n",
            "184/184 [==============================] - 5s 26ms/step - loss: 0.2055 - root_mean_squared_error: 0.4534 - val_loss: 0.3804 - val_root_mean_squared_error: 0.6168\n",
            "Epoch 38/50\n",
            "184/184 [==============================] - 4s 22ms/step - loss: 0.1986 - root_mean_squared_error: 0.4456 - val_loss: 0.3763 - val_root_mean_squared_error: 0.6135\n",
            "Epoch 39/50\n",
            "184/184 [==============================] - 5s 27ms/step - loss: 0.1954 - root_mean_squared_error: 0.4420 - val_loss: 0.3698 - val_root_mean_squared_error: 0.6081\n",
            "Epoch 40/50\n",
            "184/184 [==============================] - 5s 26ms/step - loss: 0.1906 - root_mean_squared_error: 0.4366 - val_loss: 0.3662 - val_root_mean_squared_error: 0.6051\n",
            "Epoch 41/50\n",
            "184/184 [==============================] - 4s 23ms/step - loss: 0.1837 - root_mean_squared_error: 0.4286 - val_loss: 0.3501 - val_root_mean_squared_error: 0.5917\n",
            "Epoch 42/50\n",
            "184/184 [==============================] - 5s 26ms/step - loss: 0.1772 - root_mean_squared_error: 0.4210 - val_loss: 0.3356 - val_root_mean_squared_error: 0.5793\n",
            "Epoch 43/50\n",
            "184/184 [==============================] - 5s 26ms/step - loss: 0.1719 - root_mean_squared_error: 0.4146 - val_loss: 0.3250 - val_root_mean_squared_error: 0.5701\n",
            "Epoch 44/50\n",
            "184/184 [==============================] - 4s 23ms/step - loss: 0.1644 - root_mean_squared_error: 0.4054 - val_loss: 0.3210 - val_root_mean_squared_error: 0.5666\n",
            "Epoch 45/50\n",
            "184/184 [==============================] - 5s 25ms/step - loss: 0.1587 - root_mean_squared_error: 0.3984 - val_loss: 0.3077 - val_root_mean_squared_error: 0.5547\n",
            "Epoch 46/50\n",
            "184/184 [==============================] - 5s 28ms/step - loss: 0.1504 - root_mean_squared_error: 0.3879 - val_loss: 0.2889 - val_root_mean_squared_error: 0.5375\n",
            "Epoch 47/50\n",
            "184/184 [==============================] - 5s 27ms/step - loss: 0.1450 - root_mean_squared_error: 0.3808 - val_loss: 0.2833 - val_root_mean_squared_error: 0.5322\n",
            "Epoch 48/50\n",
            "184/184 [==============================] - 5s 27ms/step - loss: 0.1377 - root_mean_squared_error: 0.3711 - val_loss: 0.2715 - val_root_mean_squared_error: 0.5211\n",
            "Epoch 49/50\n",
            "184/184 [==============================] - 4s 23ms/step - loss: 0.1352 - root_mean_squared_error: 0.3677 - val_loss: 0.2676 - val_root_mean_squared_error: 0.5173\n",
            "Epoch 50/50\n",
            "184/184 [==============================] - 4s 24ms/step - loss: 0.1304 - root_mean_squared_error: 0.3611 - val_loss: 0.2685 - val_root_mean_squared_error: 0.5182\n"
          ]
        }
      ]
    },
    {
      "cell_type": "code",
      "source": [
        "multi_lstm_model.save('./model.h5')"
      ],
      "metadata": {
        "id": "N-Ckx0wunwFZ"
      },
      "execution_count": 162,
      "outputs": []
    },
    {
      "cell_type": "code",
      "source": [],
      "metadata": {
        "id": "AZvNn8BGOruh"
      },
      "execution_count": 160,
      "outputs": []
    },
    {
      "cell_type": "code",
      "source": [],
      "metadata": {
        "id": "4XFw-RZdQ6D8"
      },
      "execution_count": 160,
      "outputs": []
    },
    {
      "cell_type": "markdown",
      "source": [
        "## LTSM"
      ],
      "metadata": {
        "id": "2wR8wHzOEkOA"
      }
    },
    {
      "cell_type": "code",
      "source": [
        "import tensorflow as tf\n",
        "\n",
        "lstm_model = tf.keras.models.Sequential([\n",
        "    tf.keras.layers.LSTM(units=64, return_sequences=True), \n",
        "    tf.keras.layers.LSTM(units=32, return_sequences=True), \n",
        "    tf.keras.layers.LSTM(units=32, return_sequences=False),\n",
        "    tf.keras.layers.Dense(units=1)\n",
        "])"
      ],
      "metadata": {
        "id": "3roacyrlEoqG"
      },
      "execution_count": 161,
      "outputs": []
    }
  ],
  "metadata": {
    "colab": {
      "provenance": []
    },
    "kernelspec": {
      "display_name": "Python 3 (ipykernel)",
      "language": "python",
      "name": "python3"
    },
    "language_info": {
      "codemirror_mode": {
        "name": "ipython",
        "version": 3
      },
      "file_extension": ".py",
      "mimetype": "text/x-python",
      "name": "python",
      "nbconvert_exporter": "python",
      "pygments_lexer": "ipython3",
      "version": "3.10.6"
    },
    "accelerator": "TPU",
    "gpuClass": "standard"
  },
  "nbformat": 4,
  "nbformat_minor": 0
}